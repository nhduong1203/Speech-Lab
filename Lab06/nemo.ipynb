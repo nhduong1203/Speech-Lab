{
 "cells": [
  {
   "cell_type": "code",
   "execution_count": null,
   "metadata": {},
   "outputs": [],
   "source": [
    "import nemo.collections.tts as nemo_tts\n",
    "import matplotlib.pyplot as plt\n",
    "import numpy as np\n",
    "import torch\n",
    "\n",
    "# Load Tacotron2 model\n",
    "tacotron2 = nemo_tts.models.Tacotron2.from_pretrained(\"tacotron2\")\n",
    "\n",
    "# Define the text to convert\n",
    "text = \"Hello, this is a test sentence for Tacotron2.\"\n",
    "\n",
    "# Convert text to tensor\n",
    "text_input = tacotron2.parse(text)\n",
    "\n",
    "# Generate the spectrogram\n",
    "spectrogram = tacotron2.text_to_spectrogram(text_input)\n",
    "\n",
    "# Convert to numpy array for visualization\n",
    "spec_np = spectrogram.cpu().numpy()\n",
    "\n",
    "# Plot and save the spectrogram\n",
    "plt.imshow(spec_np, aspect='auto', origin='lower')\n",
    "plt.title('Spectrogram')\n",
    "plt.xlabel('Time')\n",
    "plt.ylabel('Frequency')\n",
    "plt.colorbar()\n",
    "plt.savefig('spectrogram.png')\n",
    "plt.show()"
   ]
  }
 ],
 "metadata": {
  "language_info": {
   "name": "python"
  }
 },
 "nbformat": 4,
 "nbformat_minor": 2
}
