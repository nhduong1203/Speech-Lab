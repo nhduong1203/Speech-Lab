{
 "cells": [
  {
   "cell_type": "code",
   "execution_count": 1,
   "metadata": {},
   "outputs": [],
   "source": [
    "import librosa"
   ]
  },
  {
   "cell_type": "code",
   "execution_count": 2,
   "metadata": {},
   "outputs": [
    {
     "name": "stdout",
     "output_type": "stream",
     "text": [
      "\u001b[0m\u001b[01;34mconf\u001b[0m/  \u001b[01;34mLJSpeech\u001b[0m/  make_dataset.ipynb  \u001b[01;34mscripts\u001b[0m/  tacotron2.py  TTS.ipynb\n"
     ]
    }
   ],
   "source": [
    "ls"
   ]
  },
  {
   "cell_type": "code",
   "execution_count": 7,
   "metadata": {},
   "outputs": [],
   "source": [
    "import csv\n",
    "import json\n",
    "\n",
    "# Sample input as a string\n",
    "input_data = \"\"\"\n",
    "LJ001-0011|it is of the first importance that the letter used should be fine in form;|it is of the first importance that the letter used should be fine in form;\n",
    "LJ001-0012|especially as no more time is occupied, or cost incurred, in casting, setting, or printing beautiful letters|especially as no more time is occupied, or cost incurred, in casting, setting, or printing beautiful letters\n",
    "LJ001-0013|than in the same operations with ugly ones.|than in the same operations with ugly ones.\n",
    "LJ001-0014|And it was a matter of course that in the Middle Ages, when the craftsmen took care that beautiful form should always be a part of their productions whatever they were,|And it was a matter of course that in the Middle Ages, when the craftsmen took care that beautiful form should always be a part of their productions whatever they were,\n",
    "LJ001-0015|the forms of printed letters should be beautiful, and that their arrangement on the page should be reasonable and a help to the shapeliness of the letters themselves.|the forms of printed letters should be beautiful, and that their arrangement on the page should be reasonable and a help to the shapeliness of the letters themselves.\n",
    "\"\"\"\n",
    "\n",
    "# Split input data into lines\n",
    "lines = input_data.strip().split('\\n')\n",
    "\n",
    "# Create a list to store the final result\n",
    "output_data = []\n",
    "\n",
    "# Iterate through each line\n",
    "for i, line in enumerate(lines):\n",
    "    # Split the line by \"|\"\n",
    "    parts = line.split('|')\n",
    "    \n",
    "    # Assuming audio file paths are sequential and durations are made-up for now\n",
    "    audio_filepath = f\"./LJSpeech/valid/wavs/{parts[0]}.wav\"\n",
    "    text = parts[1]\n",
    "    y, sr = librosa.load(audio_filepath, sr=None)\n",
    "    duration_seconds = librosa.get_duration(y=y, sr=sr)\n",
    "    \n",
    "    \n",
    "    # Create a dictionary with the transformed data\n",
    "    entry = {\n",
    "        \"audio_filepath\": audio_filepath,\n",
    "        \"text\": text,\n",
    "        \"duration\": duration_seconds\n",
    "    }\n",
    "    \n",
    "    # Append to the output list\n",
    "    output_data.append(entry)\n",
    "\n",
    "# Output the results as JSON strings\n",
    "with open(\"valid.json\", \"w\", encoding='utf-8') as f:\n",
    "    for entry in output_data:\n",
    "        f.write(json.dumps(entry, ensure_ascii=False, indent=4))\n",
    "        f.write(\"\\n\")  # Optional: Add a newline for better readability\n"
   ]
  }
 ],
 "metadata": {
  "kernelspec": {
   "display_name": "env",
   "language": "python",
   "name": "python3"
  },
  "language_info": {
   "codemirror_mode": {
    "name": "ipython",
    "version": 3
   },
   "file_extension": ".py",
   "mimetype": "text/x-python",
   "name": "python",
   "nbconvert_exporter": "python",
   "pygments_lexer": "ipython3",
   "version": "3.11.6"
  }
 },
 "nbformat": 4,
 "nbformat_minor": 2
}
