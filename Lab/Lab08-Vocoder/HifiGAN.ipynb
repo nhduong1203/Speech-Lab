{
 "cells": [
  {
   "cell_type": "markdown",
   "metadata": {},
   "source": [
    "# Hifi GAN"
   ]
  },
  {
   "cell_type": "code",
   "execution_count": 1,
   "metadata": {},
   "outputs": [
    {
     "name": "stderr",
     "output_type": "stream",
     "text": [
      "[NeMo W 2024-09-22 17:15:50 nemo_logging:393] /home/levi/Speech-Course-Lab/env/lib/python3.11/site-packages/megatron/core/tensor_parallel/layers.py:253: FutureWarning: `torch.cuda.amp.custom_fwd(args...)` is deprecated. Please use `torch.amp.custom_fwd(args..., device_type='cuda')` instead.\n",
      "      @custom_fwd\n",
      "    \n",
      "[NeMo W 2024-09-22 17:15:50 nemo_logging:393] /home/levi/Speech-Course-Lab/env/lib/python3.11/site-packages/megatron/core/tensor_parallel/layers.py:264: FutureWarning: `torch.cuda.amp.custom_bwd(args...)` is deprecated. Please use `torch.amp.custom_bwd(args..., device_type='cuda')` instead.\n",
      "      @custom_bwd\n",
      "    \n",
      "[NeMo W 2024-09-22 17:15:50 nemo_logging:393] /home/levi/Speech-Course-Lab/env/lib/python3.11/site-packages/megatron/core/tensor_parallel/layers.py:324: FutureWarning: `torch.cuda.amp.custom_fwd(args...)` is deprecated. Please use `torch.amp.custom_fwd(args..., device_type='cuda')` instead.\n",
      "      @custom_fwd\n",
      "    \n",
      "[NeMo W 2024-09-22 17:15:50 nemo_logging:393] /home/levi/Speech-Course-Lab/env/lib/python3.11/site-packages/megatron/core/tensor_parallel/layers.py:359: FutureWarning: `torch.cuda.amp.custom_bwd(args...)` is deprecated. Please use `torch.amp.custom_bwd(args..., device_type='cuda')` instead.\n",
      "      @custom_bwd\n",
      "    \n",
      "[NeMo W 2024-09-22 17:15:52 nemo_logging:393] /home/levi/Speech-Course-Lab/env/lib/python3.11/site-packages/nemo/collections/tts/modules/common.py:206: FutureWarning: `torch.cuda.amp.autocast(args...)` is deprecated. Please use `torch.amp.autocast('cuda', args...)` instead.\n",
      "      @amp.autocast(False)\n",
      "    \n",
      "[NeMo W 2024-09-22 17:15:55 nemo_logging:393] If you intend to do training or fine-tuning, please call the ModelPT.setup_training_data() method and provide a valid configuration file to setup the train data loader.\n",
      "    Train config : \n",
      "    dataset:\n",
      "      _target_: nemo.collections.tts.data.datalayers.MelAudioDataset\n",
      "      manifest_filepath: /home/fkreuk/data/train_finetune.txt\n",
      "      min_duration: 0.75\n",
      "      n_segments: 8192\n",
      "    dataloader_params:\n",
      "      drop_last: false\n",
      "      shuffle: true\n",
      "      batch_size: 64\n",
      "      num_workers: 4\n",
      "    \n",
      "[NeMo W 2024-09-22 17:15:55 nemo_logging:393] If you intend to do validation, please call the ModelPT.setup_validation_data() or ModelPT.setup_multiple_validation_data() method and provide a valid configuration file to setup the validation data loader(s). \n",
      "    Validation config : \n",
      "    dataset:\n",
      "      _target_: nemo.collections.tts.data.datalayers.MelAudioDataset\n",
      "      manifest_filepath: /home/fkreuk/data/val_finetune.txt\n",
      "      min_duration: 3\n",
      "      n_segments: 66150\n",
      "    dataloader_params:\n",
      "      drop_last: false\n",
      "      shuffle: false\n",
      "      batch_size: 5\n",
      "      num_workers: 4\n",
      "    \n",
      "[NeMo W 2024-09-22 17:15:55 nemo_logging:393] Using torch_stft is deprecated and has been removed. The values have been forcibly set to False for FilterbankFeatures and AudioToMelSpectrogramPreprocessor. Please set exact_pad to True as needed.\n"
     ]
    },
    {
     "name": "stdout",
     "output_type": "stream",
     "text": [
      "[NeMo I 2024-09-22 17:15:55 nemo_logging:381] PADDING: 0\n"
     ]
    },
    {
     "name": "stderr",
     "output_type": "stream",
     "text": [
      "[NeMo W 2024-09-22 17:15:55 nemo_logging:393] Using torch_stft is deprecated and has been removed. The values have been forcibly set to False for FilterbankFeatures and AudioToMelSpectrogramPreprocessor. Please set exact_pad to True as needed.\n"
     ]
    },
    {
     "name": "stdout",
     "output_type": "stream",
     "text": [
      "[NeMo I 2024-09-22 17:15:55 nemo_logging:381] PADDING: 0\n"
     ]
    },
    {
     "name": "stderr",
     "output_type": "stream",
     "text": [
      "[NeMo W 2024-09-22 17:15:55 nemo_logging:393] /home/levi/Speech-Course-Lab/env/lib/python3.11/site-packages/torch/nn/utils/weight_norm.py:134: FutureWarning: `torch.nn.utils.weight_norm` is deprecated in favor of `torch.nn.utils.parametrizations.weight_norm`.\n",
      "      WeightNorm.apply(module, name, dim)\n",
      "    \n",
      "[NeMo W 2024-09-22 17:15:55 nemo_logging:393] /home/levi/Speech-Course-Lab/env/lib/python3.11/site-packages/nemo/core/connectors/save_restore_connector.py:571: FutureWarning: You are using `torch.load` with `weights_only=False` (the current default value), which uses the default pickle module implicitly. It is possible to construct malicious pickle data which will execute arbitrary code during unpickling (See https://github.com/pytorch/pytorch/blob/main/SECURITY.md#untrusted-models for more details). In a future release, the default value for `weights_only` will be flipped to `True`. This limits the functions that could be executed during unpickling. Arbitrary objects will no longer be allowed to be loaded via this mode unless they are explicitly allowlisted by the user via `torch.serialization.add_safe_globals`. We recommend you start setting `weights_only=True` for any use case where you don't have full control of the loaded file. Please open an issue on GitHub for any issues related to this experimental feature.\n",
      "      return torch.load(model_weights, map_location='cpu')\n",
      "    \n"
     ]
    },
    {
     "name": "stdout",
     "output_type": "stream",
     "text": [
      "[NeMo I 2024-09-22 17:15:56 nemo_logging:381] Model HifiGanModel was successfully restored from /home/levi/.cache/huggingface/hub/models--nvidia--tts_hifigan/snapshots/3ba1fed954276287015654bf4c78060ffc9a4772/tts_hifigan.nemo.\n"
     ]
    }
   ],
   "source": [
    "from nemo.collections.tts.models import HifiGanModel\n",
    "model = HifiGanModel.from_pretrained(model_name=\"nvidia/tts_hifigan\")"
   ]
  },
  {
   "cell_type": "markdown",
   "metadata": {},
   "source": [
    "# Generate Mel dataset"
   ]
  },
  {
   "cell_type": "code",
   "execution_count": null,
   "metadata": {},
   "outputs": [],
   "source": [
    "import json\n",
    "manifest = \"./LJSpeech/valid/valid.json\"\n",
    "entries = []\n",
    "with open(manifest, \"r\") as fjson:\n",
    "    for line in fjson:\n",
    "        entries.append(json.loads(line.strip()))"
   ]
  },
  {
   "cell_type": "code",
   "execution_count": null,
   "metadata": {},
   "outputs": [],
   "source": [
    "# Load the Tacotron2Model\n",
    "from nemo.collections.tts.models import Tacotron2Model\n",
    "from nemo.collections.tts.models.base import SpectrogramGenerator\n",
    "spec_generator = SpectrogramGenerator.from_pretrained(\"tts_en_tacotron2\")"
   ]
  },
  {
   "cell_type": "code",
   "execution_count": 48,
   "metadata": {},
   "outputs": [],
   "source": [
    "def __generate_mels(entry, spec_model, device):\n",
    "    audio = __load_wav(entry[\"audio_filepath\"]).to(device)  # Load audio and move to the device\n",
    "    audio_len = torch.tensor(audio.shape[1], dtype=torch.long, device=device).unsqueeze(0)\n",
    "    with torch.no_grad():\n",
    "        parsed = spec_model.parse(entry['text'])\n",
    "        text_len = torch.tensor(text.shape[-1], dtype=torch.long, device=device).unsqueeze(0)\n",
    "        spect = spec_model.generate_spectrogram(tokens=parsed)\n",
    "\n",
    "        audio_path = entry['audio_filepath'][22:][:-4]\n",
    "        mel_path = f'./meldataset/valid/{audio_path}.npy'\n",
    "        np.save(mel_path, spect[0].to('cpu').detach().numpy())\n",
    "\n",
    "for entry in entries:\n",
    "    __generate_mels(entry, spec_model, device)"
   ]
  },
  {
   "cell_type": "markdown",
   "metadata": {},
   "source": [
    "## Fast Pitch\n"
   ]
  },
  {
   "cell_type": "code",
   "execution_count": 51,
   "metadata": {},
   "outputs": [],
   "source": [
    "from nemo.collections.tts.parts.utils.tts_dataset_utils import (\n",
    "    BetaBinomialInterpolator,\n",
    "    beta_binomial_prior_distribution,\n",
    ")\n",
    "def __load_wav(audio_file):\n",
    "    with sf.SoundFile(audio_file, 'r') as f:\n",
    "        samples = f.read(dtype='float32')\n",
    "    return samples.transpose()\n",
    "\n",
    "\n",
    "def __generate_mels(entry, spec_model, device, train, use_beta_binomial_interpolator):\n",
    "    # Generate a spectrograms (we need to use ground truth alignment for correct matching between audio and mels)\n",
    "    audio = __load_wav(entry[\"audio_filepath\"])\n",
    "    audio = torch.from_numpy(audio).unsqueeze(0).to(device)\n",
    "    audio_len = torch.tensor(audio.shape[1], dtype=torch.long, device=device).unsqueeze(0)\n",
    "\n",
    "    with torch.no_grad():\n",
    "        text = spec_model.parse(entry['text'])\n",
    "        text_len = torch.tensor(text.shape[-1], dtype=torch.long, device=device).unsqueeze(0)\n",
    "        spect, spect_len = spec_model.preprocessor(input_signal=audio, length=audio_len)\n",
    "\n",
    "        # Generate attention prior and spectrogram inputs for HiFi-GAN\n",
    "        if use_beta_binomial_interpolator:\n",
    "            beta_binomial_interpolator = BetaBinomialInterpolator()\n",
    "            attn_prior = (\n",
    "                torch.from_numpy(beta_binomial_interpolator(spect_len.item(), text_len.item()))\n",
    "                .unsqueeze(0)\n",
    "                .to(text.device)\n",
    "            )\n",
    "        else:\n",
    "            attn_prior = (\n",
    "                torch.from_numpy(beta_binomial_prior_distribution(text_len.item(), spect_len.item()))\n",
    "                .unsqueeze(0)\n",
    "                .to(text.device)\n",
    "            )\n",
    "\n",
    "        spectrogram = spec_model.forward(\n",
    "            text=text, input_lens=text_len, spec=spect, mel_lens=spect_len, attn_prior=attn_prior\n",
    "        )[0]\n",
    "        if train:\n",
    "            mel_path = f'./meldataset-fastpitch/train/{audio_path}.npy'\n",
    "        else:\n",
    "            mel_path = f'./meldataset-fastpitch/valid/{audio_path}.npy'\n",
    "        np.save(mel_path, spectrogram[0].to('cpu').detach().numpy())\n",
    "        entry[\"mel_filepath\"] = str(mel_path)\n",
    "    return  entry\n"
   ]
  },
  {
   "cell_type": "code",
   "execution_count": null,
   "metadata": {},
   "outputs": [],
   "source": [
    "from nemo.collections.tts.models import FastPitchModel\n",
    "spec_generator = FastPitchModel.from_pretrained(\"tts_en_fastpitch\")"
   ]
  },
  {
   "cell_type": "code",
   "execution_count": 54,
   "metadata": {},
   "outputs": [
    {
     "name": "stderr",
     "output_type": "stream",
     "text": [
      "[NeMo W 2024-09-23 16:35:08 nemo_logging:393] /home/levi/Speech-Course-Lab/env/lib/python3.11/site-packages/nemo/collections/asr/parts/preprocessing/features.py:417: FutureWarning: `torch.cuda.amp.autocast(args...)` is deprecated. Please use `torch.amp.autocast('cuda', args...)` instead.\n",
      "      with torch.cuda.amp.autocast(enabled=False):\n",
      "    \n"
     ]
    }
   ],
   "source": [
    "text = spec_model.parse(entry['text'])\n",
    "text_len = torch.tensor(text.shape[-1], dtype=torch.long, device=device).unsqueeze(0)\n",
    "spect, spect_len = spec_generator.preprocessor(input_signal=audio, length=audio_len)"
   ]
  },
  {
   "cell_type": "code",
   "execution_count": 55,
   "metadata": {},
   "outputs": [],
   "source": [
    "use_beta_binomial_interpolator = True\n",
    "if use_beta_binomial_interpolator:\n",
    "    beta_binomial_interpolator = BetaBinomialInterpolator()\n",
    "    attn_prior = (\n",
    "        torch.from_numpy(beta_binomial_interpolator(spect_len.item(), text_len.item()))\n",
    "        .unsqueeze(0)\n",
    "        .to(text.device)\n",
    "    )\n",
    "else:\n",
    "    attn_prior = (\n",
    "        torch.from_numpy(beta_binomial_prior_distribution(text_len.item(), spect_len.item()))\n",
    "        .unsqueeze(0)\n",
    "        .to(text.device)\n",
    "    )"
   ]
  },
  {
   "cell_type": "code",
   "execution_count": 59,
   "metadata": {},
   "outputs": [
    {
     "data": {
      "text/plain": [
       "tensor([[[-7.6340, -6.8896, -6.3471,  ..., -7.7915, -7.9398, -7.6211],\n",
       "         [-7.2663, -6.5574, -5.7835,  ..., -7.0151, -7.1644, -7.1354],\n",
       "         [-7.0367, -6.1788, -5.2900,  ..., -6.5786, -6.6716, -6.8804],\n",
       "         ...,\n",
       "         [-7.4785, -6.4077, -6.0738,  ..., -6.7966, -7.3465, -7.5854],\n",
       "         [-7.5187, -6.2881, -5.9374,  ..., -6.9806, -7.4701, -7.7482],\n",
       "         [-7.6504, -6.1538, -5.7567,  ..., -7.2051, -7.7050, -8.0217]]],\n",
       "       grad_fn=<TransposeBackward0>)"
      ]
     },
     "execution_count": 59,
     "metadata": {},
     "output_type": "execute_result"
    }
   ],
   "source": [
    "spectrogram = spec_generator.forward(\n",
    "    text=text, input_lens=text_len, spec=spect, mel_lens=spect_len, attn_prior=attn_prior\n",
    ")[0]\n",
    "spectrogram"
   ]
  },
  {
   "cell_type": "code",
   "execution_count": null,
   "metadata": {},
   "outputs": [],
   "source": [
    "import json\n",
    "train_entries = []\n",
    "with open(\"./LJSpeech/train/train.json\", \"r\") as fjson:\n",
    "    for line in fjson:\n",
    "        entries.append(json.loads(line.strip()))\n",
    "__generate_mels(entries, spec_model, 'cpu', True, True)"
   ]
  },
  {
   "cell_type": "code",
   "execution_count": null,
   "metadata": {},
   "outputs": [],
   "source": [
    "!(python examples/tts/hifigan_finetune.py \\\n",
    "--config-name=hifigan.yaml \\\n",
    "model.train_ds.dataloader_params.batch_size=32 \\\n",
    "model.max_steps=1000 \\\n",
    "model.optim.lr=0.00001 \\\n",
    "~model.optim.sched \\\n",
    "train_dataset={hifigan_train_ds} \\\n",
    "validation_datasets={hifigan_val_ds} \\\n",
    "exp_manager.exp_dir={os.environ[\"RESULTS_DIR\"]} \\\n",
    "+init_from_pretrained_model=tts_hifigan \\\n",
    "trainer.check_val_every_n_epoch=10 \\\n",
    "model/train_ds=train_ds_finetune \\\n",
    "model/validation_ds=val_ds_finetune)"
   ]
  },
  {
   "cell_type": "markdown",
   "metadata": {},
   "source": [
    "# Training Hifi-GAN"
   ]
  },
  {
   "cell_type": "code",
   "execution_count": null,
   "metadata": {},
   "outputs": [],
   "source": [
    "import pytorch_lightning as pl\n",
    "\n",
    "from nemo.collections.tts.models import HifiGanModel\n",
    "from nemo.core.config import hydra_runner\n",
    "from nemo.utils.exp_manager import exp_manager\n",
    "\n",
    "\n",
    "@hydra_runner(config_path=\"conf/hifigan\", config_name=\"hifigan\")\n",
    "def main(cfg):\n",
    "    trainer = pl.Trainer(**cfg.trainer)\n",
    "    exp_manager(trainer, cfg.get(\"exp_manager\", None))\n",
    "    model = HifiGanModel(cfg=cfg.model, trainer=trainer)\n",
    "    trainer.fit(model)"
   ]
  },
  {
   "cell_type": "markdown",
   "metadata": {},
   "source": []
  }
 ],
 "metadata": {
  "kernelspec": {
   "display_name": "env",
   "language": "python",
   "name": "python3"
  },
  "language_info": {
   "codemirror_mode": {
    "name": "ipython",
    "version": 3
   },
   "file_extension": ".py",
   "mimetype": "text/x-python",
   "name": "python",
   "nbconvert_exporter": "python",
   "pygments_lexer": "ipython3",
   "version": "3.11.6"
  }
 },
 "nbformat": 4,
 "nbformat_minor": 2
}
