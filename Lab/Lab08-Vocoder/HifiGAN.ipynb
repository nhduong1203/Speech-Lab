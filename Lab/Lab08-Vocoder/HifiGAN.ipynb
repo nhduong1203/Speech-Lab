{
 "cells": [
  {
   "cell_type": "markdown",
   "metadata": {},
   "source": [
    "# Hifi GAN"
   ]
  },
  {
   "cell_type": "code",
   "execution_count": 1,
   "metadata": {},
   "outputs": [
    {
     "name": "stderr",
     "output_type": "stream",
     "text": [
      "[NeMo W 2024-08-27 19:07:32 nemo_logging:393] /home/levi/Speech-Course-Lab/env/lib/python3.11/site-packages/megatron/core/tensor_parallel/layers.py:253: FutureWarning: `torch.cuda.amp.custom_fwd(args...)` is deprecated. Please use `torch.amp.custom_fwd(args..., device_type='cuda')` instead.\n",
      "      @custom_fwd\n",
      "    \n",
      "[NeMo W 2024-08-27 19:07:32 nemo_logging:393] /home/levi/Speech-Course-Lab/env/lib/python3.11/site-packages/megatron/core/tensor_parallel/layers.py:264: FutureWarning: `torch.cuda.amp.custom_bwd(args...)` is deprecated. Please use `torch.amp.custom_bwd(args..., device_type='cuda')` instead.\n",
      "      @custom_bwd\n",
      "    \n",
      "[NeMo W 2024-08-27 19:07:32 nemo_logging:393] /home/levi/Speech-Course-Lab/env/lib/python3.11/site-packages/megatron/core/tensor_parallel/layers.py:324: FutureWarning: `torch.cuda.amp.custom_fwd(args...)` is deprecated. Please use `torch.amp.custom_fwd(args..., device_type='cuda')` instead.\n",
      "      @custom_fwd\n",
      "    \n",
      "[NeMo W 2024-08-27 19:07:32 nemo_logging:393] /home/levi/Speech-Course-Lab/env/lib/python3.11/site-packages/megatron/core/tensor_parallel/layers.py:359: FutureWarning: `torch.cuda.amp.custom_bwd(args...)` is deprecated. Please use `torch.amp.custom_bwd(args..., device_type='cuda')` instead.\n",
      "      @custom_bwd\n",
      "    \n",
      "[NeMo W 2024-08-27 19:07:33 nemo_logging:393] /home/levi/Speech-Course-Lab/env/lib/python3.11/site-packages/pydub/utils.py:170: RuntimeWarning: Couldn't find ffmpeg or avconv - defaulting to ffmpeg, but may not work\n",
      "      warn(\"Couldn't find ffmpeg or avconv - defaulting to ffmpeg, but may not work\", RuntimeWarning)\n",
      "    \n",
      "[NeMo W 2024-08-27 19:07:35 nemo_logging:393] /home/levi/Speech-Course-Lab/env/lib/python3.11/site-packages/nemo/collections/tts/modules/common.py:206: FutureWarning: `torch.cuda.amp.autocast(args...)` is deprecated. Please use `torch.amp.autocast('cuda', args...)` instead.\n",
      "      @amp.autocast(False)\n",
      "    \n"
     ]
    },
    {
     "data": {
      "application/vnd.jupyter.widget-view+json": {
       "model_id": "12a653d533b8417aafd63b3ac7d32655",
       "version_major": 2,
       "version_minor": 0
      },
      "text/plain": [
       "tts_hifigan.nemo:   0%|          | 0.00/315M [00:00<?, ?B/s]"
      ]
     },
     "metadata": {},
     "output_type": "display_data"
    },
    {
     "name": "stderr",
     "output_type": "stream",
     "text": [
      "[NeMo W 2024-08-27 19:07:47 nemo_logging:393] If you intend to do training or fine-tuning, please call the ModelPT.setup_training_data() method and provide a valid configuration file to setup the train data loader.\n",
      "    Train config : \n",
      "    dataset:\n",
      "      _target_: nemo.collections.tts.data.datalayers.MelAudioDataset\n",
      "      manifest_filepath: /home/fkreuk/data/train_finetune.txt\n",
      "      min_duration: 0.75\n",
      "      n_segments: 8192\n",
      "    dataloader_params:\n",
      "      drop_last: false\n",
      "      shuffle: true\n",
      "      batch_size: 64\n",
      "      num_workers: 4\n",
      "    \n",
      "[NeMo W 2024-08-27 19:07:47 nemo_logging:393] If you intend to do validation, please call the ModelPT.setup_validation_data() or ModelPT.setup_multiple_validation_data() method and provide a valid configuration file to setup the validation data loader(s). \n",
      "    Validation config : \n",
      "    dataset:\n",
      "      _target_: nemo.collections.tts.data.datalayers.MelAudioDataset\n",
      "      manifest_filepath: /home/fkreuk/data/val_finetune.txt\n",
      "      min_duration: 3\n",
      "      n_segments: 66150\n",
      "    dataloader_params:\n",
      "      drop_last: false\n",
      "      shuffle: false\n",
      "      batch_size: 5\n",
      "      num_workers: 4\n",
      "    \n",
      "[NeMo W 2024-08-27 19:07:47 nemo_logging:393] Using torch_stft is deprecated and has been removed. The values have been forcibly set to False for FilterbankFeatures and AudioToMelSpectrogramPreprocessor. Please set exact_pad to True as needed.\n"
     ]
    },
    {
     "name": "stdout",
     "output_type": "stream",
     "text": [
      "[NeMo I 2024-08-27 19:07:47 nemo_logging:381] PADDING: 0\n"
     ]
    },
    {
     "name": "stderr",
     "output_type": "stream",
     "text": [
      "[NeMo W 2024-08-27 19:07:47 nemo_logging:393] Using torch_stft is deprecated and has been removed. The values have been forcibly set to False for FilterbankFeatures and AudioToMelSpectrogramPreprocessor. Please set exact_pad to True as needed.\n"
     ]
    },
    {
     "name": "stdout",
     "output_type": "stream",
     "text": [
      "[NeMo I 2024-08-27 19:07:47 nemo_logging:381] PADDING: 0\n"
     ]
    },
    {
     "name": "stderr",
     "output_type": "stream",
     "text": [
      "[NeMo W 2024-08-27 19:07:47 nemo_logging:393] /home/levi/Speech-Course-Lab/env/lib/python3.11/site-packages/torch/nn/utils/weight_norm.py:134: FutureWarning: `torch.nn.utils.weight_norm` is deprecated in favor of `torch.nn.utils.parametrizations.weight_norm`.\n",
      "      WeightNorm.apply(module, name, dim)\n",
      "    \n",
      "[NeMo W 2024-08-27 19:07:48 nemo_logging:393] /home/levi/Speech-Course-Lab/env/lib/python3.11/site-packages/nemo/core/connectors/save_restore_connector.py:571: FutureWarning: You are using `torch.load` with `weights_only=False` (the current default value), which uses the default pickle module implicitly. It is possible to construct malicious pickle data which will execute arbitrary code during unpickling (See https://github.com/pytorch/pytorch/blob/main/SECURITY.md#untrusted-models for more details). In a future release, the default value for `weights_only` will be flipped to `True`. This limits the functions that could be executed during unpickling. Arbitrary objects will no longer be allowed to be loaded via this mode unless they are explicitly allowlisted by the user via `torch.serialization.add_safe_globals`. We recommend you start setting `weights_only=True` for any use case where you don't have full control of the loaded file. Please open an issue on GitHub for any issues related to this experimental feature.\n",
      "      return torch.load(model_weights, map_location='cpu')\n",
      "    \n"
     ]
    },
    {
     "name": "stdout",
     "output_type": "stream",
     "text": [
      "[NeMo I 2024-08-27 19:07:48 nemo_logging:381] Model HifiGanModel was successfully restored from /home/levi/.cache/huggingface/hub/models--nvidia--tts_hifigan/snapshots/3ba1fed954276287015654bf4c78060ffc9a4772/tts_hifigan.nemo.\n"
     ]
    }
   ],
   "source": [
    "from nemo.collections.tts.models import HifiGanModel\n",
    "model = HifiGanModel.from_pretrained(model_name=\"nvidia/tts_hifigan\")"
   ]
  },
  {
   "cell_type": "markdown",
   "metadata": {},
   "source": [
    "# Generate Mel dataset"
   ]
  },
  {
   "cell_type": "code",
   "execution_count": null,
   "metadata": {},
   "outputs": [],
   "source": [
    "import math\n",
    "import os\n",
    "import random\n",
    "import torch\n",
    "import torch.utils.data\n",
    "import numpy as np\n",
    "from librosa.util import normalize\n",
    "from scipy.io.wavfile import read\n",
    "from librosa.filters import mel as librosa_mel_fn\n",
    "\n",
    "MAX_WAV_VALUE = 32768.0\n",
    "\n",
    "\n",
    "def load_wav(full_path):\n",
    "    sampling_rate, data = read(full_path)\n",
    "    return data, sampling_rate\n",
    "\n",
    "\n",
    "def dynamic_range_compression(x, C=1, clip_val=1e-5):\n",
    "    return np.log(np.clip(x, a_min=clip_val, a_max=None) * C)\n",
    "\n",
    "\n",
    "def dynamic_range_decompression(x, C=1):\n",
    "    return np.exp(x) / C\n",
    "\n",
    "\n",
    "def dynamic_range_compression_torch(x, C=1, clip_val=1e-5):\n",
    "    return torch.log(torch.clamp(x, min=clip_val) * C)\n",
    "\n",
    "\n",
    "def dynamic_range_decompression_torch(x, C=1):\n",
    "    return torch.exp(x) / C\n",
    "\n",
    "\n",
    "def spectral_normalize_torch(magnitudes):\n",
    "    output = dynamic_range_compression_torch(magnitudes)\n",
    "    return output\n",
    "\n",
    "\n",
    "def spectral_de_normalize_torch(magnitudes):\n",
    "    output = dynamic_range_decompression_torch(magnitudes)\n",
    "    return output\n",
    "\n",
    "\n",
    "mel_basis = {}\n",
    "hann_window = {}\n",
    "\n",
    "\n",
    "def mel_spectrogram(y, n_fft, num_mels, sampling_rate, hop_size, win_size, fmin, fmax, center=False):\n",
    "    if torch.min(y) < -1.:\n",
    "        print('min value is ', torch.min(y))\n",
    "    if torch.max(y) > 1.:\n",
    "        print('max value is ', torch.max(y))\n",
    "\n",
    "    global mel_basis, hann_window\n",
    "    if fmax not in mel_basis:\n",
    "        mel = librosa_mel_fn(sampling_rate, n_fft, num_mels, fmin, fmax)\n",
    "        mel_basis[str(fmax)+'_'+str(y.device)] = torch.from_numpy(mel).float().to(y.device)\n",
    "        hann_window[str(y.device)] = torch.hann_window(win_size).to(y.device)\n",
    "\n",
    "    y = torch.nn.functional.pad(y.unsqueeze(1), (int((n_fft-hop_size)/2), int((n_fft-hop_size)/2)), mode='reflect')\n",
    "    y = y.squeeze(1)\n",
    "\n",
    "    spec = torch.stft(y, n_fft, hop_length=hop_size, win_length=win_size, window=hann_window[str(y.device)],\n",
    "                      center=center, pad_mode='reflect', normalized=False, onesided=True)\n",
    "\n",
    "    spec = torch.sqrt(spec.pow(2).sum(-1)+(1e-9))\n",
    "\n",
    "    spec = torch.matmul(mel_basis[str(fmax)+'_'+str(y.device)], spec)\n",
    "    spec = spectral_normalize_torch(spec)\n",
    "\n",
    "    return spec\n",
    "\n",
    "\n",
    "def get_dataset_filelist(a):\n",
    "    with open(a.input_training_file, 'r', encoding='utf-8') as fi:\n",
    "        training_files = [os.path.join(a.input_wavs_dir, x.split('|')[0] + '.wav')\n",
    "                          for x in fi.read().split('\\n') if len(x) > 0]\n",
    "\n",
    "    with open(a.input_validation_file, 'r', encoding='utf-8') as fi:\n",
    "        validation_files = [os.path.join(a.input_wavs_dir, x.split('|')[0] + '.wav')\n",
    "                            for x in fi.read().split('\\n') if len(x) > 0]\n",
    "    return training_files, validation_files\n",
    "\n",
    "\n",
    "class MelDataset(torch.utils.data.Dataset):\n",
    "    def __init__(self, training_files, segment_size, n_fft, num_mels,\n",
    "                 hop_size, win_size, sampling_rate,  fmin, fmax, split=True, shuffle=True, n_cache_reuse=1,\n",
    "                 device=None, fmax_loss=None, fine_tuning=False, base_mels_path=None):\n",
    "        self.audio_files = training_files\n",
    "        random.seed(1234)\n",
    "        if shuffle:\n",
    "            random.shuffle(self.audio_files)\n",
    "        self.segment_size = segment_size\n",
    "        self.sampling_rate = sampling_rate\n",
    "        self.split = split\n",
    "        self.n_fft = n_fft\n",
    "        self.num_mels = num_mels\n",
    "        self.hop_size = hop_size\n",
    "        self.win_size = win_size\n",
    "        self.fmin = fmin\n",
    "        self.fmax = fmax\n",
    "        self.fmax_loss = fmax_loss\n",
    "        self.cached_wav = None\n",
    "        self.n_cache_reuse = n_cache_reuse\n",
    "        self._cache_ref_count = 0\n",
    "        self.device = device\n",
    "        self.fine_tuning = fine_tuning\n",
    "        self.base_mels_path = base_mels_path\n",
    "\n",
    "    def __getitem__(self, index):\n",
    "        filename = self.audio_files[index]\n",
    "        if self._cache_ref_count == 0:\n",
    "            audio, sampling_rate = load_wav(filename)\n",
    "            audio = audio / MAX_WAV_VALUE\n",
    "            if not self.fine_tuning:\n",
    "                audio = normalize(audio) * 0.95\n",
    "            self.cached_wav = audio\n",
    "            if sampling_rate != self.sampling_rate:\n",
    "                raise ValueError(\"{} SR doesn't match target {} SR\".format(\n",
    "                    sampling_rate, self.sampling_rate))\n",
    "            self._cache_ref_count = self.n_cache_reuse\n",
    "        else:\n",
    "            audio = self.cached_wav\n",
    "            self._cache_ref_count -= 1\n",
    "\n",
    "        audio = torch.FloatTensor(audio)\n",
    "        audio = audio.unsqueeze(0)\n",
    "\n",
    "        if not self.fine_tuning:\n",
    "            if self.split:\n",
    "                if audio.size(1) >= self.segment_size:\n",
    "                    max_audio_start = audio.size(1) - self.segment_size\n",
    "                    audio_start = random.randint(0, max_audio_start)\n",
    "                    audio = audio[:, audio_start:audio_start+self.segment_size]\n",
    "                else:\n",
    "                    audio = torch.nn.functional.pad(audio, (0, self.segment_size - audio.size(1)), 'constant')\n",
    "\n",
    "            mel = mel_spectrogram(audio, self.n_fft, self.num_mels,\n",
    "                                  self.sampling_rate, self.hop_size, self.win_size, self.fmin, self.fmax,\n",
    "                                  center=False)\n",
    "        else:\n",
    "            mel = np.load(\n",
    "                os.path.join(self.base_mels_path, os.path.splitext(os.path.split(filename)[-1])[0] + '.npy'))\n",
    "            mel = torch.from_numpy(mel)\n",
    "\n",
    "            if len(mel.shape) < 3:\n",
    "                mel = mel.unsqueeze(0)\n",
    "\n",
    "            if self.split:\n",
    "                frames_per_seg = math.ceil(self.segment_size / self.hop_size)\n",
    "\n",
    "                if audio.size(1) >= self.segment_size:\n",
    "                    mel_start = random.randint(0, mel.size(2) - frames_per_seg - 1)\n",
    "                    mel = mel[:, :, mel_start:mel_start + frames_per_seg]\n",
    "                    audio = audio[:, mel_start * self.hop_size:(mel_start + frames_per_seg) * self.hop_size]\n",
    "                else:\n",
    "                    mel = torch.nn.functional.pad(mel, (0, frames_per_seg - mel.size(2)), 'constant')\n",
    "                    audio = torch.nn.functional.pad(audio, (0, self.segment_size - audio.size(1)), 'constant')\n",
    "\n",
    "        mel_loss = mel_spectrogram(audio, self.n_fft, self.num_mels,\n",
    "                                   self.sampling_rate, self.hop_size, self.win_size, self.fmin, self.fmax_loss,\n",
    "                                   center=False)\n",
    "\n",
    "        return (mel.squeeze(), audio.squeeze(0), filename, mel_loss.squeeze())\n",
    "\n",
    "    def __len__(self):\n",
    "        return len(self.audio_files)"
   ]
  },
  {
   "cell_type": "code",
   "execution_count": null,
   "metadata": {},
   "outputs": [],
   "source": [
    "import pytorch_lightning as pl\n",
    "\n",
    "from nemo.collections.tts.models import HifiGanModel\n",
    "from nemo.core.config import hydra_runner\n",
    "from nemo.utils.exp_manager import exp_manager\n",
    "\n",
    "\n",
    "@hydra_runner(config_path=\"conf/hifigan\", config_name=\"hifigan\")\n",
    "def main(cfg):\n",
    "    trainer = pl.Trainer(**cfg.trainer)\n",
    "    exp_manager(trainer, cfg.get(\"exp_manager\", None))\n",
    "    model = HifiGanModel(cfg=cfg.model, trainer=trainer)\n",
    "    trainer.fit(model)"
   ]
  },
  {
   "cell_type": "markdown",
   "metadata": {},
   "source": []
  }
 ],
 "metadata": {
  "kernelspec": {
   "display_name": "env",
   "language": "python",
   "name": "python3"
  },
  "language_info": {
   "codemirror_mode": {
    "name": "ipython",
    "version": 3
   },
   "file_extension": ".py",
   "mimetype": "text/x-python",
   "name": "python",
   "nbconvert_exporter": "python",
   "pygments_lexer": "ipython3",
   "version": "3.11.6"
  }
 },
 "nbformat": 4,
 "nbformat_minor": 2
}
