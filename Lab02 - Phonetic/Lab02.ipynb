{
 "cells": [
  {
   "cell_type": "markdown",
   "metadata": {},
   "source": [
    "# Convert English texts into the phonetics\n",
    "\n",
    "Converting English texts into phonetics involves translating written words into their corresponding phonetic representations. Phonetics is the branch of linguistics that studies the sounds of human speech, known as phonemes.\n",
    "\n",
    "## Install library\n",
    "\n",
    "To convert English text to phonetic transcription, you can use various libraries designed for phonetic conversion and speech processing.\n",
    "- nltk\n",
    "- pronouncing\n",
    "- eng_to_ipa\n",
    "- ...\n",
    "\n",
    "\n",
    "To install required packages in this lab, run:\n",
    "```bash\n",
    "pip install requirements.txt\n",
    "```\n",
    "\n",
    "1. `eng_to_ipa`\n",
    "\n",
    "`eng_to_ipa` is a straightforward library for converting English text into IPA transcriptions.\n"
   ]
  },
  {
   "cell_type": "code",
   "execution_count": 1,
   "metadata": {},
   "outputs": [
    {
     "name": "stdout",
     "output_type": "stream",
     "text": [
      "hɛˈloʊ, haʊ ər ju?\n"
     ]
    }
   ],
   "source": [
    "import eng_to_ipa as ipa\n",
    "\n",
    "text = \"Hello, how are you?\"\n",
    "phonemes = ipa.convert(text)\n",
    "print(phonemes)\n"
   ]
  },
  {
   "cell_type": "markdown",
   "metadata": {},
   "source": [
    "2. `pronouncing`\n",
    "\n",
    "`pronouncing` is a library that uses the CMU Pronouncing Dictionary to provide phonetic transcriptions for English words. This library focuses on word-level pronunciation, making it useful for applications like poetry or rhyming."
   ]
  },
  {
   "cell_type": "code",
   "execution_count": 2,
   "metadata": {},
   "outputs": [
    {
     "name": "stdout",
     "output_type": "stream",
     "text": [
      "['HH AH0 L OW1', 'HH EH0 L OW1']\n"
     ]
    }
   ],
   "source": [
    "import pronouncing\n",
    "\n",
    "# Get phonetic transcription of a word\n",
    "word = \"hello\"\n",
    "phones = pronouncing.phones_for_word(word)\n",
    "\n",
    "print(phones)"
   ]
  },
  {
   "cell_type": "markdown",
   "metadata": {},
   "source": [
    "3. `nltk` (with CMU Pronouncing Dictionary)\n",
    "\n",
    "The `nltk` (Natural Language Toolkit) library also includes access to the CMU Pronouncing Dictionary, which can be used to get phonetic transcriptions for English words."
   ]
  },
  {
   "cell_type": "code",
   "execution_count": 4,
   "metadata": {},
   "outputs": [
    {
     "name": "stderr",
     "output_type": "stream",
     "text": [
      "[nltk_data] Downloading package cmudict to /home/levi/nltk_data...\n",
      "[nltk_data]   Unzipping corpora/cmudict.zip.\n"
     ]
    },
    {
     "name": "stdout",
     "output_type": "stream",
     "text": [
      "[['HH', 'AH0', 'L', 'OW1'], ['HH', 'EH0', 'L', 'OW1']]\n"
     ]
    }
   ],
   "source": [
    "import nltk\n",
    "from nltk.corpus import cmudict\n",
    "\n",
    "# Download CMU Pronouncing Dictionary\n",
    "nltk.download('cmudict')\n",
    "\n",
    "# Load dictionary\n",
    "d = cmudict.dict()\n",
    "\n",
    "# Get phonetic transcription of a word\n",
    "word = \"hello\"\n",
    "phonetic_transcription = d.get(word)\n",
    "\n",
    "print(phonetic_transcription)\n"
   ]
  }
 ],
 "metadata": {
  "kernelspec": {
   "display_name": "env",
   "language": "python",
   "name": "python3"
  },
  "language_info": {
   "codemirror_mode": {
    "name": "ipython",
    "version": 3
   },
   "file_extension": ".py",
   "mimetype": "text/x-python",
   "name": "python",
   "nbconvert_exporter": "python",
   "pygments_lexer": "ipython3",
   "version": "3.11.6"
  }
 },
 "nbformat": 4,
 "nbformat_minor": 2
}
