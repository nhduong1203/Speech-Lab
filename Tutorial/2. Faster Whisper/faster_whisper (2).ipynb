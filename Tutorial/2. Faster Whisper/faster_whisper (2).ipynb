{
  "cells": [
    {
      "cell_type": "markdown",
      "metadata": {
        "id": "Mhkv19W6QBXg"
      },
      "source": [
        "# Introduction to Faster Whisper \n",
        "\n",
        "## Whisper: Robust Speech Recognition via Large-Scale Weak Supervision\n",
        "\n",
        "Whisper, developed by OpenAI, excels in Automatic Speech Recognition (ASR) tasks by demonstrating high performance and strong generalization across datasets and domains without requiring fine-tuning. Its strength lies in training on an extensive dataset of 680,000 hours of multilingual and multitask supervised data sourced from the web. This dataset includes audio paired with existing transcriptions, such as videos with transcriptions provided by owners on platforms like YouTube. This approach minimizes the effort spent on labeling data and instead focuses on data cleaning, hence termed \"Weak Supervision.\"\n",
        "\n",
        "At the core of Whisper is a Transformer-based sequence-to-sequence model trained across various speech processing tasks: multilingual speech recognition, speech translation, spoken language identification, and voice activity detection. This diversity makes Whisper a robust ASR model.\n",
        "\n",
        "## CTranslate2 and Faster-Whisper: Optimizing Transformer Model Inference\n",
        "\n",
        "CTranslate2 is a C++ and Python library designed for efficient inference with Transformer models. Engineered for high performance, it incorporates optimizations such as weight quantization, layer fusion, and batch reordering. These optimizations enhance speed and minimize memory usage on both CPUs and GPUs.\n",
        "\n",
        "CTranslate2 supports a diverse array of model types, catering to various needs:\n",
        "\n",
        "- **Encoder-decoder** models like Transformer base/big, M2M-100, and Whisper.\n",
        "- **Decoder-only** models such as GPT-2, GPT-J, and BERT.\n",
        "- **Encoder-only** models like BERT and XLM-RoBERTa.\n",
        "\n",
        "Faster-Whisper utilizes the Whisper model implemented with CTranslate, offering up to 4 times faster inference speeds with reduced memory usage compared to openai/whisper, while maintaining the same accuracy. Further efficiency gains are achievable through 8-bit quantization on both CPU and GPU.\n",
        "\n",
        "## What's make it fast?\n",
        "\n",
        "- Optimized Execution: The framework achieves fast and efficient execution on both CPU and GPU through a variety of advanced optimizations. These include layer fusion, padding removal, batch reordering, in-place operations, and caching mechanisms, resulting in reduced resource consumption compared to general-purpose deep learning frameworks.\n",
        "\n",
        "- Quantization and Precision Reduction: The framework supports model serialization and computation with weights of reduced precision, including 16-bit floating-point (FP16), 16-bit brain floating-point (BF16), 16-bit integer (INT16), 8-bit integer (INT8), and AWQ quantization (INT4). These techniques contribute to improved performance and reduced model size.\n",
        "\n",
        "## Benchmark\n",
        "\n",
        "For reference, here's the time and memory usage that are required to transcribe 13 minutes of audio using different implementations.\n",
        "\n",
        "- Large-v2 model on GPU\n",
        "\n",
        "\n",
        "| Implementation   | Precision | Beam size | Time   | Max. GPU memory | Max. CPU memory |\n",
        "|------------------|-----------|-----------|--------|-----------------|-----------------|\n",
        "| openai/whisper   |    fp16    |        5   |  4m30s |      11325MB    |      9439MB     |\n",
        "| faster-whisper   |    fp16    |        5   |    54s |       4755MB    |      3244MB     |\n",
        "| faster-whisper   |    int8    |        5   |    59s |       3091MB    |      3117MB     |\n",
        "\n",
        "\n",
        "- Small model on CPU\n",
        "  \n",
        "| Implementation   | Precision | Beam size | Time    | Max. memory |\n",
        "|------------------|-----------|-----------|---------|-------------|\n",
        "| openai/whisper   | fp32      | 5         | 10m31s  | 3101MB      |\n",
        "| whisper.cpp      | fp32      | 5         | 17m42s  | 1581MB      |\n",
        "| whisper.cpp      | fp16      | 5         | 12m39s  | 873MB       |\n",
        "| faster-whisper   | fp32      | 5         | 2m44s   | 1675MB      |\n",
        "| faster-whisper   | int8      | 5         | 2m04s   | 995MB       |\n"
      ]
    },
    {
      "cell_type": "markdown",
      "metadata": {
        "id": "a11uqi6TSvmm"
      },
      "source": [
        "3. \n",
        "- Support for Multiple CPU Architectures: The system is compatible with x86-64 and AArch64/ARM64 processors, incorporating multiple optimized backends such as Intel MKL, oneDNN, OpenBLAS, Ruy, and Apple Accelerate. This ensures broad compatibility and efficient execution across different platforms.\n",
        "\n",
        "- Automatic CPU Detection and Code Dispatch: The binary is designed to include multiple backends (e.g., Intel MKL and oneDNN) and instruction set architectures (e.g., AVX, AVX2). The appropriate backend and instruction set are automatically selected at runtime based on the detected CPU configuration.\n",
        "\n",
        "- Parallel and Asynchronous Execution: The framework supports parallel and asynchronous processing of multiple batches using multiple GPUs or CPU cores, enabling efficient handling of large-scale computations.\n",
        "\n",
        "- Dynamic Memory Management: Memory usage is dynamically adjusted according to request size, facilitated by caching allocators for both CPU and GPU. This approach ensures that performance requirements are met while optimizing memory utilization.\n",
        "\n",
        "- Reduced Disk Footprint: Quantization techniques can reduce model sizes on disk by up to four times with minimal loss in accuracy, contributing to more efficient storage and deployment.\n",
        "\n",
        "- Simple Integration: The project features minimal dependencies and provides straightforward APIs in Python and C++ for ease of integration, covering a broad range of integration scenarios.\n",
        "\n",
        "- Configurable and Interactive Decoding: The framework offers advanced decoding capabilities, including the ability to autocomplete partial sequences and return alternative outputs at specific points in the sequence, enhancing flexibility and accuracy in inference.\n",
        "\n",
        "- Tensor Parallelism for Distributed Inference: For very large models, the framework supports tensor parallelism, allowing models to be distributed across multiple GPUs. The documentation provides detailed instructions for setting up the necessary environment for distributed inference."
      ]
    },
    {
      "cell_type": "markdown",
      "metadata": {
        "id": "pxf49wJjb09S"
      },
      "source": [
        "# CTranslate2 Whisper"
      ]
    },
    {
      "cell_type": "markdown",
      "metadata": {
        "id": "w1FHYrGCIt2w"
      },
      "source": [
        "## Preparation\n",
        "\n",
        "To install Ctranslate2, run:"
      ]
    },
    {
      "cell_type": "code",
      "execution_count": 2,
      "metadata": {
        "colab": {
          "base_uri": "https://localhost:8080/"
        },
        "collapsed": true,
        "id": "Zy_WExF6b53s",
        "outputId": "dc3747f3-b975-4e64-b811-9196da65741a"
      },
      "outputs": [],
      "source": [
        "!pip install git+https://github.com/openai/whisper.git --quiet\n",
        "!pip install transformers[torch]>=4.23 --quiet\n",
        "!pip install --upgrade ctranslate2 --quiet"
      ]
    },
    {
      "cell_type": "markdown",
      "metadata": {
        "id": "GibdJNlO6ZbU"
      },
      "source": [
        "## Import libaries"
      ]
    },
    {
      "cell_type": "code",
      "execution_count": 16,
      "metadata": {
        "collapsed": true,
        "id": "Ut77zwrlf7id"
      },
      "outputs": [],
      "source": [
        "import whisper\n",
        "import numpy as np\n",
        "import librosa\n",
        "import torchaudio\n",
        "from transformers import WhisperTokenizer, WhisperProcessor\n",
        "import torch\n",
        "import ctranslate2"
      ]
    },
    {
      "cell_type": "markdown",
      "metadata": {},
      "source": [
        "Load audio and extract waveform, mel-spectrogram."
      ]
    },
    {
      "cell_type": "code",
      "execution_count": 44,
      "metadata": {},
      "outputs": [],
      "source": [
        "def load_audio(file_path, sr=16000):\n",
        "    \"\"\"\n",
        "    Load audio file and convert it to the expected sample rate (16kHz).\n",
        "    \"\"\"\n",
        "    audio, sample_rate = librosa.load(file_path, sr=sr)\n",
        "    return audio, sample_rate\n",
        "\n",
        "def compute_mel_spectrogram(audio, sample_rate=16000):\n",
        "    \"\"\"\n",
        "    Compute the mel spectrogram from audio.\n",
        "    \"\"\"\n",
        "    # Using torchaudio for mel spectrogram conversion\n",
        "    waveform = torch.tensor(audio).unsqueeze(0)\n",
        "    mel_spec_transform = torchaudio.transforms.MelSpectrogram(sample_rate=sample_rate, n_mels=80)\n",
        "    mel_spectrogram = mel_spec_transform(waveform).squeeze(0).numpy()\n",
        "    return mel_spectrogram\n",
        "\n",
        "# Load audio and compute mel spectrogram\n",
        "audio_file_path = './test_audio.wav'\n",
        "text = \"he is currently completing a film titled helloween\"\n",
        "audio, sample_rate = load_audio(audio_file_path)\n",
        "mel_spectrogram = compute_mel_spectrogram(audio, sample_rate)"
      ]
    },
    {
      "cell_type": "markdown",
      "metadata": {},
      "source": [
        "## Convert Whisper model to Ctranslate2 Whisper "
      ]
    },
    {
      "cell_type": "markdown",
      "metadata": {
        "id": "x1mdaHZhJH_c"
      },
      "source": [
        "Whisper model and processor comes in various versions including whisper-tiny, whisper-small, whisper-base, whisper-large-v1, whisper-large-v2, and whisper-large-v3. You can load Whisper model from Hungging Face Hub using:"
      ]
    },
    {
      "cell_type": "code",
      "execution_count": 33,
      "metadata": {
        "colab": {
          "base_uri": "https://localhost:8080/",
          "height": 432,
          "referenced_widgets": [
            "f0df680ee5484cfc947bdaaa16f39535",
            "8496accf7e6147d891d3ad0d4c2039cc",
            "d3fb72a5d58a41ddb69259fe3708cfc4",
            "7727738b371a43d7aed39e8bd449e69b",
            "dc64eaaaeace4668855c9b765185a513",
            "4b4a4d4352524264b4d9cc3d2d55a318",
            "689914e9e96f462ea48e44aea5ec86bd",
            "67ae7e9c45c349a4a18ea7d2094eca45",
            "6e7dd07ee8fe4abba49b1143c2ae3933",
            "974ea2a4fa4e4cd88907fa580f63a73e",
            "b0d3bcfb6e9b425dbeb1b04d176e2c46",
            "7605b1828e004fc08d5e9017f357cfd1",
            "ff90735f90614bb7aa3865875798242f",
            "8c15aa3b39d54c74b3598b7f485230e2",
            "132bcc97c8c249a99c43714358b3f6dc",
            "56988f1251104c468f697c1c503e015e",
            "6eabb05a58ca45f19e86b62059acad07",
            "a2d5d2bcb66c48dcb834706e4ac095ad",
            "bb01724524034c8abfe9eb949b47cb78",
            "7d7db6e8ac2f4426bd9c26f9c80817ae",
            "c8d3f46c83744d52bb0a1885453bcee0",
            "0d885d29b0044db789cc1f10d1c34d7a",
            "bf275399e3144234adb06ce3ce3cab0c",
            "8fe498fff8b24d4fb3f92f4bdaa428dd",
            "eb293fa6bae043e9a2e67035e0684ae1",
            "c6ddc856f0044ae993a537fc65a349bc",
            "931f4d8547b74e8d844de0fe18fdd0b1",
            "bc23dde5c5b748fcb9b227a6e42bd354",
            "a5c60dd914954e84b7293ce4689d0174",
            "7b60fb6b37c04fc1a9d40675ac2bc1b9",
            "cce3cf63e1e342e885ba249d392958b0",
            "b8812b76411a4eefa73e6b4845135085",
            "7f23f280e7384b2198efec08c9a56bd5",
            "1baf59292cd04649b299f5abf15e30f1",
            "d05904542e5d4179a8768763718bb16d",
            "2b7315d0c54c4d868cfddee1666e67f6",
            "091cca0b502549b4884519af2be7aa9d",
            "7cf08fdc549348a7bfe5d8bd282e3b4d",
            "d98c5ffa08e94b959bdcc26a2ab21166",
            "8ac8099101fb49899cb7edbfe7eaae85",
            "b69eeef38e7b4a3e85998e7fd530a659",
            "aa3380107d914fd6a99996813b4058d3",
            "6cdbe4832aa245319f094fa442267f52",
            "c34d27ea99c746409103fde501550a63",
            "77361e68ca1547e7a5626979c2523880",
            "585f8213df0b4385ab161cad27ca51e3",
            "80bc715520bb4bc382f668d43888049a",
            "7afecf8eef30445fa7fa79340b66ce2a",
            "5d3039a50b204e2b9ada34abdbcdb821",
            "473145318f9b49f7ac85108df482d628",
            "df7955a92f354bbd82fb835c59955c3b",
            "6e9d2a9878f547d995405c157133263a",
            "5fcafb7c4e1749eea5e4c1f313dd31fb",
            "5e28e9f7052342d6ab0c3ea77ec935a6",
            "479cb7196e8d4f22971a47e92d0e85a8",
            "85ff23e4ea174f229250f8933b397d98",
            "bcd8b661cf5f4472a0e1c05390461d5d",
            "a2d729557a174d9c8c83ee25d0699675",
            "21480f0600b64b869ba30e9c6a13f7ef",
            "53ad79a89b734951a3c06ebe835c48d8",
            "0e7c3edd05d346cc9f0d1b04f3b38ed1",
            "c0a02d6dd1e04085afab3e4b16c1c80e",
            "b4a2011d4d834896acb2e554e0427b41",
            "c9fa9b7654984e65906954daf8c97552",
            "1106ad50794846f58e1e59b41daca63c",
            "47753494ca87494090536c619ebcd90b",
            "8ac31de203b2469c8ef647ea76344a8b",
            "8fe5e54ba72e415f93e2bca90d4e6304",
            "19b7022ad70341cd86720ea2d5af6f42",
            "3c4006bb33454e28aa342e497240c574",
            "3ad3d07f653a4ad7a54ea733abe312d0",
            "a4dd52b1bd4540ad99f792a150f573fc",
            "8f7914cb03c542f193848457f25c7f2e",
            "9ccfacac5470412d9bf46e87939d05a8",
            "15df4cde8ceb45bc9f939718b6d4f9df",
            "4a923b50324642f5bb231cbf64fb5c02",
            "23b7056b1cd0418dae0b99874856e6ea",
            "9858c744c4da49cb90045972cdbabdf7",
            "c143b73537b148c48f5fbdf94ed45cc0",
            "5aa4630372a545bdaa8aa13adf8dded9",
            "3f13467489184532bb376c16a0def59a",
            "12a38487bde94716bf528c319fed2d5e",
            "304b81f81733462695a4c8cfb0355d6c",
            "eba608eb6de54a21a8c7a0cec51c0ab3",
            "2847dbd0ec0d49dcb0964a4d97e87a80",
            "545e2e50c28644549b176296dbee87aa",
            "22dec3634ca14a73b1045fe673bdd37a",
            "c4a74d4c7932499b988dd16d9265897f"
          ]
        },
        "id": "pbIvrGqrI9bg",
        "outputId": "ba5c7ba4-8361-4905-a945-823d95ff8971"
      },
      "outputs": [],
      "source": [
        "processor = WhisperProcessor.from_pretrained(\"openai/whisper-base\")\n",
        "tokenizer = processor.tokenizer"
      ]
    },
    {
      "cell_type": "markdown",
      "metadata": {
        "id": "Qe4jB4KD7Ftl"
      },
      "source": [
        "CTranslate2 provide command to converts the Whisper model to the CTranslate2 format, saves it in the whisper-base directory, copies the specified configuration files, applies float16 quantization, and overwrites any existing files."
      ]
    },
    {
      "cell_type": "code",
      "execution_count": 8,
      "metadata": {
        "colab": {
          "base_uri": "https://localhost:8080/"
        },
        "id": "PsHQbiXypkqY",
        "outputId": "4aa55ce2-f81f-4685-aaf8-a904e0e695b9"
      },
      "outputs": [
        {
          "name": "stdout",
          "output_type": "stream",
          "text": [
            "config.json: 100%|█████████████████████████| 1.98k/1.98k [00:00<00:00, 7.93MB/s]\n",
            "model.safetensors: 100%|█████████████████████| 290M/290M [00:11<00:00, 24.5MB/s]\n",
            "generation_config.json: 100%|██████████████| 3.81k/3.81k [00:00<00:00, 33.3MB/s]\n"
          ]
        }
      ],
      "source": [
        "#The original model was converted with the following command:\n",
        "!ct2-transformers-converter --model openai/whisper-base --output_dir whisper-base \\\n",
        "    --copy_files tokenizer.json preprocessor_config.json --quantization float16 --force"
      ]
    },
    {
      "cell_type": "markdown",
      "metadata": {},
      "source": [
        "## CTranslate2 Whisper\n"
      ]
    },
    {
      "cell_type": "markdown",
      "metadata": {
        "id": "ipxVKSnYM-ey"
      },
      "source": [
        "Load the Ctranslate2 Whisper model using the code below and set it up to run on the CPU. Alternatively, it is possible to use a GPU by setting the device variable to \"cuda\"."
      ]
    },
    {
      "cell_type": "code",
      "execution_count": 29,
      "metadata": {
        "id": "TyZQUo6IqXwy"
      },
      "outputs": [
        {
          "name": "stderr",
          "output_type": "stream",
          "text": [
            "[2024-09-15 13:46:50.762] [ctranslate2] [thread 62125] [warning] The compute type inferred from the saved model is float16, but the target device or backend do not support efficient float16 computation. The model weights have been automatically converted to use the float32 compute type instead.\n"
          ]
        }
      ],
      "source": [
        "translator = ctranslate2.models.Whisper(\"./whisper-base\", device=\"cpu\")"
      ]
    },
    {
      "cell_type": "markdown",
      "metadata": {
        "id": "60G6CZMIZFrJ"
      },
      "source": [
        "CTranslate2 encodes mel spectrograms into a StorageView using the ctranslate2.models.Whisper.encode() function. CTranslate2 uses StorageView as its input feature."
      ]
    },
    {
      "cell_type": "code",
      "execution_count": 45,
      "metadata": {
        "id": "5qQBjZ9pYrV-"
      },
      "outputs": [
        {
          "name": "stdout",
          "output_type": "stream",
          "text": [
            "(1, 80, 773)\n"
          ]
        }
      ],
      "source": [
        "# Prepare the input for Whisper model\n",
        "mel_spectrogram = np.expand_dims(mel_spectrogram, axis=0)  # Add batch dimension\n",
        "print(mel_spectrogram.shape)\n",
        "num_frames = mel_spectrogram.shape[2]  # Number of non-padding frames\n",
        "\n",
        "# Ensure the array has contiguous memory\n",
        "mel_spectrogram = np.ascontiguousarray(mel_spectrogram) # Use np.ascontiguousarray\n",
        "\n",
        "# Encode the audio features\n",
        "# Convert the NumPy array to a ctranslate2 StorageView\n",
        "encoded_features = translator.encode(ctranslate2.StorageView.from_array(mel_spectrogram)) # Use from_array method"
      ]
    },
    {
      "cell_type": "code",
      "execution_count": 46,
      "metadata": {},
      "outputs": [
        {
          "data": {
            "text/plain": [
              "(1, 80, 773)"
            ]
          },
          "execution_count": 46,
          "metadata": {},
          "output_type": "execute_result"
        }
      ],
      "source": [
        "#mel_spectrogram = np.expand_dims(mel_spectrogram, axis=0)\n",
        "mel_spectrogram.shape"
      ]
    },
    {
      "cell_type": "code",
      "execution_count": 31,
      "metadata": {},
      "outputs": [
        {
          "data": {
            "text/plain": [
              " -0.168749 0.356358 0.230836 ... -0.983337 -0.258547 0.563757\n",
              "[cpu:0 float32 storage viewed as 1x387x512]"
            ]
          },
          "execution_count": 31,
          "metadata": {},
          "output_type": "execute_result"
        }
      ],
      "source": [
        "encoded_features"
      ]
    },
    {
      "cell_type": "markdown",
      "metadata": {
        "id": "mmUKIYvoVpkJ"
      },
      "source": [
        "**Methods of Ctranslate2 for the Whisper Model**"
      ]
    },
    {
      "cell_type": "markdown",
      "metadata": {
        "id": "LDXczDtFeKpj"
      },
      "source": [
        "**1. Align**\n",
        "\n",
        "Computes the alignment between the text tokens and the audio. This method is used to match parts of the text with corresponding segments of the audio.\n"
      ]
    },
    {
      "cell_type": "code",
      "execution_count": 24,
      "metadata": {
        "colab": {
          "base_uri": "https://localhost:8080/"
        },
        "id": "XkGf8rtAtWtN",
        "outputId": "f71c2c03-f42b-4659-d1ec-415415b6536f"
      },
      "outputs": [
        {
          "name": "stdout",
          "output_type": "stream",
          "text": [
            "[WhisperAlignmentResult(alignments=[(0, 0), (1, 0), (2, 0), (3, 0), (4, 0), (5, 0), (5, 1), (5, 2), (5, 3), (5, 4), (5, 5), (5, 6), (5, 7), (5, 8), (5, 9), (5, 10), (5, 11), (5, 12), (5, 13), (5, 14), (5, 15), (5, 16), (5, 17), (5, 18), (5, 19), (5, 20), (5, 21), (5, 22), (5, 23), (5, 24), (5, 25), (5, 26), (5, 27), (5, 28), (5, 29), (5, 30), (5, 31), (5, 32), (5, 33), (5, 34), (5, 35), (5, 36), (5, 37), (5, 38), (5, 39), (5, 40), (5, 41), (5, 42), (5, 43), (5, 44), (5, 45), (5, 46), (5, 47), (5, 48), (5, 49), (5, 50), (5, 51), (5, 52), (5, 53), (5, 54), (5, 55), (5, 56), (5, 57), (5, 58), (5, 59), (5, 60), (5, 61), (5, 62), (5, 63), (5, 64), (5, 65), (5, 66), (5, 67), (5, 68), (5, 69), (5, 70), (5, 71), (5, 72), (5, 73), (5, 74), (5, 75), (5, 76), (5, 77), (5, 78), (5, 79), (5, 80), (5, 81), (5, 82), (5, 83), (5, 84), (5, 85), (5, 86), (5, 87), (5, 88), (5, 89), (5, 90), (5, 91), (5, 92), (5, 93), (5, 94), (5, 95), (5, 96), (5, 97), (5, 98), (5, 99), (5, 100), (5, 101), (5, 102), (5, 103), (5, 104), (5, 105), (5, 106), (5, 107), (5, 108), (5, 109), (5, 110), (5, 111), (5, 112), (5, 113), (5, 114), (5, 115), (5, 116), (5, 117), (5, 118), (5, 119), (5, 120), (5, 121), (5, 122), (5, 123), (5, 124), (5, 125), (5, 126), (5, 127), (5, 128), (5, 129), (5, 130), (5, 131), (5, 132), (5, 133), (5, 134), (5, 135), (5, 136), (5, 137), (5, 138), (5, 139), (5, 140), (5, 141), (5, 142), (5, 143), (5, 144), (5, 145), (5, 146), (5, 147), (5, 148), (5, 149), (5, 150), (5, 151), (5, 152), (5, 153), (5, 154), (5, 155), (5, 156), (5, 157), (5, 158), (5, 159), (5, 160), (5, 161), (5, 162), (5, 163), (5, 164), (5, 165), (5, 166), (5, 167), (5, 168), (5, 169), (5, 170), (5, 171), (5, 172), (5, 173), (5, 174), (5, 175), (5, 176), (5, 177), (5, 178), (5, 179), (5, 180), (5, 181), (5, 182), (5, 183), (5, 184), (5, 185), (5, 186), (5, 187), (5, 188), (5, 189), (5, 190), (5, 191), (5, 192), (5, 193), (5, 194), (5, 195), (5, 196), (5, 197), (5, 198), (5, 199), (5, 200), (5, 201), (5, 202), (5, 203), (5, 204), (5, 205), (5, 206), (5, 207), (5, 208), (5, 209), (5, 210), (5, 211), (5, 212), (5, 213), (5, 214), (5, 215), (5, 216), (5, 217), (5, 218), (5, 219), (5, 220), (5, 221), (5, 222), (5, 223), (5, 224), (5, 225), (5, 226), (5, 227), (5, 228), (5, 229), (5, 230), (5, 231), (5, 232), (5, 233), (5, 234), (5, 235), (5, 236), (5, 237), (5, 238), (5, 239), (5, 240), (5, 241), (5, 242), (5, 243), (5, 244), (5, 245), (5, 246), (5, 247), (5, 248), (5, 249), (5, 250), (5, 251), (5, 252), (5, 253), (5, 254), (5, 255), (5, 256), (5, 257), (5, 258), (5, 259), (5, 260), (5, 261), (5, 262), (5, 263), (5, 264), (5, 265), (5, 266), (5, 267), (5, 268), (5, 269), (5, 270), (5, 271), (5, 272), (5, 273), (5, 274), (5, 275), (5, 276), (5, 277), (5, 278), (5, 279), (5, 280), (5, 281), (5, 282), (5, 283), (5, 284), (5, 285), (5, 286), (5, 287), (5, 288), (5, 289), (5, 290), (5, 291), (5, 292), (5, 293), (5, 294), (5, 295), (5, 296), (5, 297), (5, 298), (5, 299), (5, 300), (5, 301), (5, 302), (5, 303), (5, 304), (5, 305), (5, 306), (5, 307), (5, 308), (5, 309), (5, 310), (5, 311), (5, 312), (5, 313), (5, 314), (5, 315), (5, 316), (5, 317), (5, 318), (5, 319), (5, 320), (5, 321), (5, 322), (5, 323), (5, 324), (5, 325), (5, 326), (5, 327), (5, 328), (5, 329), (5, 330), (5, 331), (5, 332), (5, 333), (5, 334), (5, 335), (5, 336), (5, 337), (5, 338), (5, 339), (5, 340), (5, 341), (5, 342), (5, 343), (5, 344), (5, 345), (5, 346), (5, 347), (5, 348), (5, 349), (5, 350), (5, 351), (5, 352), (5, 353), (5, 354), (5, 355), (5, 356), (5, 357), (5, 358), (5, 359), (5, 360), (5, 361), (5, 362), (5, 363), (5, 364), (5, 365), (5, 366), (5, 367), (5, 368), (5, 369), (5, 370), (5, 371), (5, 372), (5, 373), (5, 374), (5, 375), (5, 376), (5, 377), (5, 378), (5, 379), (5, 380), (5, 381), (5, 382), (5, 383), (5, 384), (5, 385), (6, 385), (7, 385), (8, 385), (9, 385), (10, 385), (11, 385), (12, 385), (13, 385)], text_token_probs=[0.0, 0.0, 0.00012907152995467186, 9.474555554334074e-05, 6.214591849129647e-05, 9.159817636827938e-06, 0.00041868124390020967, 0.00018879849812947214, 1.1173175153089687e-05, 0.003093476640060544, 4.085097316419706e-06, 1.048920694302069e-05, 0.0])]\n"
          ]
        }
      ],
      "source": [
        "# Tokenize the text\n",
        "text_tokens = tokenizer(text, return_tensors=\"pt\").input_ids.tolist()\n",
        "start_sequence = [tokenizer.pad_token_id]  # Define start-of-sequence token\n",
        "\n",
        "# Perform alignment\n",
        "alignment_result = translator.align(\n",
        "    features=encoded_features,\n",
        "    start_sequence=start_sequence,\n",
        "    text_tokens=text_tokens,\n",
        "    num_frames=num_frames\n",
        ")\n",
        "\n",
        "print(alignment_result)"
      ]
    },
    {
      "cell_type": "markdown",
      "metadata": {
        "id": "xQqiykaLUrR0"
      },
      "source": [
        "In addition to the input audio features, we also need to provide other input parameters for this method, including:\n",
        "\n",
        "- *start_sequence* is the initial set of tokens or starting point for the\n",
        "alignment process.\n",
        "- *text_tokens* are the tokens of the text that the audio features should be aligned with.\n",
        "- *num_frames* is the number of non-padding frames in the audio features."
      ]
    },
    {
      "cell_type": "markdown",
      "metadata": {
        "id": "bnMo4qzJhadb"
      },
      "source": [
        "Example Result\n",
        "\n",
        "```python\n",
        "[WhisperAlignmentResult(\n",
        "    alignments=[(0, 0), (1, 0), (2, 0), (3, 0), (4, 0), (5, 0), (5, 1), (5, 2), (5, 3),...],\n",
        "    text_token_probs=[0.0, 0.0, 9.31674730964005e-05, 0.00015034245734568685, 9.820470586419106e-05, 1.2290715858398471e-05,...]\n",
        ")]\n",
        "```\n",
        "\n",
        "Here’s a simplified breakdown:\n",
        "\n",
        "- Alignments: A list of tuples where each tuple represents a mapping between the audio frames and text tokens. For instance, the tuple (5, 0) indicates that the audio frame 5 corresponds to text token 0.\n",
        "- Text Token Probabilities: A list of probabilities for each text token, indicating the confidence level for each token being represented in the audio. For example, a probability of 0.00015034245734568685 suggests a certain level of confidence for the corresponding text token."
      ]
    },
    {
      "cell_type": "markdown",
      "metadata": {
        "id": "4OczswtpwmaS"
      },
      "source": [
        "**2. Detect language**\n",
        "\n",
        "Detects the probability of each language present in the audio input.\n"
      ]
    },
    {
      "cell_type": "code",
      "execution_count": 36,
      "metadata": {
        "colab": {
          "base_uri": "https://localhost:8080/"
        },
        "id": "BXa57mwtwxV0",
        "outputId": "8e7afdf4-efd1-4d6e-b732-4d0019878bf9"
      },
      "outputs": [
        {
          "name": "stdout",
          "output_type": "stream",
          "text": [
            "[[('<|en|>', 0.5479803085327148), ('<|zh|>', 0.2321370244026184), ('<|ko|>', 0.03849892318248749), ('<|hi|>', 0.025631628930568695), ('<|ur|>', 0.019510192796587944), ('<|nn|>', 0.018716374412178993), ('<|th|>', 0.01430478598922491), ('<|ar|>', 0.01314567681401968), ('<|haw|>', 0.010905093513429165), ('<|es|>', 0.008537559770047665), ('<|fi|>', 0.008375878445804119), ('<|mi|>', 0.007494110614061356), ('<|jw|>', 0.007309376262128353), ('<|id|>', 0.007267948240041733), ('<|pl|>', 0.006108843255788088), ('<|tl|>', 0.005606784485280514), ('<|cy|>', 0.003739970503374934), ('<|ja|>', 0.0030162970069795847), ('<|la|>', 0.002473728731274605), ('<|ca|>', 0.0017497289227321744), ('<|km|>', 0.001358815236017108), ('<|vi|>', 0.00132815632969141), ('<|ms|>', 0.0011248827213421464), ('<|el|>', 0.0009848788613453507), ('<|sn|>', 0.000962412916123867), ('<|fa|>', 0.0009130383259616792), ('<|de|>', 0.0008172831730917096), ('<|hu|>', 0.0008067761082202196), ('<|bn|>', 0.0006981399492360651), ('<|fo|>', 0.0005924968863837421), ('<|br|>', 0.0005752762663178146), ('<|it|>', 0.00048507750034332275), ('<|te|>', 0.00042251229751855135), ('<|be|>', 0.0003695543564390391), ('<|da|>', 0.0003664903633762151), ('<|si|>', 0.0003320146934129298), ('<|tr|>', 0.0003293429908808321), ('<|ru|>', 0.00030701656942255795), ('<|lv|>', 0.00030107141355983913), ('<|ml|>', 0.00029200551216490567), ('<|af|>', 0.0002753879816737026), ('<|lt|>', 0.0002649436064530164), ('<|sw|>', 0.00024758846848271787), ('<|ps|>', 0.00023825660173315555), ('<|sa|>', 0.00023405419779010117), ('<|uk|>', 0.00022784655448049307), ('<|sk|>', 0.00017909791495185345), ('<|gl|>', 0.0001763215841492638), ('<|he|>', 0.00017136023961938918), ('<|no|>', 0.00016201517428271472), ('<|sv|>', 0.00014889767044223845), ('<|ta|>', 0.00014317109889816493), ('<|ne|>', 0.00011632691894192249), ('<|yo|>', 0.0001149642193922773), ('<|kn|>', 0.00011045756400562823), ('<|yi|>', 9.68426393228583e-05), ('<|hr|>', 8.796423935564235e-05), ('<|sl|>', 8.226910722441971e-05), ('<|hy|>', 8.056993101490662e-05), ('<|cs|>', 7.040904165478423e-05), ('<|sd|>', 6.962247425690293e-05), ('<|ro|>', 6.541349284816533e-05), ('<|mr|>', 6.472790119005367e-05), ('<|fr|>', 6.190851127030328e-05), ('<|bo|>', 6.005347677273676e-05), ('<|eu|>', 5.8652385632740334e-05), ('<|pa|>', 4.746029662783258e-05), ('<|lo|>', 4.471614374779165e-05), ('<|pt|>', 4.2942934669554234e-05), ('<|nl|>', 4.176597576588392e-05), ('<|my|>', 4.169958992861211e-05), ('<|bs|>', 3.5914672480430454e-05), ('<|sr|>', 3.175449091941118e-05), ('<|et|>', 2.725358172028791e-05), ('<|oc|>', 2.7101752493763342e-05), ('<|mt|>', 2.376999873376917e-05), ('<|az|>', 2.111725370923523e-05), ('<|mn|>', 1.9962168153142557e-05), ('<|so|>', 1.4171397197060287e-05), ('<|sq|>', 1.3629280147142708e-05), ('<|tg|>', 1.3518187188310549e-05), ('<|kk|>', 9.787598173716106e-06), ('<|lb|>', 9.574008799972944e-06), ('<|ka|>', 8.203481229429599e-06), ('<|as|>', 7.381390787486453e-06), ('<|is|>', 6.420835234166589e-06), ('<|ht|>', 5.439333563117543e-06), ('<|mk|>', 4.449270818440709e-06), ('<|uz|>', 2.8429258236428723e-06), ('<|bg|>', 2.0155789570708293e-06), ('<|am|>', 1.9470969618851086e-06), ('<|ha|>', 1.4445301985688275e-06), ('<|ba|>', 1.2958196293766377e-06), ('<|tk|>', 1.1904714938282268e-06), ('<|gu|>', 1.1149410283906036e-06), ('<|su|>', 1.073895305125916e-06), ('<|ln|>', 9.333252819487825e-07), ('<|tt|>', 8.16928206859302e-07), ('<|mg|>', 7.721725978626637e-07)]]\n"
          ]
        }
      ],
      "source": [
        "detected_language = translator.detect_language(encoded_features)\n",
        "print(detected_language)"
      ]
    },
    {
      "cell_type": "markdown",
      "metadata": {
        "id": "ha8iCgM9kr6-"
      },
      "source": [
        "Example result:\n",
        "```python\n",
        "[[('<|en|>', 0.4817270040512085), ('<|zh|>', 0.13297148048877716), ('<|ur|>', 0.05135079845786095), ('<|ko|>', 0.0501541793346405), ('<|hi|>', 0.04444431513547897), ('<|jw|>', 0.03632590174674988), ('<|nn|>', 0.025384925305843353), ('<|th|>', 0.021732434630393982), ('<|ar|>', 0.017658809199929237), ('<|fi|>', 0.017540380358695984), ('<|tl|>', 0.013759175315499306), ('<|mi|>', 0.01273771096020937), ('<|es|>', 0.010259411297738552)]]\n",
        "```\n",
        "\n",
        "The output from the detected_language method provides a list of language codes with their associated probabilities. Each entry in the list consists of a language code and a probability score, representing the likelihood of that language being present in the provided audio features."
      ]
    },
    {
      "cell_type": "markdown",
      "metadata": {
        "id": "93wcgOsP33k8"
      },
      "source": [
        "**3. Generate**\n",
        "\n",
        "The generate method creates text from audio features and prompts. It processes the data using different decoding strategies and parameters, allowing customization of output length, token penalties, and additional information such as scores and probabilities."
      ]
    },
    {
      "cell_type": "code",
      "execution_count": 39,
      "metadata": {},
      "outputs": [
        {
          "data": {
            "text/plain": [
              "[1, 387, 512]"
            ]
          },
          "execution_count": 39,
          "metadata": {},
          "output_type": "execute_result"
        }
      ],
      "source": [
        "encoded_features.shape"
      ]
    },
    {
      "cell_type": "code",
      "execution_count": 48,
      "metadata": {},
      "outputs": [
        {
          "data": {
            "text/plain": [
              "(1, 80, 773)"
            ]
          },
          "execution_count": 48,
          "metadata": {},
          "output_type": "execute_result"
        }
      ],
      "source": [
        "mel_spectrogram.shape"
      ]
    },
    {
      "cell_type": "code",
      "execution_count": 47,
      "metadata": {
        "colab": {
          "base_uri": "https://localhost:8080/"
        },
        "id": "CGwkuNMu32Rw",
        "outputId": "d5f83687-6137-4bc0-af4b-dbe1f391d4ca"
      },
      "outputs": [
        {
          "ename": "TypeError",
          "evalue": "generate(): incompatible function arguments. The following argument types are supported:\n    1. (self: ctranslate2._ext.Whisper, features: ctranslate2._ext.StorageView, prompts: Union[List[List[str]], List[List[int]]], *, asynchronous: bool = False, beam_size: int = 5, patience: float = 1, num_hypotheses: int = 1, length_penalty: float = 1, repetition_penalty: float = 1, no_repeat_ngram_size: int = 0, max_length: int = 448, return_scores: bool = False, return_logits_vocab: bool = False, return_no_speech_prob: bool = False, max_initial_timestamp_index: int = 50, suppress_blank: bool = True, suppress_tokens: Optional[List[int]] = [-1], sampling_topk: int = 1, sampling_temperature: float = 1) -> Union[List[ctranslate2._ext.WhisperGenerationResult], List[ctranslate2._ext.WhisperGenerationResultAsync]]\n\nInvoked with: <ctranslate2._ext.Whisper object at 0x7004254d4a30>, array([[[2.86415201e-07, 1.02543504e-06, 5.53169630e-05, ...,\n         8.36991512e-06, 6.97592350e-06, 1.39724807e-05],\n        [1.03684192e-06, 3.71214242e-06, 2.00251059e-04, ...,\n         3.02996468e-05, 2.52533027e-05, 5.05813005e-05],\n        [4.88475571e-09, 4.94389242e-05, 4.53816756e-04, ...,\n         2.78110638e-05, 2.52326117e-05, 8.67478448e-05],\n        ...,\n        [1.30104479e-06, 1.14316400e-03, 1.91134736e-01, ...,\n         1.05329118e-05, 1.09185248e-05, 2.81049743e-05],\n        [1.36406572e-06, 1.95166166e-03, 4.91011709e-01, ...,\n         1.49687357e-05, 1.93674987e-05, 6.93914171e-06],\n        [2.05967581e-06, 4.18051437e-04, 1.38342595e-02, ...,\n         3.51833501e-06, 3.52113557e-06, 1.36587471e-06]]], dtype=float32), [[50258, 50259, 50359]]; kwargs: beam_size=5, patience=5, length_penalty=1.0, repetition_penalty=1.0, no_repeat_ngram_size=0, max_length=448, return_scores=True, return_no_speech_prob=True",
          "output_type": "error",
          "traceback": [
            "\u001b[0;31m---------------------------------------------------------------------------\u001b[0m",
            "\u001b[0;31mTypeError\u001b[0m                                 Traceback (most recent call last)",
            "Cell \u001b[0;32mIn[47], line 24\u001b[0m\n\u001b[1;32m     15\u001b[0m prompts \u001b[38;5;241m=\u001b[39m tokenizer\u001b[38;5;241m.\u001b[39mconvert_tokens_to_ids(\n\u001b[1;32m     16\u001b[0m         [\n\u001b[1;32m     17\u001b[0m             \u001b[38;5;124m\"\u001b[39m\u001b[38;5;124m<|startoftranscript|>\u001b[39m\u001b[38;5;124m\"\u001b[39m,\n\u001b[0;32m   (...)\u001b[0m\n\u001b[1;32m     20\u001b[0m         ]\n\u001b[1;32m     21\u001b[0m     )\n\u001b[1;32m     23\u001b[0m \u001b[38;5;66;03m# Generate text from audio\u001b[39;00m\n\u001b[0;32m---> 24\u001b[0m generation_results \u001b[38;5;241m=\u001b[39m \u001b[43mtranslator\u001b[49m\u001b[38;5;241;43m.\u001b[39;49m\u001b[43mgenerate\u001b[49m\u001b[43m(\u001b[49m\u001b[43mmel_spectrogram\u001b[49m\u001b[43m,\u001b[49m\u001b[43m \u001b[49m\u001b[43m[\u001b[49m\u001b[43mprompts\u001b[49m\u001b[43m]\u001b[49m\u001b[43m,\u001b[49m\u001b[43m \u001b[49m\u001b[38;5;241;43m*\u001b[39;49m\u001b[38;5;241;43m*\u001b[39;49m\u001b[43mgenerate_params\u001b[49m\u001b[43m)\u001b[49m \u001b[38;5;66;03m# Pass features and prompts as arguments\u001b[39;00m\n\u001b[1;32m     25\u001b[0m \u001b[38;5;28mprint\u001b[39m(generation_results)\n",
            "\u001b[0;31mTypeError\u001b[0m: generate(): incompatible function arguments. The following argument types are supported:\n    1. (self: ctranslate2._ext.Whisper, features: ctranslate2._ext.StorageView, prompts: Union[List[List[str]], List[List[int]]], *, asynchronous: bool = False, beam_size: int = 5, patience: float = 1, num_hypotheses: int = 1, length_penalty: float = 1, repetition_penalty: float = 1, no_repeat_ngram_size: int = 0, max_length: int = 448, return_scores: bool = False, return_logits_vocab: bool = False, return_no_speech_prob: bool = False, max_initial_timestamp_index: int = 50, suppress_blank: bool = True, suppress_tokens: Optional[List[int]] = [-1], sampling_topk: int = 1, sampling_temperature: float = 1) -> Union[List[ctranslate2._ext.WhisperGenerationResult], List[ctranslate2._ext.WhisperGenerationResultAsync]]\n\nInvoked with: <ctranslate2._ext.Whisper object at 0x7004254d4a30>, array([[[2.86415201e-07, 1.02543504e-06, 5.53169630e-05, ...,\n         8.36991512e-06, 6.97592350e-06, 1.39724807e-05],\n        [1.03684192e-06, 3.71214242e-06, 2.00251059e-04, ...,\n         3.02996468e-05, 2.52533027e-05, 5.05813005e-05],\n        [4.88475571e-09, 4.94389242e-05, 4.53816756e-04, ...,\n         2.78110638e-05, 2.52326117e-05, 8.67478448e-05],\n        ...,\n        [1.30104479e-06, 1.14316400e-03, 1.91134736e-01, ...,\n         1.05329118e-05, 1.09185248e-05, 2.81049743e-05],\n        [1.36406572e-06, 1.95166166e-03, 4.91011709e-01, ...,\n         1.49687357e-05, 1.93674987e-05, 6.93914171e-06],\n        [2.05967581e-06, 4.18051437e-04, 1.38342595e-02, ...,\n         3.51833501e-06, 3.52113557e-06, 1.36587471e-06]]], dtype=float32), [[50258, 50259, 50359]]; kwargs: beam_size=5, patience=5, length_penalty=1.0, repetition_penalty=1.0, no_repeat_ngram_size=0, max_length=448, return_scores=True, return_no_speech_prob=True"
          ]
        }
      ],
      "source": [
        "from typing import List, Union, Optional\n",
        "\n",
        "\n",
        "generate_params = {\n",
        "    \"beam_size\": 5,\n",
        "    \"patience\": 5,  # Increased for longer sequences\n",
        "    \"length_penalty\": 1.0,\n",
        "    \"repetition_penalty\": 1.0,  # Reduced to allow more repetition if needed\n",
        "    \"no_repeat_ngram_size\": 0,  # Disabled to allow any sequence\n",
        "    \"max_length\": 448,\n",
        "    \"return_scores\": True,\n",
        "    \"return_no_speech_prob\": True\n",
        "}\n",
        "\n",
        "prompts = tokenizer.convert_tokens_to_ids(\n",
        "        [\n",
        "            \"<|startoftranscript|>\",\n",
        "            \"<|en|>\",\n",
        "            \"<|transcribe|>\",\n",
        "        ]\n",
        "    )\n",
        "\n",
        "# Generate text from audio\n",
        "generation_results = translator.generate(mel_spectrogram, [prompts], **generate_params) # Pass features and prompts as arguments\n",
        "print(generation_results)"
      ]
    },
    {
      "cell_type": "markdown",
      "metadata": {
        "id": "LB7OYAyrmXuR"
      },
      "source": [
        "Since the result is returned in the form of tokens, the decode function is used to convert the token sequence into standard text."
      ]
    },
    {
      "cell_type": "code",
      "execution_count": 27,
      "metadata": {
        "colab": {
          "base_uri": "https://localhost:8080/"
        },
        "id": "CfK8AGoWlhI1",
        "outputId": "914f9b0c-25a2-4c76-c7c0-52c9d6a94b3e"
      },
      "outputs": [
        {
          "name": "stdout",
          "output_type": "stream",
          "text": [
            "\n"
          ]
        }
      ],
      "source": [
        "# Token IDs from the result\n",
        "token_ids = generation_results[0].sequences_ids[0]\n",
        "\n",
        "# Decode the token IDs to text\n",
        "decoded_text = tokenizer.decode(token_ids, skip_special_tokens=True)\n",
        "\n",
        "print(decoded_text)"
      ]
    },
    {
      "cell_type": "markdown",
      "metadata": {
        "id": "kRrKfelW3KYY"
      },
      "source": [
        "# Faster Whisper transcription with CTranslate2\n",
        "\n",
        "In the previous section, we explored CTranslate2 and the functionality of its various methods. In this section, we will introduce a specific implementation of the Whisper model, leveraging the operational principles of CTranslate2, known as Faster-Whisper.\n",
        "\n",
        "Faster-Whisper represents a reimplementation of OpenAI's Whisper model utilizing CTranslate2, a high-performance inference engine designed for Transformer models. This implementation achieves up to a fourfold increase in inference speed compared to openai/whisper, while maintaining equivalent accuracy and requiring less memory. Furthermore, its efficiency can be enhanced through 8-bit quantization on both CPU and GPU, optimizing performance further."
      ]
    },
    {
      "cell_type": "markdown",
      "metadata": {
        "id": "5H0nxsI2gqiy"
      },
      "source": [
        "## Installation"
      ]
    },
    {
      "cell_type": "code",
      "execution_count": null,
      "metadata": {
        "colab": {
          "base_uri": "https://localhost:8080/"
        },
        "collapsed": true,
        "id": "SbgHhOMJ24Ot",
        "outputId": "614fd3b7-457e-4016-967f-133360bc3a7e"
      },
      "outputs": [],
      "source": [
        "!pip install faster-whisper -U\n",
        "!pip install transformers -U"
      ]
    },
    {
      "cell_type": "markdown",
      "metadata": {
        "id": "Jc-b5hz2-YoH"
      },
      "source": [
        "**Sequential Inference faster-whisper**\n",
        "\n",
        "First, we use the Sequential inference method for the Whisper model, where the input audio is segmented and processed sequentially. Each audio segment is transcribed one by one, ensuring the model handles the input step by step.\n",
        "\n",
        "Here’s a summary of how Sequential inference method handles the transcription:\n",
        "- Sequential Processing: this method segments the audio and processes each segment in sequence. This allows the model to generate text from each audio chunk while maintaining context from previous segments.\n",
        "- Language Detection & VAD: It can automatically detect the language if not specified and filter out non-speech segments using voice activity detection.\n",
        "- Final Output: this method returns a generator that yields transcribed segments and additional transcription details."
      ]
    },
    {
      "cell_type": "code",
      "execution_count": 4,
      "metadata": {
        "colab": {
          "base_uri": "https://localhost:8080/"
        },
        "id": "6SCb06Zv3oe3",
        "outputId": "1d6a8e70-8fed-462d-e6fa-f3abcfff5b96"
      },
      "outputs": [
        {
          "name": "stdout",
          "output_type": "stream",
          "text": [
            "<generator object restore_speech_timestamps at 0x794e11d14c10> TranscriptionInfo(language='en', language_probability=1, duration=5.064, duration_after_vad=4.408, all_language_probs=None, transcription_options=TranscriptionOptions(beam_size=5, best_of=5, patience=1, length_penalty=1, repetition_penalty=1, no_repeat_ngram_size=0, log_prob_threshold=-1.0, log_prob_low_threshold=None, no_speech_threshold=0.6, compression_ratio_threshold=2.4, condition_on_previous_text=True, prompt_reset_on_temperature=0.5, temperatures=[0.0], initial_prompt=None, prefix=None, suppress_blank=True, suppress_tokens=(1, 2, 7, 8, 9, 10, 14, 25, 26, 27, 28, 29, 31, 58, 59, 60, 61, 62, 63, 90, 91, 92, 93, 359, 503, 522, 542, 873, 893, 902, 918, 922, 931, 1350, 1853, 1982, 2460, 2627, 3246, 3253, 3268, 3536, 3846, 3961, 4183, 4667, 6585, 6647, 7273, 9061, 9383, 10428, 10929, 11938, 12033, 12331, 12562, 13793, 14157, 14635, 15265, 15618, 16553, 16604, 18362, 18956, 20075, 21675, 22520, 26130, 26161, 26435, 28279, 29464, 31650, 32302, 32470, 36865, 42863, 47425, 49870, 50254, 50258, 50359, 50360, 50361, 50362), without_timestamps=False, max_initial_timestamp=1.0, word_timestamps=False, prepend_punctuations='\"\\'“¿([{-', append_punctuations='\"\\'.。,，!！?？:：”)]}、', multilingual=False, output_language=None, max_new_tokens=None, clip_timestamps='0', hallucination_silence_threshold=None, hotwords=None), vad_options=VadOptions(threshold=0.5, min_speech_duration_ms=250, max_speech_duration_s=inf, min_silence_duration_ms=2000, speech_pad_ms=400))\n"
          ]
        }
      ],
      "source": [
        "import time\n",
        "from faster_whisper import WhisperModel\n",
        "\n",
        "# Define the file path for the audio to be transcribed\n",
        "filepath = \"/content/1518.wav\"\n",
        "\n",
        "# Configuration parameters for transcription\n",
        "word_timestamps = False  # Do not include word-level timestamps\n",
        "vad_filter = True  # Apply Voice Activity Detection to remove non-speech segments\n",
        "temperature = 0.0  # Use deterministic transcription\n",
        "language = \"en\"  # Set language to English\n",
        "model_size = \"large-v3\"  # Use the \"large-v3\" model\n",
        "device, compute_type = \"cpu\", \"float32\"  # Set computation device and precision\n",
        "\n",
        "# Initialize the Whisper model\n",
        "model = WhisperModel(model_size, device=device, compute_type=compute_type)\n",
        "\n",
        "# Transcribe the audio file with the specified settings\n",
        "segments, transcription_info = model.transcribe(\n",
        "    filepath,\n",
        "    word_timestamps=word_timestamps,\n",
        "    vad_filter=vad_filter,\n",
        "    temperature=temperature,\n",
        "    language=language,\n",
        ")\n",
        "\n",
        "# Output the transcription results and metadata\n",
        "print(segments, transcription_info)\n",
        "\n"
      ]
    },
    {
      "cell_type": "markdown",
      "metadata": {
        "id": "gt9FfdUCQh1O"
      },
      "source": [
        "Output\n",
        "\n",
        "segments\n",
        "\n",
        "```python\n",
        "<generator object restore_speech_timestamps at 0x7ec0dd52edc0>\n",
        "```\n",
        "\n",
        "transcription_info\n",
        "\n",
        "```python\n",
        "TranscriptionInfo(language='en', language_probability=1, duration=5.064, duration_after_vad=4.408, all_language_probs=None, transcription_options=TranscriptionOptions(beam_size=5, best_of=5, patience=1, length_penalty=1, repetition_penalty=1, no_repeat_ngram_size=0, log_prob_threshold=-1.0, no_speech_threshold=0.6, compression_ratio_threshold=2.4, condition_on_previous_text=True, prompt_reset_on_temperature=0.5, temperatures=[0.0], initial_prompt=None, prefix=None, suppress_blank=True, suppress_tokens=[-1], without_timestamps=False, max_initial_timestamp=1.0, word_timestamps=False, prepend_punctuations='\"\\'“¿([{-', append_punctuations='\"\\'.。,，!！?？:：”)]}、', max_new_tokens=None, clip_timestamps='0', hallucination_silence_threshold=None, hotwords=None), vad_options=VadOptions(threshold=0.5, min_speech_duration_ms=250, max_speech_duration_s=inf, min_silence_duration_ms=2000, speech_pad_ms=400))\n",
        "```\n",
        "\n"
      ]
    },
    {
      "cell_type": "markdown",
      "metadata": {
        "id": "XsIRTuot86Zn"
      },
      "source": [
        "Segments are transcription segments extracted from the audio file, each represented as an object. Each segment includes information about the audio portion it corresponds to, such as start time, end time, and transcribed text. By iterating through these segments, you can extract and process the entire transcription content."
      ]
    },
    {
      "cell_type": "code",
      "execution_count": 2,
      "metadata": {
        "colab": {
          "base_uri": "https://localhost:8080/"
        },
        "id": "Xlkw37Cg85dh",
        "outputId": "4c4b7c3f-0974-4ce8-d53e-ce2f7035685b"
      },
      "outputs": [
        {
          "name": "stdout",
          "output_type": "stream",
          "text": [
            "{'start': 0.66, 'end': 3.9, 'text': ' He is currently completing a film titled Halloween.'}\n"
          ]
        }
      ],
      "source": [
        "for segment in segments:\n",
        "    row = {\n",
        "        \"start\": segment.start,\n",
        "        \"end\": segment.end,\n",
        "        \"text\": segment.text,\n",
        "    }\n",
        "    if word_timestamps:\n",
        "        row[\"words\"] = [\n",
        "            {\"start\": word.start, \"end\": word.end, \"word\": word.word}\n",
        "            for word in segment.words\n",
        "        ]\n",
        "    print(row)"
      ]
    },
    {
      "cell_type": "markdown",
      "metadata": {
        "id": "OI2XEBMjX7PX"
      },
      "source": [
        "Additionally, to extracts word-level timestamps from an audio file, providing the start and end times for each word. This detailed information facilitates in-depth analysis and processing of the transcription data."
      ]
    },
    {
      "cell_type": "code",
      "execution_count": 3,
      "metadata": {
        "colab": {
          "base_uri": "https://localhost:8080/"
        },
        "id": "JSXqRcFdaHq0",
        "outputId": "49d7b113-95d5-4d79-b648-d062c8091ef8"
      },
      "outputs": [
        {
          "name": "stdout",
          "output_type": "stream",
          "text": [
            "[0.00s -> 1.06s]  He\n",
            "[1.06s -> 1.18s]  is\n",
            "[1.18s -> 1.50s]  currently\n",
            "[1.50s -> 2.06s]  completing\n",
            "[2.06s -> 2.34s]  a\n",
            "[2.34s -> 2.54s]  film\n",
            "[2.54s -> 2.96s]  titled\n",
            "[2.96s -> 3.70s]  Halloween.\n"
          ]
        }
      ],
      "source": [
        "segments, _ = model.transcribe(\"/content/1518.wav\", word_timestamps=True)\n",
        "\n",
        "for segment in segments:\n",
        "    for word in segment.words:\n",
        "        print(\"[%.2fs -> %.2fs] %s\" % (word.start, word.end, word.word))"
      ]
    },
    {
      "cell_type": "markdown",
      "metadata": {
        "id": "R-J1a5MQ-gtf"
      },
      "source": [
        "**Batched inference faster-whisper**\n",
        "\n",
        "Parallel processing of audio chunks can significantly enhance inference performance compared to sequential processing methods, such as those used in sequential inference with Faster Whisper. This method involves:\n",
        "\n",
        "- Breaking the audio into semantically meaningful chunks.\n",
        "- Transcribing these chunks in parallel (as batches), utilizing a faster feature extraction process and VAD to skip non-speech portions.\n",
        "\n",
        "This approach results in considerably faster transcription, especially for long audio files, without sacrificing accuracy.\n",
        "\n"
      ]
    },
    {
      "cell_type": "code",
      "execution_count": 1,
      "metadata": {
        "colab": {
          "base_uri": "https://localhost:8080/"
        },
        "collapsed": true,
        "id": "pFFtfQLu-Ja5",
        "outputId": "f9288f7b-75b4-40d9-a541-dc882dae2907"
      },
      "outputs": [
        {
          "name": "stderr",
          "output_type": "stream",
          "text": [
            "INFO:pytorch_lightning.utilities.migration.utils:Lightning automatically upgraded your loaded checkpoint from v1.5.4 to v2.4.0. To apply the upgrade to your files permanently, run `python -m pytorch_lightning.utilities.upgrade_checkpoint ../usr/local/lib/python3.10/dist-packages/faster_whisper/assets/pyannote_vad_model.bin`\n"
          ]
        },
        {
          "name": "stdout",
          "output_type": "stream",
          "text": [
            "Model was trained with pyannote.audio 0.0.1, yours is 3.3.2. Bad things might happen unless you revert pyannote.audio to 0.x.\n",
            "Model was trained with torch 1.10.0+cu102, yours is 2.4.1+cu121. Bad things might happen unless you revert torch to 1.x.\n",
            "[0.94s -> 4.43s]  He is currently completing a film titled Halloween.\n"
          ]
        }
      ],
      "source": [
        "from faster_whisper import WhisperModel, BatchedInferencePipeline\n",
        "\n",
        "# Define file path for the audio to be transcribed\n",
        "filename = \"/content/1518.wav\"\n",
        "\n",
        "# Configuration settings\n",
        "word_timestamps = False  # Disable word-level timestamps\n",
        "vad_filter = True  # Enable Voice Activity Detection to filter out non-speech segments\n",
        "temperature = 0.0  # Set temperature to 0.0 for deterministic transcription\n",
        "language = \"en\"  # Set language to English\n",
        "model_size = \"large-v3\"  # Use the \"large-v3\" Whisper model\n",
        "device, compute_type = \"cpu\", \"float32\"  # Set computation to use CPU and float32 precision\n",
        "\n",
        "# Initialize the Whisper model\n",
        "model = WhisperModel(model_size, device=device, compute_type=compute_type)\n",
        "\n",
        "# Wrap the model in a BatchedInferencePipeline for batch processing\n",
        "batched_model = BatchedInferencePipeline(model=model)\n",
        "\n",
        "# Perform transcription on the audio file using batch processing with batch_size of 16\n",
        "segments, info = batched_model.transcribe(filename, batch_size=16)\n",
        "\n",
        "for segment in segments:\n",
        "    print(\"[%.2fs -> %.2fs] %s\" % (segment.start, segment.end, segment.text))"
      ]
    },
    {
      "cell_type": "markdown",
      "metadata": {
        "id": "KDHKa04H-A7p"
      },
      "source": [
        "**Multi-segment language detection**\n",
        "\n",
        "This language detection method uses the detect_language_multi_segment method to analyze an audio file. This method segments the audio into multiple parts and determines the language based on highly-confident segments, aggregating these results to accurately identify the overall language. By leveraging a segmented approach, the method enhances reliability and accuracy, particularly in cases with varying audio quality."
      ]
    },
    {
      "cell_type": "code",
      "execution_count": null,
      "metadata": {
        "colab": {
          "background_save": true
        },
        "id": "573GXI7j8_j3"
      },
      "outputs": [],
      "source": [
        "from faster_whisper import WhisperModel\n",
        "\n",
        "model = WhisperModel(\"medium\", device=\"cpu\", compute_type=\"float32\")\n",
        "language_info = model.detect_language_multi_segment(\"audio.mp3\")\n",
        "print(language_info)"
      ]
    },
    {
      "cell_type": "markdown",
      "metadata": {
        "id": "ZqFPiClVbTTs"
      },
      "source": [
        "Finally, we will test all three inference methods, including the Whisper model from OpenAI, Faster Whisper Sequential, and Faster Whisper Batched, using the same audio sample. This will allow us to compare the speed and results of each method."
      ]
    },
    {
      "cell_type": "code",
      "execution_count": null,
      "metadata": {
        "colab": {
          "base_uri": "https://localhost:8080/"
        },
        "id": "n5dPcdYobSR5",
        "outputId": "9c556fa4-0384-4e2a-81d6-f1927c8df2c9"
      },
      "outputs": [
        {
          "name": "stderr",
          "output_type": "stream",
          "text": [
            "INFO:pytorch_lightning.utilities.migration.utils:Lightning automatically upgraded your loaded checkpoint from v1.5.4 to v2.4.0. To apply the upgrade to your files permanently, run `python -m pytorch_lightning.utilities.upgrade_checkpoint ../usr/local/lib/python3.10/dist-packages/faster_whisper/assets/pyannote_vad_model.bin`\n"
          ]
        },
        {
          "name": "stdout",
          "output_type": "stream",
          "text": [
            "Model was trained with pyannote.audio 0.0.1, yours is 3.3.2. Bad things might happen unless you revert pyannote.audio to 0.x.\n",
            "Model was trained with torch 1.10.0+cu102, yours is 2.4.1+cu121. Bad things might happen unless you revert torch to 1.x.\n"
          ]
        }
      ],
      "source": [
        "import time\n",
        "from faster_whisper import WhisperModel, BatchedInferencePipeline\n",
        "import whisper\n",
        "\n",
        "# Define the file path for the audio to be transcribed\n",
        "filepath = \"/content/1518.wav\"\n",
        "\n",
        "# Configuration parameters for transcription\n",
        "word_timestamps = False  # Do not include word-level timestamps\n",
        "vad_filter = True  # Apply Voice Activity Detection to remove non-speech segments\n",
        "temperature = 0.0  # Use deterministic transcription\n",
        "language = \"en\"  # Set language to English\n",
        "model_size = \"large-v3\"  # Use the \"large-v3\" model\n",
        "device, compute_type = \"cpu\", \"float32\"  # Set computation device and precision\n",
        "\n",
        "# Initialize the Whisper model\n",
        "model = WhisperModel(model_size, device=device, compute_type=compute_type)\n",
        "\n",
        "time1 = time.time()\n",
        "# Transcribe the audio file with the specified settings\n",
        "segments, transcription_info = model.transcribe(\n",
        "    filepath,\n",
        "    word_timestamps=word_timestamps,\n",
        "    vad_filter=vad_filter,\n",
        "    temperature=temperature,\n",
        "    language=language,\n",
        ")\n",
        "time2 = time.time()\n",
        "\n",
        "# Wrap the model in a BatchedInferencePipeline for batch processing\n",
        "batched_model = BatchedInferencePipeline(model=model)\n",
        "\n",
        "time3 = time.time()\n",
        "# Perform transcription on the audio file using batch processing with batch_size of 16\n",
        "segments, info = batched_model.transcribe(filepath, batch_size=16)\n",
        "time4 = time.time()\n",
        "\n",
        "# Load the Whisper model\n",
        "model = whisper.load_model(model_size, device=device)\n",
        "\n",
        "time5 = time.time()\n",
        "# Perform transcription\n",
        "result = model.transcribe(file_path, language=language)\n",
        "time6 = time.time()\n",
        "\n",
        "print(\"Time inference from Whisper model from OpenAI: \", time6 - time5)\n",
        "print(\"Time inference from Faster Whisper Sequential: \", time2 - time1)\n",
        "print(\"Time inference from Faster Whisper Batched: \", time4 - time3)\n"
      ]
    },
    {
      "cell_type": "code",
      "execution_count": 52,
      "metadata": {},
      "outputs": [],
      "source": [
        "import ctranslate2\n",
        "import librosa\n",
        "import transformers\n",
        "\n",
        "# Load and resample the audio file.\n",
        "audio, _ = librosa.load(\"test_audio.wav\", sr=16000, mono=True)\n",
        "\n",
        "# Compute the features of the first 30 seconds of audio.\n",
        "processor = transformers.WhisperProcessor.from_pretrained(\"openai/whisper-base\")\n",
        "inputs = processor(audio, return_tensors=\"np\", sampling_rate=16000)\n",
        "features = ctranslate2.StorageView.from_array(inputs.input_features)"
      ]
    },
    {
      "cell_type": "code",
      "execution_count": 58,
      "metadata": {},
      "outputs": [
        {
          "data": {
            "text/plain": [
              "[1, 80, 3000]"
            ]
          },
          "execution_count": 58,
          "metadata": {},
          "output_type": "execute_result"
        }
      ],
      "source": [
        "features.shape"
      ]
    },
    {
      "cell_type": "code",
      "execution_count": 59,
      "metadata": {},
      "outputs": [
        {
          "data": {
            "text/plain": [
              "[1, 387, 512]"
            ]
          },
          "execution_count": 59,
          "metadata": {},
          "output_type": "execute_result"
        }
      ],
      "source": [
        "encoded_features.shape"
      ]
    },
    {
      "cell_type": "code",
      "execution_count": 53,
      "metadata": {},
      "outputs": [
        {
          "name": "stderr",
          "output_type": "stream",
          "text": [
            "[2024-09-15 14:23:17.851] [ctranslate2] [thread 62125] [warning] The compute type inferred from the saved model is float16, but the target device or backend do not support efficient float16 computation. The model weights have been automatically converted to use the float32 compute type instead.\n"
          ]
        }
      ],
      "source": [
        "# Load the model on CPU.\n",
        "model = ctranslate2.models.Whisper(\"whisper-base\")"
      ]
    },
    {
      "cell_type": "code",
      "execution_count": 61,
      "metadata": {},
      "outputs": [
        {
          "name": "stdout",
          "output_type": "stream",
          "text": [
            "Detected language <|en|> with probability 0.996952\n",
            "Generate:   Printing, in the only sense with which we are at present concerned, differs from most if not from all the arts and crafts represented in the exhibition.\n"
          ]
        }
      ],
      "source": [
        "# Detect the language.\n",
        "results = model.detect_language(features)\n",
        "language, probability = results[0][0]\n",
        "print(\"Detected language %s with probability %f\" % (language, probability))\n",
        "\n",
        "# Describe the task in the prompt.\n",
        "prompt = processor.tokenizer.convert_tokens_to_ids(\n",
        "    [\n",
        "        \"<|startoftranscript|>\",\n",
        "        language,\n",
        "        \"<|transcribe|>\",\n",
        "        \"<|notimestamps|>\",  # Remove this token to generate timestamps.\n",
        "    ]\n",
        ")\n",
        "\n",
        "# Run generation for the 30-second window.\n",
        "results = model.generate(features, [prompt])\n",
        "transcription = processor.decode(results[0].sequences_ids[0])\n",
        "print(\"Generate: \", transcription)"
      ]
    }
  ],
  "metadata": {
    "accelerator": "GPU",
    "colab": {
      "gpuType": "T4",
      "provenance": []
    },
    "kernelspec": {
      "display_name": "Python 3",
      "name": "python3"
    },
    "language_info": {
      "codemirror_mode": {
        "name": "ipython",
        "version": 3
      },
      "file_extension": ".py",
      "mimetype": "text/x-python",
      "name": "python",
      "nbconvert_exporter": "python",
      "pygments_lexer": "ipython3",
      "version": "3.11.6"
    },
    "widgets": {
      "application/vnd.jupyter.widget-state+json": {
        "091cca0b502549b4884519af2be7aa9d": {
          "model_module": "@jupyter-widgets/controls",
          "model_module_version": "1.5.0",
          "model_name": "HTMLModel",
          "state": {
            "_dom_classes": [],
            "_model_module": "@jupyter-widgets/controls",
            "_model_module_version": "1.5.0",
            "_model_name": "HTMLModel",
            "_view_count": null,
            "_view_module": "@jupyter-widgets/controls",
            "_view_module_version": "1.5.0",
            "_view_name": "HTMLView",
            "description": "",
            "description_tooltip": null,
            "layout": "IPY_MODEL_6cdbe4832aa245319f094fa442267f52",
            "placeholder": "​",
            "style": "IPY_MODEL_c34d27ea99c746409103fde501550a63",
            "value": " 2.48M/2.48M [00:01&lt;00:00, 2.42MB/s]"
          }
        },
        "0d885d29b0044db789cc1f10d1c34d7a": {
          "model_module": "@jupyter-widgets/controls",
          "model_module_version": "1.5.0",
          "model_name": "DescriptionStyleModel",
          "state": {
            "_model_module": "@jupyter-widgets/controls",
            "_model_module_version": "1.5.0",
            "_model_name": "DescriptionStyleModel",
            "_view_count": null,
            "_view_module": "@jupyter-widgets/base",
            "_view_module_version": "1.2.0",
            "_view_name": "StyleView",
            "description_width": ""
          }
        },
        "0e7c3edd05d346cc9f0d1b04f3b38ed1": {
          "model_module": "@jupyter-widgets/base",
          "model_module_version": "1.2.0",
          "model_name": "LayoutModel",
          "state": {
            "_model_module": "@jupyter-widgets/base",
            "_model_module_version": "1.2.0",
            "_model_name": "LayoutModel",
            "_view_count": null,
            "_view_module": "@jupyter-widgets/base",
            "_view_module_version": "1.2.0",
            "_view_name": "LayoutView",
            "align_content": null,
            "align_items": null,
            "align_self": null,
            "border": null,
            "bottom": null,
            "display": null,
            "flex": null,
            "flex_flow": null,
            "grid_area": null,
            "grid_auto_columns": null,
            "grid_auto_flow": null,
            "grid_auto_rows": null,
            "grid_column": null,
            "grid_gap": null,
            "grid_row": null,
            "grid_template_areas": null,
            "grid_template_columns": null,
            "grid_template_rows": null,
            "height": null,
            "justify_content": null,
            "justify_items": null,
            "left": null,
            "margin": null,
            "max_height": null,
            "max_width": null,
            "min_height": null,
            "min_width": null,
            "object_fit": null,
            "object_position": null,
            "order": null,
            "overflow": null,
            "overflow_x": null,
            "overflow_y": null,
            "padding": null,
            "right": null,
            "top": null,
            "visibility": null,
            "width": null
          }
        },
        "1106ad50794846f58e1e59b41daca63c": {
          "model_module": "@jupyter-widgets/base",
          "model_module_version": "1.2.0",
          "model_name": "LayoutModel",
          "state": {
            "_model_module": "@jupyter-widgets/base",
            "_model_module_version": "1.2.0",
            "_model_name": "LayoutModel",
            "_view_count": null,
            "_view_module": "@jupyter-widgets/base",
            "_view_module_version": "1.2.0",
            "_view_name": "LayoutView",
            "align_content": null,
            "align_items": null,
            "align_self": null,
            "border": null,
            "bottom": null,
            "display": null,
            "flex": null,
            "flex_flow": null,
            "grid_area": null,
            "grid_auto_columns": null,
            "grid_auto_flow": null,
            "grid_auto_rows": null,
            "grid_column": null,
            "grid_gap": null,
            "grid_row": null,
            "grid_template_areas": null,
            "grid_template_columns": null,
            "grid_template_rows": null,
            "height": null,
            "justify_content": null,
            "justify_items": null,
            "left": null,
            "margin": null,
            "max_height": null,
            "max_width": null,
            "min_height": null,
            "min_width": null,
            "object_fit": null,
            "object_position": null,
            "order": null,
            "overflow": null,
            "overflow_x": null,
            "overflow_y": null,
            "padding": null,
            "right": null,
            "top": null,
            "visibility": null,
            "width": null
          }
        },
        "12a38487bde94716bf528c319fed2d5e": {
          "model_module": "@jupyter-widgets/base",
          "model_module_version": "1.2.0",
          "model_name": "LayoutModel",
          "state": {
            "_model_module": "@jupyter-widgets/base",
            "_model_module_version": "1.2.0",
            "_model_name": "LayoutModel",
            "_view_count": null,
            "_view_module": "@jupyter-widgets/base",
            "_view_module_version": "1.2.0",
            "_view_name": "LayoutView",
            "align_content": null,
            "align_items": null,
            "align_self": null,
            "border": null,
            "bottom": null,
            "display": null,
            "flex": null,
            "flex_flow": null,
            "grid_area": null,
            "grid_auto_columns": null,
            "grid_auto_flow": null,
            "grid_auto_rows": null,
            "grid_column": null,
            "grid_gap": null,
            "grid_row": null,
            "grid_template_areas": null,
            "grid_template_columns": null,
            "grid_template_rows": null,
            "height": null,
            "justify_content": null,
            "justify_items": null,
            "left": null,
            "margin": null,
            "max_height": null,
            "max_width": null,
            "min_height": null,
            "min_width": null,
            "object_fit": null,
            "object_position": null,
            "order": null,
            "overflow": null,
            "overflow_x": null,
            "overflow_y": null,
            "padding": null,
            "right": null,
            "top": null,
            "visibility": null,
            "width": null
          }
        },
        "132bcc97c8c249a99c43714358b3f6dc": {
          "model_module": "@jupyter-widgets/controls",
          "model_module_version": "1.5.0",
          "model_name": "HTMLModel",
          "state": {
            "_dom_classes": [],
            "_model_module": "@jupyter-widgets/controls",
            "_model_module_version": "1.5.0",
            "_model_name": "HTMLModel",
            "_view_count": null,
            "_view_module": "@jupyter-widgets/controls",
            "_view_module_version": "1.5.0",
            "_view_name": "HTMLView",
            "description": "",
            "description_tooltip": null,
            "layout": "IPY_MODEL_c8d3f46c83744d52bb0a1885453bcee0",
            "placeholder": "​",
            "style": "IPY_MODEL_0d885d29b0044db789cc1f10d1c34d7a",
            "value": " 283k/283k [00:00&lt;00:00, 1.64MB/s]"
          }
        },
        "15df4cde8ceb45bc9f939718b6d4f9df": {
          "model_module": "@jupyter-widgets/controls",
          "model_module_version": "1.5.0",
          "model_name": "ProgressStyleModel",
          "state": {
            "_model_module": "@jupyter-widgets/controls",
            "_model_module_version": "1.5.0",
            "_model_name": "ProgressStyleModel",
            "_view_count": null,
            "_view_module": "@jupyter-widgets/base",
            "_view_module_version": "1.2.0",
            "_view_name": "StyleView",
            "bar_color": null,
            "description_width": ""
          }
        },
        "19b7022ad70341cd86720ea2d5af6f42": {
          "model_module": "@jupyter-widgets/controls",
          "model_module_version": "1.5.0",
          "model_name": "FloatProgressModel",
          "state": {
            "_dom_classes": [],
            "_model_module": "@jupyter-widgets/controls",
            "_model_module_version": "1.5.0",
            "_model_name": "FloatProgressModel",
            "_view_count": null,
            "_view_module": "@jupyter-widgets/controls",
            "_view_module_version": "1.5.0",
            "_view_name": "ProgressView",
            "bar_style": "success",
            "description": "",
            "description_tooltip": null,
            "layout": "IPY_MODEL_9ccfacac5470412d9bf46e87939d05a8",
            "max": 34604,
            "min": 0,
            "orientation": "horizontal",
            "style": "IPY_MODEL_15df4cde8ceb45bc9f939718b6d4f9df",
            "value": 34604
          }
        },
        "1baf59292cd04649b299f5abf15e30f1": {
          "model_module": "@jupyter-widgets/controls",
          "model_module_version": "1.5.0",
          "model_name": "HBoxModel",
          "state": {
            "_dom_classes": [],
            "_model_module": "@jupyter-widgets/controls",
            "_model_module_version": "1.5.0",
            "_model_name": "HBoxModel",
            "_view_count": null,
            "_view_module": "@jupyter-widgets/controls",
            "_view_module_version": "1.5.0",
            "_view_name": "HBoxView",
            "box_style": "",
            "children": [
              "IPY_MODEL_d05904542e5d4179a8768763718bb16d",
              "IPY_MODEL_2b7315d0c54c4d868cfddee1666e67f6",
              "IPY_MODEL_091cca0b502549b4884519af2be7aa9d"
            ],
            "layout": "IPY_MODEL_7cf08fdc549348a7bfe5d8bd282e3b4d"
          }
        },
        "21480f0600b64b869ba30e9c6a13f7ef": {
          "model_module": "@jupyter-widgets/controls",
          "model_module_version": "1.5.0",
          "model_name": "HTMLModel",
          "state": {
            "_dom_classes": [],
            "_model_module": "@jupyter-widgets/controls",
            "_model_module_version": "1.5.0",
            "_model_name": "HTMLModel",
            "_view_count": null,
            "_view_module": "@jupyter-widgets/controls",
            "_view_module_version": "1.5.0",
            "_view_name": "HTMLView",
            "description": "",
            "description_tooltip": null,
            "layout": "IPY_MODEL_1106ad50794846f58e1e59b41daca63c",
            "placeholder": "​",
            "style": "IPY_MODEL_47753494ca87494090536c619ebcd90b",
            "value": " 52.7k/52.7k [00:00&lt;00:00, 4.47MB/s]"
          }
        },
        "22dec3634ca14a73b1045fe673bdd37a": {
          "model_module": "@jupyter-widgets/base",
          "model_module_version": "1.2.0",
          "model_name": "LayoutModel",
          "state": {
            "_model_module": "@jupyter-widgets/base",
            "_model_module_version": "1.2.0",
            "_model_name": "LayoutModel",
            "_view_count": null,
            "_view_module": "@jupyter-widgets/base",
            "_view_module_version": "1.2.0",
            "_view_name": "LayoutView",
            "align_content": null,
            "align_items": null,
            "align_self": null,
            "border": null,
            "bottom": null,
            "display": null,
            "flex": null,
            "flex_flow": null,
            "grid_area": null,
            "grid_auto_columns": null,
            "grid_auto_flow": null,
            "grid_auto_rows": null,
            "grid_column": null,
            "grid_gap": null,
            "grid_row": null,
            "grid_template_areas": null,
            "grid_template_columns": null,
            "grid_template_rows": null,
            "height": null,
            "justify_content": null,
            "justify_items": null,
            "left": null,
            "margin": null,
            "max_height": null,
            "max_width": null,
            "min_height": null,
            "min_width": null,
            "object_fit": null,
            "object_position": null,
            "order": null,
            "overflow": null,
            "overflow_x": null,
            "overflow_y": null,
            "padding": null,
            "right": null,
            "top": null,
            "visibility": null,
            "width": null
          }
        },
        "23b7056b1cd0418dae0b99874856e6ea": {
          "model_module": "@jupyter-widgets/controls",
          "model_module_version": "1.5.0",
          "model_name": "DescriptionStyleModel",
          "state": {
            "_model_module": "@jupyter-widgets/controls",
            "_model_module_version": "1.5.0",
            "_model_name": "DescriptionStyleModel",
            "_view_count": null,
            "_view_module": "@jupyter-widgets/base",
            "_view_module_version": "1.2.0",
            "_view_name": "StyleView",
            "description_width": ""
          }
        },
        "2847dbd0ec0d49dcb0964a4d97e87a80": {
          "model_module": "@jupyter-widgets/base",
          "model_module_version": "1.2.0",
          "model_name": "LayoutModel",
          "state": {
            "_model_module": "@jupyter-widgets/base",
            "_model_module_version": "1.2.0",
            "_model_name": "LayoutModel",
            "_view_count": null,
            "_view_module": "@jupyter-widgets/base",
            "_view_module_version": "1.2.0",
            "_view_name": "LayoutView",
            "align_content": null,
            "align_items": null,
            "align_self": null,
            "border": null,
            "bottom": null,
            "display": null,
            "flex": null,
            "flex_flow": null,
            "grid_area": null,
            "grid_auto_columns": null,
            "grid_auto_flow": null,
            "grid_auto_rows": null,
            "grid_column": null,
            "grid_gap": null,
            "grid_row": null,
            "grid_template_areas": null,
            "grid_template_columns": null,
            "grid_template_rows": null,
            "height": null,
            "justify_content": null,
            "justify_items": null,
            "left": null,
            "margin": null,
            "max_height": null,
            "max_width": null,
            "min_height": null,
            "min_width": null,
            "object_fit": null,
            "object_position": null,
            "order": null,
            "overflow": null,
            "overflow_x": null,
            "overflow_y": null,
            "padding": null,
            "right": null,
            "top": null,
            "visibility": null,
            "width": null
          }
        },
        "2b7315d0c54c4d868cfddee1666e67f6": {
          "model_module": "@jupyter-widgets/controls",
          "model_module_version": "1.5.0",
          "model_name": "FloatProgressModel",
          "state": {
            "_dom_classes": [],
            "_model_module": "@jupyter-widgets/controls",
            "_model_module_version": "1.5.0",
            "_model_name": "FloatProgressModel",
            "_view_count": null,
            "_view_module": "@jupyter-widgets/controls",
            "_view_module_version": "1.5.0",
            "_view_name": "ProgressView",
            "bar_style": "success",
            "description": "",
            "description_tooltip": null,
            "layout": "IPY_MODEL_b69eeef38e7b4a3e85998e7fd530a659",
            "max": 2480466,
            "min": 0,
            "orientation": "horizontal",
            "style": "IPY_MODEL_aa3380107d914fd6a99996813b4058d3",
            "value": 2480466
          }
        },
        "304b81f81733462695a4c8cfb0355d6c": {
          "model_module": "@jupyter-widgets/base",
          "model_module_version": "1.2.0",
          "model_name": "LayoutModel",
          "state": {
            "_model_module": "@jupyter-widgets/base",
            "_model_module_version": "1.2.0",
            "_model_name": "LayoutModel",
            "_view_count": null,
            "_view_module": "@jupyter-widgets/base",
            "_view_module_version": "1.2.0",
            "_view_name": "LayoutView",
            "align_content": null,
            "align_items": null,
            "align_self": null,
            "border": null,
            "bottom": null,
            "display": null,
            "flex": null,
            "flex_flow": null,
            "grid_area": null,
            "grid_auto_columns": null,
            "grid_auto_flow": null,
            "grid_auto_rows": null,
            "grid_column": null,
            "grid_gap": null,
            "grid_row": null,
            "grid_template_areas": null,
            "grid_template_columns": null,
            "grid_template_rows": null,
            "height": null,
            "justify_content": null,
            "justify_items": null,
            "left": null,
            "margin": null,
            "max_height": null,
            "max_width": null,
            "min_height": null,
            "min_width": null,
            "object_fit": null,
            "object_position": null,
            "order": null,
            "overflow": null,
            "overflow_x": null,
            "overflow_y": null,
            "padding": null,
            "right": null,
            "top": null,
            "visibility": null,
            "width": null
          }
        },
        "3ad3d07f653a4ad7a54ea733abe312d0": {
          "model_module": "@jupyter-widgets/base",
          "model_module_version": "1.2.0",
          "model_name": "LayoutModel",
          "state": {
            "_model_module": "@jupyter-widgets/base",
            "_model_module_version": "1.2.0",
            "_model_name": "LayoutModel",
            "_view_count": null,
            "_view_module": "@jupyter-widgets/base",
            "_view_module_version": "1.2.0",
            "_view_name": "LayoutView",
            "align_content": null,
            "align_items": null,
            "align_self": null,
            "border": null,
            "bottom": null,
            "display": null,
            "flex": null,
            "flex_flow": null,
            "grid_area": null,
            "grid_auto_columns": null,
            "grid_auto_flow": null,
            "grid_auto_rows": null,
            "grid_column": null,
            "grid_gap": null,
            "grid_row": null,
            "grid_template_areas": null,
            "grid_template_columns": null,
            "grid_template_rows": null,
            "height": null,
            "justify_content": null,
            "justify_items": null,
            "left": null,
            "margin": null,
            "max_height": null,
            "max_width": null,
            "min_height": null,
            "min_width": null,
            "object_fit": null,
            "object_position": null,
            "order": null,
            "overflow": null,
            "overflow_x": null,
            "overflow_y": null,
            "padding": null,
            "right": null,
            "top": null,
            "visibility": null,
            "width": null
          }
        },
        "3c4006bb33454e28aa342e497240c574": {
          "model_module": "@jupyter-widgets/controls",
          "model_module_version": "1.5.0",
          "model_name": "HTMLModel",
          "state": {
            "_dom_classes": [],
            "_model_module": "@jupyter-widgets/controls",
            "_model_module_version": "1.5.0",
            "_model_name": "HTMLModel",
            "_view_count": null,
            "_view_module": "@jupyter-widgets/controls",
            "_view_module_version": "1.5.0",
            "_view_name": "HTMLView",
            "description": "",
            "description_tooltip": null,
            "layout": "IPY_MODEL_4a923b50324642f5bb231cbf64fb5c02",
            "placeholder": "​",
            "style": "IPY_MODEL_23b7056b1cd0418dae0b99874856e6ea",
            "value": " 34.6k/34.6k [00:00&lt;00:00, 2.47MB/s]"
          }
        },
        "3f13467489184532bb376c16a0def59a": {
          "model_module": "@jupyter-widgets/controls",
          "model_module_version": "1.5.0",
          "model_name": "HTMLModel",
          "state": {
            "_dom_classes": [],
            "_model_module": "@jupyter-widgets/controls",
            "_model_module_version": "1.5.0",
            "_model_name": "HTMLModel",
            "_view_count": null,
            "_view_module": "@jupyter-widgets/controls",
            "_view_module_version": "1.5.0",
            "_view_name": "HTMLView",
            "description": "",
            "description_tooltip": null,
            "layout": "IPY_MODEL_22dec3634ca14a73b1045fe673bdd37a",
            "placeholder": "​",
            "style": "IPY_MODEL_c4a74d4c7932499b988dd16d9265897f",
            "value": " 2.19k/2.19k [00:00&lt;00:00, 162kB/s]"
          }
        },
        "473145318f9b49f7ac85108df482d628": {
          "model_module": "@jupyter-widgets/base",
          "model_module_version": "1.2.0",
          "model_name": "LayoutModel",
          "state": {
            "_model_module": "@jupyter-widgets/base",
            "_model_module_version": "1.2.0",
            "_model_name": "LayoutModel",
            "_view_count": null,
            "_view_module": "@jupyter-widgets/base",
            "_view_module_version": "1.2.0",
            "_view_name": "LayoutView",
            "align_content": null,
            "align_items": null,
            "align_self": null,
            "border": null,
            "bottom": null,
            "display": null,
            "flex": null,
            "flex_flow": null,
            "grid_area": null,
            "grid_auto_columns": null,
            "grid_auto_flow": null,
            "grid_auto_rows": null,
            "grid_column": null,
            "grid_gap": null,
            "grid_row": null,
            "grid_template_areas": null,
            "grid_template_columns": null,
            "grid_template_rows": null,
            "height": null,
            "justify_content": null,
            "justify_items": null,
            "left": null,
            "margin": null,
            "max_height": null,
            "max_width": null,
            "min_height": null,
            "min_width": null,
            "object_fit": null,
            "object_position": null,
            "order": null,
            "overflow": null,
            "overflow_x": null,
            "overflow_y": null,
            "padding": null,
            "right": null,
            "top": null,
            "visibility": null,
            "width": null
          }
        },
        "47753494ca87494090536c619ebcd90b": {
          "model_module": "@jupyter-widgets/controls",
          "model_module_version": "1.5.0",
          "model_name": "DescriptionStyleModel",
          "state": {
            "_model_module": "@jupyter-widgets/controls",
            "_model_module_version": "1.5.0",
            "_model_name": "DescriptionStyleModel",
            "_view_count": null,
            "_view_module": "@jupyter-widgets/base",
            "_view_module_version": "1.2.0",
            "_view_name": "StyleView",
            "description_width": ""
          }
        },
        "479cb7196e8d4f22971a47e92d0e85a8": {
          "model_module": "@jupyter-widgets/controls",
          "model_module_version": "1.5.0",
          "model_name": "DescriptionStyleModel",
          "state": {
            "_model_module": "@jupyter-widgets/controls",
            "_model_module_version": "1.5.0",
            "_model_name": "DescriptionStyleModel",
            "_view_count": null,
            "_view_module": "@jupyter-widgets/base",
            "_view_module_version": "1.2.0",
            "_view_name": "StyleView",
            "description_width": ""
          }
        },
        "4a923b50324642f5bb231cbf64fb5c02": {
          "model_module": "@jupyter-widgets/base",
          "model_module_version": "1.2.0",
          "model_name": "LayoutModel",
          "state": {
            "_model_module": "@jupyter-widgets/base",
            "_model_module_version": "1.2.0",
            "_model_name": "LayoutModel",
            "_view_count": null,
            "_view_module": "@jupyter-widgets/base",
            "_view_module_version": "1.2.0",
            "_view_name": "LayoutView",
            "align_content": null,
            "align_items": null,
            "align_self": null,
            "border": null,
            "bottom": null,
            "display": null,
            "flex": null,
            "flex_flow": null,
            "grid_area": null,
            "grid_auto_columns": null,
            "grid_auto_flow": null,
            "grid_auto_rows": null,
            "grid_column": null,
            "grid_gap": null,
            "grid_row": null,
            "grid_template_areas": null,
            "grid_template_columns": null,
            "grid_template_rows": null,
            "height": null,
            "justify_content": null,
            "justify_items": null,
            "left": null,
            "margin": null,
            "max_height": null,
            "max_width": null,
            "min_height": null,
            "min_width": null,
            "object_fit": null,
            "object_position": null,
            "order": null,
            "overflow": null,
            "overflow_x": null,
            "overflow_y": null,
            "padding": null,
            "right": null,
            "top": null,
            "visibility": null,
            "width": null
          }
        },
        "4b4a4d4352524264b4d9cc3d2d55a318": {
          "model_module": "@jupyter-widgets/base",
          "model_module_version": "1.2.0",
          "model_name": "LayoutModel",
          "state": {
            "_model_module": "@jupyter-widgets/base",
            "_model_module_version": "1.2.0",
            "_model_name": "LayoutModel",
            "_view_count": null,
            "_view_module": "@jupyter-widgets/base",
            "_view_module_version": "1.2.0",
            "_view_name": "LayoutView",
            "align_content": null,
            "align_items": null,
            "align_self": null,
            "border": null,
            "bottom": null,
            "display": null,
            "flex": null,
            "flex_flow": null,
            "grid_area": null,
            "grid_auto_columns": null,
            "grid_auto_flow": null,
            "grid_auto_rows": null,
            "grid_column": null,
            "grid_gap": null,
            "grid_row": null,
            "grid_template_areas": null,
            "grid_template_columns": null,
            "grid_template_rows": null,
            "height": null,
            "justify_content": null,
            "justify_items": null,
            "left": null,
            "margin": null,
            "max_height": null,
            "max_width": null,
            "min_height": null,
            "min_width": null,
            "object_fit": null,
            "object_position": null,
            "order": null,
            "overflow": null,
            "overflow_x": null,
            "overflow_y": null,
            "padding": null,
            "right": null,
            "top": null,
            "visibility": null,
            "width": null
          }
        },
        "53ad79a89b734951a3c06ebe835c48d8": {
          "model_module": "@jupyter-widgets/base",
          "model_module_version": "1.2.0",
          "model_name": "LayoutModel",
          "state": {
            "_model_module": "@jupyter-widgets/base",
            "_model_module_version": "1.2.0",
            "_model_name": "LayoutModel",
            "_view_count": null,
            "_view_module": "@jupyter-widgets/base",
            "_view_module_version": "1.2.0",
            "_view_name": "LayoutView",
            "align_content": null,
            "align_items": null,
            "align_self": null,
            "border": null,
            "bottom": null,
            "display": null,
            "flex": null,
            "flex_flow": null,
            "grid_area": null,
            "grid_auto_columns": null,
            "grid_auto_flow": null,
            "grid_auto_rows": null,
            "grid_column": null,
            "grid_gap": null,
            "grid_row": null,
            "grid_template_areas": null,
            "grid_template_columns": null,
            "grid_template_rows": null,
            "height": null,
            "justify_content": null,
            "justify_items": null,
            "left": null,
            "margin": null,
            "max_height": null,
            "max_width": null,
            "min_height": null,
            "min_width": null,
            "object_fit": null,
            "object_position": null,
            "order": null,
            "overflow": null,
            "overflow_x": null,
            "overflow_y": null,
            "padding": null,
            "right": null,
            "top": null,
            "visibility": null,
            "width": null
          }
        },
        "545e2e50c28644549b176296dbee87aa": {
          "model_module": "@jupyter-widgets/controls",
          "model_module_version": "1.5.0",
          "model_name": "ProgressStyleModel",
          "state": {
            "_model_module": "@jupyter-widgets/controls",
            "_model_module_version": "1.5.0",
            "_model_name": "ProgressStyleModel",
            "_view_count": null,
            "_view_module": "@jupyter-widgets/base",
            "_view_module_version": "1.2.0",
            "_view_name": "StyleView",
            "bar_color": null,
            "description_width": ""
          }
        },
        "56988f1251104c468f697c1c503e015e": {
          "model_module": "@jupyter-widgets/base",
          "model_module_version": "1.2.0",
          "model_name": "LayoutModel",
          "state": {
            "_model_module": "@jupyter-widgets/base",
            "_model_module_version": "1.2.0",
            "_model_name": "LayoutModel",
            "_view_count": null,
            "_view_module": "@jupyter-widgets/base",
            "_view_module_version": "1.2.0",
            "_view_name": "LayoutView",
            "align_content": null,
            "align_items": null,
            "align_self": null,
            "border": null,
            "bottom": null,
            "display": null,
            "flex": null,
            "flex_flow": null,
            "grid_area": null,
            "grid_auto_columns": null,
            "grid_auto_flow": null,
            "grid_auto_rows": null,
            "grid_column": null,
            "grid_gap": null,
            "grid_row": null,
            "grid_template_areas": null,
            "grid_template_columns": null,
            "grid_template_rows": null,
            "height": null,
            "justify_content": null,
            "justify_items": null,
            "left": null,
            "margin": null,
            "max_height": null,
            "max_width": null,
            "min_height": null,
            "min_width": null,
            "object_fit": null,
            "object_position": null,
            "order": null,
            "overflow": null,
            "overflow_x": null,
            "overflow_y": null,
            "padding": null,
            "right": null,
            "top": null,
            "visibility": null,
            "width": null
          }
        },
        "585f8213df0b4385ab161cad27ca51e3": {
          "model_module": "@jupyter-widgets/controls",
          "model_module_version": "1.5.0",
          "model_name": "HTMLModel",
          "state": {
            "_dom_classes": [],
            "_model_module": "@jupyter-widgets/controls",
            "_model_module_version": "1.5.0",
            "_model_name": "HTMLModel",
            "_view_count": null,
            "_view_module": "@jupyter-widgets/controls",
            "_view_module_version": "1.5.0",
            "_view_name": "HTMLView",
            "description": "",
            "description_tooltip": null,
            "layout": "IPY_MODEL_473145318f9b49f7ac85108df482d628",
            "placeholder": "​",
            "style": "IPY_MODEL_df7955a92f354bbd82fb835c59955c3b",
            "value": "merges.txt: 100%"
          }
        },
        "5aa4630372a545bdaa8aa13adf8dded9": {
          "model_module": "@jupyter-widgets/controls",
          "model_module_version": "1.5.0",
          "model_name": "FloatProgressModel",
          "state": {
            "_dom_classes": [],
            "_model_module": "@jupyter-widgets/controls",
            "_model_module_version": "1.5.0",
            "_model_name": "FloatProgressModel",
            "_view_count": null,
            "_view_module": "@jupyter-widgets/controls",
            "_view_module_version": "1.5.0",
            "_view_name": "ProgressView",
            "bar_style": "success",
            "description": "",
            "description_tooltip": null,
            "layout": "IPY_MODEL_2847dbd0ec0d49dcb0964a4d97e87a80",
            "max": 2194,
            "min": 0,
            "orientation": "horizontal",
            "style": "IPY_MODEL_545e2e50c28644549b176296dbee87aa",
            "value": 2194
          }
        },
        "5d3039a50b204e2b9ada34abdbcdb821": {
          "model_module": "@jupyter-widgets/base",
          "model_module_version": "1.2.0",
          "model_name": "LayoutModel",
          "state": {
            "_model_module": "@jupyter-widgets/base",
            "_model_module_version": "1.2.0",
            "_model_name": "LayoutModel",
            "_view_count": null,
            "_view_module": "@jupyter-widgets/base",
            "_view_module_version": "1.2.0",
            "_view_name": "LayoutView",
            "align_content": null,
            "align_items": null,
            "align_self": null,
            "border": null,
            "bottom": null,
            "display": null,
            "flex": null,
            "flex_flow": null,
            "grid_area": null,
            "grid_auto_columns": null,
            "grid_auto_flow": null,
            "grid_auto_rows": null,
            "grid_column": null,
            "grid_gap": null,
            "grid_row": null,
            "grid_template_areas": null,
            "grid_template_columns": null,
            "grid_template_rows": null,
            "height": null,
            "justify_content": null,
            "justify_items": null,
            "left": null,
            "margin": null,
            "max_height": null,
            "max_width": null,
            "min_height": null,
            "min_width": null,
            "object_fit": null,
            "object_position": null,
            "order": null,
            "overflow": null,
            "overflow_x": null,
            "overflow_y": null,
            "padding": null,
            "right": null,
            "top": null,
            "visibility": null,
            "width": null
          }
        },
        "5e28e9f7052342d6ab0c3ea77ec935a6": {
          "model_module": "@jupyter-widgets/base",
          "model_module_version": "1.2.0",
          "model_name": "LayoutModel",
          "state": {
            "_model_module": "@jupyter-widgets/base",
            "_model_module_version": "1.2.0",
            "_model_name": "LayoutModel",
            "_view_count": null,
            "_view_module": "@jupyter-widgets/base",
            "_view_module_version": "1.2.0",
            "_view_name": "LayoutView",
            "align_content": null,
            "align_items": null,
            "align_self": null,
            "border": null,
            "bottom": null,
            "display": null,
            "flex": null,
            "flex_flow": null,
            "grid_area": null,
            "grid_auto_columns": null,
            "grid_auto_flow": null,
            "grid_auto_rows": null,
            "grid_column": null,
            "grid_gap": null,
            "grid_row": null,
            "grid_template_areas": null,
            "grid_template_columns": null,
            "grid_template_rows": null,
            "height": null,
            "justify_content": null,
            "justify_items": null,
            "left": null,
            "margin": null,
            "max_height": null,
            "max_width": null,
            "min_height": null,
            "min_width": null,
            "object_fit": null,
            "object_position": null,
            "order": null,
            "overflow": null,
            "overflow_x": null,
            "overflow_y": null,
            "padding": null,
            "right": null,
            "top": null,
            "visibility": null,
            "width": null
          }
        },
        "5fcafb7c4e1749eea5e4c1f313dd31fb": {
          "model_module": "@jupyter-widgets/controls",
          "model_module_version": "1.5.0",
          "model_name": "ProgressStyleModel",
          "state": {
            "_model_module": "@jupyter-widgets/controls",
            "_model_module_version": "1.5.0",
            "_model_name": "ProgressStyleModel",
            "_view_count": null,
            "_view_module": "@jupyter-widgets/base",
            "_view_module_version": "1.2.0",
            "_view_name": "StyleView",
            "bar_color": null,
            "description_width": ""
          }
        },
        "67ae7e9c45c349a4a18ea7d2094eca45": {
          "model_module": "@jupyter-widgets/base",
          "model_module_version": "1.2.0",
          "model_name": "LayoutModel",
          "state": {
            "_model_module": "@jupyter-widgets/base",
            "_model_module_version": "1.2.0",
            "_model_name": "LayoutModel",
            "_view_count": null,
            "_view_module": "@jupyter-widgets/base",
            "_view_module_version": "1.2.0",
            "_view_name": "LayoutView",
            "align_content": null,
            "align_items": null,
            "align_self": null,
            "border": null,
            "bottom": null,
            "display": null,
            "flex": null,
            "flex_flow": null,
            "grid_area": null,
            "grid_auto_columns": null,
            "grid_auto_flow": null,
            "grid_auto_rows": null,
            "grid_column": null,
            "grid_gap": null,
            "grid_row": null,
            "grid_template_areas": null,
            "grid_template_columns": null,
            "grid_template_rows": null,
            "height": null,
            "justify_content": null,
            "justify_items": null,
            "left": null,
            "margin": null,
            "max_height": null,
            "max_width": null,
            "min_height": null,
            "min_width": null,
            "object_fit": null,
            "object_position": null,
            "order": null,
            "overflow": null,
            "overflow_x": null,
            "overflow_y": null,
            "padding": null,
            "right": null,
            "top": null,
            "visibility": null,
            "width": null
          }
        },
        "689914e9e96f462ea48e44aea5ec86bd": {
          "model_module": "@jupyter-widgets/controls",
          "model_module_version": "1.5.0",
          "model_name": "DescriptionStyleModel",
          "state": {
            "_model_module": "@jupyter-widgets/controls",
            "_model_module_version": "1.5.0",
            "_model_name": "DescriptionStyleModel",
            "_view_count": null,
            "_view_module": "@jupyter-widgets/base",
            "_view_module_version": "1.2.0",
            "_view_name": "StyleView",
            "description_width": ""
          }
        },
        "6cdbe4832aa245319f094fa442267f52": {
          "model_module": "@jupyter-widgets/base",
          "model_module_version": "1.2.0",
          "model_name": "LayoutModel",
          "state": {
            "_model_module": "@jupyter-widgets/base",
            "_model_module_version": "1.2.0",
            "_model_name": "LayoutModel",
            "_view_count": null,
            "_view_module": "@jupyter-widgets/base",
            "_view_module_version": "1.2.0",
            "_view_name": "LayoutView",
            "align_content": null,
            "align_items": null,
            "align_self": null,
            "border": null,
            "bottom": null,
            "display": null,
            "flex": null,
            "flex_flow": null,
            "grid_area": null,
            "grid_auto_columns": null,
            "grid_auto_flow": null,
            "grid_auto_rows": null,
            "grid_column": null,
            "grid_gap": null,
            "grid_row": null,
            "grid_template_areas": null,
            "grid_template_columns": null,
            "grid_template_rows": null,
            "height": null,
            "justify_content": null,
            "justify_items": null,
            "left": null,
            "margin": null,
            "max_height": null,
            "max_width": null,
            "min_height": null,
            "min_width": null,
            "object_fit": null,
            "object_position": null,
            "order": null,
            "overflow": null,
            "overflow_x": null,
            "overflow_y": null,
            "padding": null,
            "right": null,
            "top": null,
            "visibility": null,
            "width": null
          }
        },
        "6e7dd07ee8fe4abba49b1143c2ae3933": {
          "model_module": "@jupyter-widgets/controls",
          "model_module_version": "1.5.0",
          "model_name": "ProgressStyleModel",
          "state": {
            "_model_module": "@jupyter-widgets/controls",
            "_model_module_version": "1.5.0",
            "_model_name": "ProgressStyleModel",
            "_view_count": null,
            "_view_module": "@jupyter-widgets/base",
            "_view_module_version": "1.2.0",
            "_view_name": "StyleView",
            "bar_color": null,
            "description_width": ""
          }
        },
        "6e9d2a9878f547d995405c157133263a": {
          "model_module": "@jupyter-widgets/base",
          "model_module_version": "1.2.0",
          "model_name": "LayoutModel",
          "state": {
            "_model_module": "@jupyter-widgets/base",
            "_model_module_version": "1.2.0",
            "_model_name": "LayoutModel",
            "_view_count": null,
            "_view_module": "@jupyter-widgets/base",
            "_view_module_version": "1.2.0",
            "_view_name": "LayoutView",
            "align_content": null,
            "align_items": null,
            "align_self": null,
            "border": null,
            "bottom": null,
            "display": null,
            "flex": null,
            "flex_flow": null,
            "grid_area": null,
            "grid_auto_columns": null,
            "grid_auto_flow": null,
            "grid_auto_rows": null,
            "grid_column": null,
            "grid_gap": null,
            "grid_row": null,
            "grid_template_areas": null,
            "grid_template_columns": null,
            "grid_template_rows": null,
            "height": null,
            "justify_content": null,
            "justify_items": null,
            "left": null,
            "margin": null,
            "max_height": null,
            "max_width": null,
            "min_height": null,
            "min_width": null,
            "object_fit": null,
            "object_position": null,
            "order": null,
            "overflow": null,
            "overflow_x": null,
            "overflow_y": null,
            "padding": null,
            "right": null,
            "top": null,
            "visibility": null,
            "width": null
          }
        },
        "6eabb05a58ca45f19e86b62059acad07": {
          "model_module": "@jupyter-widgets/base",
          "model_module_version": "1.2.0",
          "model_name": "LayoutModel",
          "state": {
            "_model_module": "@jupyter-widgets/base",
            "_model_module_version": "1.2.0",
            "_model_name": "LayoutModel",
            "_view_count": null,
            "_view_module": "@jupyter-widgets/base",
            "_view_module_version": "1.2.0",
            "_view_name": "LayoutView",
            "align_content": null,
            "align_items": null,
            "align_self": null,
            "border": null,
            "bottom": null,
            "display": null,
            "flex": null,
            "flex_flow": null,
            "grid_area": null,
            "grid_auto_columns": null,
            "grid_auto_flow": null,
            "grid_auto_rows": null,
            "grid_column": null,
            "grid_gap": null,
            "grid_row": null,
            "grid_template_areas": null,
            "grid_template_columns": null,
            "grid_template_rows": null,
            "height": null,
            "justify_content": null,
            "justify_items": null,
            "left": null,
            "margin": null,
            "max_height": null,
            "max_width": null,
            "min_height": null,
            "min_width": null,
            "object_fit": null,
            "object_position": null,
            "order": null,
            "overflow": null,
            "overflow_x": null,
            "overflow_y": null,
            "padding": null,
            "right": null,
            "top": null,
            "visibility": null,
            "width": null
          }
        },
        "7605b1828e004fc08d5e9017f357cfd1": {
          "model_module": "@jupyter-widgets/controls",
          "model_module_version": "1.5.0",
          "model_name": "HBoxModel",
          "state": {
            "_dom_classes": [],
            "_model_module": "@jupyter-widgets/controls",
            "_model_module_version": "1.5.0",
            "_model_name": "HBoxModel",
            "_view_count": null,
            "_view_module": "@jupyter-widgets/controls",
            "_view_module_version": "1.5.0",
            "_view_name": "HBoxView",
            "box_style": "",
            "children": [
              "IPY_MODEL_ff90735f90614bb7aa3865875798242f",
              "IPY_MODEL_8c15aa3b39d54c74b3598b7f485230e2",
              "IPY_MODEL_132bcc97c8c249a99c43714358b3f6dc"
            ],
            "layout": "IPY_MODEL_56988f1251104c468f697c1c503e015e"
          }
        },
        "7727738b371a43d7aed39e8bd449e69b": {
          "model_module": "@jupyter-widgets/controls",
          "model_module_version": "1.5.0",
          "model_name": "HTMLModel",
          "state": {
            "_dom_classes": [],
            "_model_module": "@jupyter-widgets/controls",
            "_model_module_version": "1.5.0",
            "_model_name": "HTMLModel",
            "_view_count": null,
            "_view_module": "@jupyter-widgets/controls",
            "_view_module_version": "1.5.0",
            "_view_name": "HTMLView",
            "description": "",
            "description_tooltip": null,
            "layout": "IPY_MODEL_974ea2a4fa4e4cd88907fa580f63a73e",
            "placeholder": "​",
            "style": "IPY_MODEL_b0d3bcfb6e9b425dbeb1b04d176e2c46",
            "value": " 185k/185k [00:00&lt;00:00, 534kB/s]"
          }
        },
        "77361e68ca1547e7a5626979c2523880": {
          "model_module": "@jupyter-widgets/controls",
          "model_module_version": "1.5.0",
          "model_name": "HBoxModel",
          "state": {
            "_dom_classes": [],
            "_model_module": "@jupyter-widgets/controls",
            "_model_module_version": "1.5.0",
            "_model_name": "HBoxModel",
            "_view_count": null,
            "_view_module": "@jupyter-widgets/controls",
            "_view_module_version": "1.5.0",
            "_view_name": "HBoxView",
            "box_style": "",
            "children": [
              "IPY_MODEL_585f8213df0b4385ab161cad27ca51e3",
              "IPY_MODEL_80bc715520bb4bc382f668d43888049a",
              "IPY_MODEL_7afecf8eef30445fa7fa79340b66ce2a"
            ],
            "layout": "IPY_MODEL_5d3039a50b204e2b9ada34abdbcdb821"
          }
        },
        "7afecf8eef30445fa7fa79340b66ce2a": {
          "model_module": "@jupyter-widgets/controls",
          "model_module_version": "1.5.0",
          "model_name": "HTMLModel",
          "state": {
            "_dom_classes": [],
            "_model_module": "@jupyter-widgets/controls",
            "_model_module_version": "1.5.0",
            "_model_name": "HTMLModel",
            "_view_count": null,
            "_view_module": "@jupyter-widgets/controls",
            "_view_module_version": "1.5.0",
            "_view_name": "HTMLView",
            "description": "",
            "description_tooltip": null,
            "layout": "IPY_MODEL_5e28e9f7052342d6ab0c3ea77ec935a6",
            "placeholder": "​",
            "style": "IPY_MODEL_479cb7196e8d4f22971a47e92d0e85a8",
            "value": " 494k/494k [00:00&lt;00:00, 967kB/s]"
          }
        },
        "7b60fb6b37c04fc1a9d40675ac2bc1b9": {
          "model_module": "@jupyter-widgets/base",
          "model_module_version": "1.2.0",
          "model_name": "LayoutModel",
          "state": {
            "_model_module": "@jupyter-widgets/base",
            "_model_module_version": "1.2.0",
            "_model_name": "LayoutModel",
            "_view_count": null,
            "_view_module": "@jupyter-widgets/base",
            "_view_module_version": "1.2.0",
            "_view_name": "LayoutView",
            "align_content": null,
            "align_items": null,
            "align_self": null,
            "border": null,
            "bottom": null,
            "display": null,
            "flex": null,
            "flex_flow": null,
            "grid_area": null,
            "grid_auto_columns": null,
            "grid_auto_flow": null,
            "grid_auto_rows": null,
            "grid_column": null,
            "grid_gap": null,
            "grid_row": null,
            "grid_template_areas": null,
            "grid_template_columns": null,
            "grid_template_rows": null,
            "height": null,
            "justify_content": null,
            "justify_items": null,
            "left": null,
            "margin": null,
            "max_height": null,
            "max_width": null,
            "min_height": null,
            "min_width": null,
            "object_fit": null,
            "object_position": null,
            "order": null,
            "overflow": null,
            "overflow_x": null,
            "overflow_y": null,
            "padding": null,
            "right": null,
            "top": null,
            "visibility": null,
            "width": null
          }
        },
        "7cf08fdc549348a7bfe5d8bd282e3b4d": {
          "model_module": "@jupyter-widgets/base",
          "model_module_version": "1.2.0",
          "model_name": "LayoutModel",
          "state": {
            "_model_module": "@jupyter-widgets/base",
            "_model_module_version": "1.2.0",
            "_model_name": "LayoutModel",
            "_view_count": null,
            "_view_module": "@jupyter-widgets/base",
            "_view_module_version": "1.2.0",
            "_view_name": "LayoutView",
            "align_content": null,
            "align_items": null,
            "align_self": null,
            "border": null,
            "bottom": null,
            "display": null,
            "flex": null,
            "flex_flow": null,
            "grid_area": null,
            "grid_auto_columns": null,
            "grid_auto_flow": null,
            "grid_auto_rows": null,
            "grid_column": null,
            "grid_gap": null,
            "grid_row": null,
            "grid_template_areas": null,
            "grid_template_columns": null,
            "grid_template_rows": null,
            "height": null,
            "justify_content": null,
            "justify_items": null,
            "left": null,
            "margin": null,
            "max_height": null,
            "max_width": null,
            "min_height": null,
            "min_width": null,
            "object_fit": null,
            "object_position": null,
            "order": null,
            "overflow": null,
            "overflow_x": null,
            "overflow_y": null,
            "padding": null,
            "right": null,
            "top": null,
            "visibility": null,
            "width": null
          }
        },
        "7d7db6e8ac2f4426bd9c26f9c80817ae": {
          "model_module": "@jupyter-widgets/controls",
          "model_module_version": "1.5.0",
          "model_name": "ProgressStyleModel",
          "state": {
            "_model_module": "@jupyter-widgets/controls",
            "_model_module_version": "1.5.0",
            "_model_name": "ProgressStyleModel",
            "_view_count": null,
            "_view_module": "@jupyter-widgets/base",
            "_view_module_version": "1.2.0",
            "_view_name": "StyleView",
            "bar_color": null,
            "description_width": ""
          }
        },
        "7f23f280e7384b2198efec08c9a56bd5": {
          "model_module": "@jupyter-widgets/controls",
          "model_module_version": "1.5.0",
          "model_name": "DescriptionStyleModel",
          "state": {
            "_model_module": "@jupyter-widgets/controls",
            "_model_module_version": "1.5.0",
            "_model_name": "DescriptionStyleModel",
            "_view_count": null,
            "_view_module": "@jupyter-widgets/base",
            "_view_module_version": "1.2.0",
            "_view_name": "StyleView",
            "description_width": ""
          }
        },
        "80bc715520bb4bc382f668d43888049a": {
          "model_module": "@jupyter-widgets/controls",
          "model_module_version": "1.5.0",
          "model_name": "FloatProgressModel",
          "state": {
            "_dom_classes": [],
            "_model_module": "@jupyter-widgets/controls",
            "_model_module_version": "1.5.0",
            "_model_name": "FloatProgressModel",
            "_view_count": null,
            "_view_module": "@jupyter-widgets/controls",
            "_view_module_version": "1.5.0",
            "_view_name": "ProgressView",
            "bar_style": "success",
            "description": "",
            "description_tooltip": null,
            "layout": "IPY_MODEL_6e9d2a9878f547d995405c157133263a",
            "max": 493869,
            "min": 0,
            "orientation": "horizontal",
            "style": "IPY_MODEL_5fcafb7c4e1749eea5e4c1f313dd31fb",
            "value": 493869
          }
        },
        "8496accf7e6147d891d3ad0d4c2039cc": {
          "model_module": "@jupyter-widgets/controls",
          "model_module_version": "1.5.0",
          "model_name": "HTMLModel",
          "state": {
            "_dom_classes": [],
            "_model_module": "@jupyter-widgets/controls",
            "_model_module_version": "1.5.0",
            "_model_name": "HTMLModel",
            "_view_count": null,
            "_view_module": "@jupyter-widgets/controls",
            "_view_module_version": "1.5.0",
            "_view_name": "HTMLView",
            "description": "",
            "description_tooltip": null,
            "layout": "IPY_MODEL_4b4a4d4352524264b4d9cc3d2d55a318",
            "placeholder": "​",
            "style": "IPY_MODEL_689914e9e96f462ea48e44aea5ec86bd",
            "value": "preprocessor_config.json: 100%"
          }
        },
        "85ff23e4ea174f229250f8933b397d98": {
          "model_module": "@jupyter-widgets/controls",
          "model_module_version": "1.5.0",
          "model_name": "HBoxModel",
          "state": {
            "_dom_classes": [],
            "_model_module": "@jupyter-widgets/controls",
            "_model_module_version": "1.5.0",
            "_model_name": "HBoxModel",
            "_view_count": null,
            "_view_module": "@jupyter-widgets/controls",
            "_view_module_version": "1.5.0",
            "_view_name": "HBoxView",
            "box_style": "",
            "children": [
              "IPY_MODEL_bcd8b661cf5f4472a0e1c05390461d5d",
              "IPY_MODEL_a2d729557a174d9c8c83ee25d0699675",
              "IPY_MODEL_21480f0600b64b869ba30e9c6a13f7ef"
            ],
            "layout": "IPY_MODEL_53ad79a89b734951a3c06ebe835c48d8"
          }
        },
        "8ac31de203b2469c8ef647ea76344a8b": {
          "model_module": "@jupyter-widgets/controls",
          "model_module_version": "1.5.0",
          "model_name": "HBoxModel",
          "state": {
            "_dom_classes": [],
            "_model_module": "@jupyter-widgets/controls",
            "_model_module_version": "1.5.0",
            "_model_name": "HBoxModel",
            "_view_count": null,
            "_view_module": "@jupyter-widgets/controls",
            "_view_module_version": "1.5.0",
            "_view_name": "HBoxView",
            "box_style": "",
            "children": [
              "IPY_MODEL_8fe5e54ba72e415f93e2bca90d4e6304",
              "IPY_MODEL_19b7022ad70341cd86720ea2d5af6f42",
              "IPY_MODEL_3c4006bb33454e28aa342e497240c574"
            ],
            "layout": "IPY_MODEL_3ad3d07f653a4ad7a54ea733abe312d0"
          }
        },
        "8ac8099101fb49899cb7edbfe7eaae85": {
          "model_module": "@jupyter-widgets/controls",
          "model_module_version": "1.5.0",
          "model_name": "DescriptionStyleModel",
          "state": {
            "_model_module": "@jupyter-widgets/controls",
            "_model_module_version": "1.5.0",
            "_model_name": "DescriptionStyleModel",
            "_view_count": null,
            "_view_module": "@jupyter-widgets/base",
            "_view_module_version": "1.2.0",
            "_view_name": "StyleView",
            "description_width": ""
          }
        },
        "8c15aa3b39d54c74b3598b7f485230e2": {
          "model_module": "@jupyter-widgets/controls",
          "model_module_version": "1.5.0",
          "model_name": "FloatProgressModel",
          "state": {
            "_dom_classes": [],
            "_model_module": "@jupyter-widgets/controls",
            "_model_module_version": "1.5.0",
            "_model_name": "FloatProgressModel",
            "_view_count": null,
            "_view_module": "@jupyter-widgets/controls",
            "_view_module_version": "1.5.0",
            "_view_name": "ProgressView",
            "bar_style": "success",
            "description": "",
            "description_tooltip": null,
            "layout": "IPY_MODEL_bb01724524034c8abfe9eb949b47cb78",
            "max": 282683,
            "min": 0,
            "orientation": "horizontal",
            "style": "IPY_MODEL_7d7db6e8ac2f4426bd9c26f9c80817ae",
            "value": 282683
          }
        },
        "8f7914cb03c542f193848457f25c7f2e": {
          "model_module": "@jupyter-widgets/controls",
          "model_module_version": "1.5.0",
          "model_name": "DescriptionStyleModel",
          "state": {
            "_model_module": "@jupyter-widgets/controls",
            "_model_module_version": "1.5.0",
            "_model_name": "DescriptionStyleModel",
            "_view_count": null,
            "_view_module": "@jupyter-widgets/base",
            "_view_module_version": "1.2.0",
            "_view_name": "StyleView",
            "description_width": ""
          }
        },
        "8fe498fff8b24d4fb3f92f4bdaa428dd": {
          "model_module": "@jupyter-widgets/controls",
          "model_module_version": "1.5.0",
          "model_name": "HTMLModel",
          "state": {
            "_dom_classes": [],
            "_model_module": "@jupyter-widgets/controls",
            "_model_module_version": "1.5.0",
            "_model_name": "HTMLModel",
            "_view_count": null,
            "_view_module": "@jupyter-widgets/controls",
            "_view_module_version": "1.5.0",
            "_view_name": "HTMLView",
            "description": "",
            "description_tooltip": null,
            "layout": "IPY_MODEL_bc23dde5c5b748fcb9b227a6e42bd354",
            "placeholder": "​",
            "style": "IPY_MODEL_a5c60dd914954e84b7293ce4689d0174",
            "value": "vocab.json: 100%"
          }
        },
        "8fe5e54ba72e415f93e2bca90d4e6304": {
          "model_module": "@jupyter-widgets/controls",
          "model_module_version": "1.5.0",
          "model_name": "HTMLModel",
          "state": {
            "_dom_classes": [],
            "_model_module": "@jupyter-widgets/controls",
            "_model_module_version": "1.5.0",
            "_model_name": "HTMLModel",
            "_view_count": null,
            "_view_module": "@jupyter-widgets/controls",
            "_view_module_version": "1.5.0",
            "_view_name": "HTMLView",
            "description": "",
            "description_tooltip": null,
            "layout": "IPY_MODEL_a4dd52b1bd4540ad99f792a150f573fc",
            "placeholder": "​",
            "style": "IPY_MODEL_8f7914cb03c542f193848457f25c7f2e",
            "value": "added_tokens.json: 100%"
          }
        },
        "931f4d8547b74e8d844de0fe18fdd0b1": {
          "model_module": "@jupyter-widgets/base",
          "model_module_version": "1.2.0",
          "model_name": "LayoutModel",
          "state": {
            "_model_module": "@jupyter-widgets/base",
            "_model_module_version": "1.2.0",
            "_model_name": "LayoutModel",
            "_view_count": null,
            "_view_module": "@jupyter-widgets/base",
            "_view_module_version": "1.2.0",
            "_view_name": "LayoutView",
            "align_content": null,
            "align_items": null,
            "align_self": null,
            "border": null,
            "bottom": null,
            "display": null,
            "flex": null,
            "flex_flow": null,
            "grid_area": null,
            "grid_auto_columns": null,
            "grid_auto_flow": null,
            "grid_auto_rows": null,
            "grid_column": null,
            "grid_gap": null,
            "grid_row": null,
            "grid_template_areas": null,
            "grid_template_columns": null,
            "grid_template_rows": null,
            "height": null,
            "justify_content": null,
            "justify_items": null,
            "left": null,
            "margin": null,
            "max_height": null,
            "max_width": null,
            "min_height": null,
            "min_width": null,
            "object_fit": null,
            "object_position": null,
            "order": null,
            "overflow": null,
            "overflow_x": null,
            "overflow_y": null,
            "padding": null,
            "right": null,
            "top": null,
            "visibility": null,
            "width": null
          }
        },
        "974ea2a4fa4e4cd88907fa580f63a73e": {
          "model_module": "@jupyter-widgets/base",
          "model_module_version": "1.2.0",
          "model_name": "LayoutModel",
          "state": {
            "_model_module": "@jupyter-widgets/base",
            "_model_module_version": "1.2.0",
            "_model_name": "LayoutModel",
            "_view_count": null,
            "_view_module": "@jupyter-widgets/base",
            "_view_module_version": "1.2.0",
            "_view_name": "LayoutView",
            "align_content": null,
            "align_items": null,
            "align_self": null,
            "border": null,
            "bottom": null,
            "display": null,
            "flex": null,
            "flex_flow": null,
            "grid_area": null,
            "grid_auto_columns": null,
            "grid_auto_flow": null,
            "grid_auto_rows": null,
            "grid_column": null,
            "grid_gap": null,
            "grid_row": null,
            "grid_template_areas": null,
            "grid_template_columns": null,
            "grid_template_rows": null,
            "height": null,
            "justify_content": null,
            "justify_items": null,
            "left": null,
            "margin": null,
            "max_height": null,
            "max_width": null,
            "min_height": null,
            "min_width": null,
            "object_fit": null,
            "object_position": null,
            "order": null,
            "overflow": null,
            "overflow_x": null,
            "overflow_y": null,
            "padding": null,
            "right": null,
            "top": null,
            "visibility": null,
            "width": null
          }
        },
        "9858c744c4da49cb90045972cdbabdf7": {
          "model_module": "@jupyter-widgets/controls",
          "model_module_version": "1.5.0",
          "model_name": "HBoxModel",
          "state": {
            "_dom_classes": [],
            "_model_module": "@jupyter-widgets/controls",
            "_model_module_version": "1.5.0",
            "_model_name": "HBoxModel",
            "_view_count": null,
            "_view_module": "@jupyter-widgets/controls",
            "_view_module_version": "1.5.0",
            "_view_name": "HBoxView",
            "box_style": "",
            "children": [
              "IPY_MODEL_c143b73537b148c48f5fbdf94ed45cc0",
              "IPY_MODEL_5aa4630372a545bdaa8aa13adf8dded9",
              "IPY_MODEL_3f13467489184532bb376c16a0def59a"
            ],
            "layout": "IPY_MODEL_12a38487bde94716bf528c319fed2d5e"
          }
        },
        "9ccfacac5470412d9bf46e87939d05a8": {
          "model_module": "@jupyter-widgets/base",
          "model_module_version": "1.2.0",
          "model_name": "LayoutModel",
          "state": {
            "_model_module": "@jupyter-widgets/base",
            "_model_module_version": "1.2.0",
            "_model_name": "LayoutModel",
            "_view_count": null,
            "_view_module": "@jupyter-widgets/base",
            "_view_module_version": "1.2.0",
            "_view_name": "LayoutView",
            "align_content": null,
            "align_items": null,
            "align_self": null,
            "border": null,
            "bottom": null,
            "display": null,
            "flex": null,
            "flex_flow": null,
            "grid_area": null,
            "grid_auto_columns": null,
            "grid_auto_flow": null,
            "grid_auto_rows": null,
            "grid_column": null,
            "grid_gap": null,
            "grid_row": null,
            "grid_template_areas": null,
            "grid_template_columns": null,
            "grid_template_rows": null,
            "height": null,
            "justify_content": null,
            "justify_items": null,
            "left": null,
            "margin": null,
            "max_height": null,
            "max_width": null,
            "min_height": null,
            "min_width": null,
            "object_fit": null,
            "object_position": null,
            "order": null,
            "overflow": null,
            "overflow_x": null,
            "overflow_y": null,
            "padding": null,
            "right": null,
            "top": null,
            "visibility": null,
            "width": null
          }
        },
        "a2d5d2bcb66c48dcb834706e4ac095ad": {
          "model_module": "@jupyter-widgets/controls",
          "model_module_version": "1.5.0",
          "model_name": "DescriptionStyleModel",
          "state": {
            "_model_module": "@jupyter-widgets/controls",
            "_model_module_version": "1.5.0",
            "_model_name": "DescriptionStyleModel",
            "_view_count": null,
            "_view_module": "@jupyter-widgets/base",
            "_view_module_version": "1.2.0",
            "_view_name": "StyleView",
            "description_width": ""
          }
        },
        "a2d729557a174d9c8c83ee25d0699675": {
          "model_module": "@jupyter-widgets/controls",
          "model_module_version": "1.5.0",
          "model_name": "FloatProgressModel",
          "state": {
            "_dom_classes": [],
            "_model_module": "@jupyter-widgets/controls",
            "_model_module_version": "1.5.0",
            "_model_name": "FloatProgressModel",
            "_view_count": null,
            "_view_module": "@jupyter-widgets/controls",
            "_view_module_version": "1.5.0",
            "_view_name": "ProgressView",
            "bar_style": "success",
            "description": "",
            "description_tooltip": null,
            "layout": "IPY_MODEL_b4a2011d4d834896acb2e554e0427b41",
            "max": 52666,
            "min": 0,
            "orientation": "horizontal",
            "style": "IPY_MODEL_c9fa9b7654984e65906954daf8c97552",
            "value": 52666
          }
        },
        "a4dd52b1bd4540ad99f792a150f573fc": {
          "model_module": "@jupyter-widgets/base",
          "model_module_version": "1.2.0",
          "model_name": "LayoutModel",
          "state": {
            "_model_module": "@jupyter-widgets/base",
            "_model_module_version": "1.2.0",
            "_model_name": "LayoutModel",
            "_view_count": null,
            "_view_module": "@jupyter-widgets/base",
            "_view_module_version": "1.2.0",
            "_view_name": "LayoutView",
            "align_content": null,
            "align_items": null,
            "align_self": null,
            "border": null,
            "bottom": null,
            "display": null,
            "flex": null,
            "flex_flow": null,
            "grid_area": null,
            "grid_auto_columns": null,
            "grid_auto_flow": null,
            "grid_auto_rows": null,
            "grid_column": null,
            "grid_gap": null,
            "grid_row": null,
            "grid_template_areas": null,
            "grid_template_columns": null,
            "grid_template_rows": null,
            "height": null,
            "justify_content": null,
            "justify_items": null,
            "left": null,
            "margin": null,
            "max_height": null,
            "max_width": null,
            "min_height": null,
            "min_width": null,
            "object_fit": null,
            "object_position": null,
            "order": null,
            "overflow": null,
            "overflow_x": null,
            "overflow_y": null,
            "padding": null,
            "right": null,
            "top": null,
            "visibility": null,
            "width": null
          }
        },
        "a5c60dd914954e84b7293ce4689d0174": {
          "model_module": "@jupyter-widgets/controls",
          "model_module_version": "1.5.0",
          "model_name": "DescriptionStyleModel",
          "state": {
            "_model_module": "@jupyter-widgets/controls",
            "_model_module_version": "1.5.0",
            "_model_name": "DescriptionStyleModel",
            "_view_count": null,
            "_view_module": "@jupyter-widgets/base",
            "_view_module_version": "1.2.0",
            "_view_name": "StyleView",
            "description_width": ""
          }
        },
        "aa3380107d914fd6a99996813b4058d3": {
          "model_module": "@jupyter-widgets/controls",
          "model_module_version": "1.5.0",
          "model_name": "ProgressStyleModel",
          "state": {
            "_model_module": "@jupyter-widgets/controls",
            "_model_module_version": "1.5.0",
            "_model_name": "ProgressStyleModel",
            "_view_count": null,
            "_view_module": "@jupyter-widgets/base",
            "_view_module_version": "1.2.0",
            "_view_name": "StyleView",
            "bar_color": null,
            "description_width": ""
          }
        },
        "b0d3bcfb6e9b425dbeb1b04d176e2c46": {
          "model_module": "@jupyter-widgets/controls",
          "model_module_version": "1.5.0",
          "model_name": "DescriptionStyleModel",
          "state": {
            "_model_module": "@jupyter-widgets/controls",
            "_model_module_version": "1.5.0",
            "_model_name": "DescriptionStyleModel",
            "_view_count": null,
            "_view_module": "@jupyter-widgets/base",
            "_view_module_version": "1.2.0",
            "_view_name": "StyleView",
            "description_width": ""
          }
        },
        "b4a2011d4d834896acb2e554e0427b41": {
          "model_module": "@jupyter-widgets/base",
          "model_module_version": "1.2.0",
          "model_name": "LayoutModel",
          "state": {
            "_model_module": "@jupyter-widgets/base",
            "_model_module_version": "1.2.0",
            "_model_name": "LayoutModel",
            "_view_count": null,
            "_view_module": "@jupyter-widgets/base",
            "_view_module_version": "1.2.0",
            "_view_name": "LayoutView",
            "align_content": null,
            "align_items": null,
            "align_self": null,
            "border": null,
            "bottom": null,
            "display": null,
            "flex": null,
            "flex_flow": null,
            "grid_area": null,
            "grid_auto_columns": null,
            "grid_auto_flow": null,
            "grid_auto_rows": null,
            "grid_column": null,
            "grid_gap": null,
            "grid_row": null,
            "grid_template_areas": null,
            "grid_template_columns": null,
            "grid_template_rows": null,
            "height": null,
            "justify_content": null,
            "justify_items": null,
            "left": null,
            "margin": null,
            "max_height": null,
            "max_width": null,
            "min_height": null,
            "min_width": null,
            "object_fit": null,
            "object_position": null,
            "order": null,
            "overflow": null,
            "overflow_x": null,
            "overflow_y": null,
            "padding": null,
            "right": null,
            "top": null,
            "visibility": null,
            "width": null
          }
        },
        "b69eeef38e7b4a3e85998e7fd530a659": {
          "model_module": "@jupyter-widgets/base",
          "model_module_version": "1.2.0",
          "model_name": "LayoutModel",
          "state": {
            "_model_module": "@jupyter-widgets/base",
            "_model_module_version": "1.2.0",
            "_model_name": "LayoutModel",
            "_view_count": null,
            "_view_module": "@jupyter-widgets/base",
            "_view_module_version": "1.2.0",
            "_view_name": "LayoutView",
            "align_content": null,
            "align_items": null,
            "align_self": null,
            "border": null,
            "bottom": null,
            "display": null,
            "flex": null,
            "flex_flow": null,
            "grid_area": null,
            "grid_auto_columns": null,
            "grid_auto_flow": null,
            "grid_auto_rows": null,
            "grid_column": null,
            "grid_gap": null,
            "grid_row": null,
            "grid_template_areas": null,
            "grid_template_columns": null,
            "grid_template_rows": null,
            "height": null,
            "justify_content": null,
            "justify_items": null,
            "left": null,
            "margin": null,
            "max_height": null,
            "max_width": null,
            "min_height": null,
            "min_width": null,
            "object_fit": null,
            "object_position": null,
            "order": null,
            "overflow": null,
            "overflow_x": null,
            "overflow_y": null,
            "padding": null,
            "right": null,
            "top": null,
            "visibility": null,
            "width": null
          }
        },
        "b8812b76411a4eefa73e6b4845135085": {
          "model_module": "@jupyter-widgets/base",
          "model_module_version": "1.2.0",
          "model_name": "LayoutModel",
          "state": {
            "_model_module": "@jupyter-widgets/base",
            "_model_module_version": "1.2.0",
            "_model_name": "LayoutModel",
            "_view_count": null,
            "_view_module": "@jupyter-widgets/base",
            "_view_module_version": "1.2.0",
            "_view_name": "LayoutView",
            "align_content": null,
            "align_items": null,
            "align_self": null,
            "border": null,
            "bottom": null,
            "display": null,
            "flex": null,
            "flex_flow": null,
            "grid_area": null,
            "grid_auto_columns": null,
            "grid_auto_flow": null,
            "grid_auto_rows": null,
            "grid_column": null,
            "grid_gap": null,
            "grid_row": null,
            "grid_template_areas": null,
            "grid_template_columns": null,
            "grid_template_rows": null,
            "height": null,
            "justify_content": null,
            "justify_items": null,
            "left": null,
            "margin": null,
            "max_height": null,
            "max_width": null,
            "min_height": null,
            "min_width": null,
            "object_fit": null,
            "object_position": null,
            "order": null,
            "overflow": null,
            "overflow_x": null,
            "overflow_y": null,
            "padding": null,
            "right": null,
            "top": null,
            "visibility": null,
            "width": null
          }
        },
        "bb01724524034c8abfe9eb949b47cb78": {
          "model_module": "@jupyter-widgets/base",
          "model_module_version": "1.2.0",
          "model_name": "LayoutModel",
          "state": {
            "_model_module": "@jupyter-widgets/base",
            "_model_module_version": "1.2.0",
            "_model_name": "LayoutModel",
            "_view_count": null,
            "_view_module": "@jupyter-widgets/base",
            "_view_module_version": "1.2.0",
            "_view_name": "LayoutView",
            "align_content": null,
            "align_items": null,
            "align_self": null,
            "border": null,
            "bottom": null,
            "display": null,
            "flex": null,
            "flex_flow": null,
            "grid_area": null,
            "grid_auto_columns": null,
            "grid_auto_flow": null,
            "grid_auto_rows": null,
            "grid_column": null,
            "grid_gap": null,
            "grid_row": null,
            "grid_template_areas": null,
            "grid_template_columns": null,
            "grid_template_rows": null,
            "height": null,
            "justify_content": null,
            "justify_items": null,
            "left": null,
            "margin": null,
            "max_height": null,
            "max_width": null,
            "min_height": null,
            "min_width": null,
            "object_fit": null,
            "object_position": null,
            "order": null,
            "overflow": null,
            "overflow_x": null,
            "overflow_y": null,
            "padding": null,
            "right": null,
            "top": null,
            "visibility": null,
            "width": null
          }
        },
        "bc23dde5c5b748fcb9b227a6e42bd354": {
          "model_module": "@jupyter-widgets/base",
          "model_module_version": "1.2.0",
          "model_name": "LayoutModel",
          "state": {
            "_model_module": "@jupyter-widgets/base",
            "_model_module_version": "1.2.0",
            "_model_name": "LayoutModel",
            "_view_count": null,
            "_view_module": "@jupyter-widgets/base",
            "_view_module_version": "1.2.0",
            "_view_name": "LayoutView",
            "align_content": null,
            "align_items": null,
            "align_self": null,
            "border": null,
            "bottom": null,
            "display": null,
            "flex": null,
            "flex_flow": null,
            "grid_area": null,
            "grid_auto_columns": null,
            "grid_auto_flow": null,
            "grid_auto_rows": null,
            "grid_column": null,
            "grid_gap": null,
            "grid_row": null,
            "grid_template_areas": null,
            "grid_template_columns": null,
            "grid_template_rows": null,
            "height": null,
            "justify_content": null,
            "justify_items": null,
            "left": null,
            "margin": null,
            "max_height": null,
            "max_width": null,
            "min_height": null,
            "min_width": null,
            "object_fit": null,
            "object_position": null,
            "order": null,
            "overflow": null,
            "overflow_x": null,
            "overflow_y": null,
            "padding": null,
            "right": null,
            "top": null,
            "visibility": null,
            "width": null
          }
        },
        "bcd8b661cf5f4472a0e1c05390461d5d": {
          "model_module": "@jupyter-widgets/controls",
          "model_module_version": "1.5.0",
          "model_name": "HTMLModel",
          "state": {
            "_dom_classes": [],
            "_model_module": "@jupyter-widgets/controls",
            "_model_module_version": "1.5.0",
            "_model_name": "HTMLModel",
            "_view_count": null,
            "_view_module": "@jupyter-widgets/controls",
            "_view_module_version": "1.5.0",
            "_view_name": "HTMLView",
            "description": "",
            "description_tooltip": null,
            "layout": "IPY_MODEL_0e7c3edd05d346cc9f0d1b04f3b38ed1",
            "placeholder": "​",
            "style": "IPY_MODEL_c0a02d6dd1e04085afab3e4b16c1c80e",
            "value": "normalizer.json: 100%"
          }
        },
        "bf275399e3144234adb06ce3ce3cab0c": {
          "model_module": "@jupyter-widgets/controls",
          "model_module_version": "1.5.0",
          "model_name": "HBoxModel",
          "state": {
            "_dom_classes": [],
            "_model_module": "@jupyter-widgets/controls",
            "_model_module_version": "1.5.0",
            "_model_name": "HBoxModel",
            "_view_count": null,
            "_view_module": "@jupyter-widgets/controls",
            "_view_module_version": "1.5.0",
            "_view_name": "HBoxView",
            "box_style": "",
            "children": [
              "IPY_MODEL_8fe498fff8b24d4fb3f92f4bdaa428dd",
              "IPY_MODEL_eb293fa6bae043e9a2e67035e0684ae1",
              "IPY_MODEL_c6ddc856f0044ae993a537fc65a349bc"
            ],
            "layout": "IPY_MODEL_931f4d8547b74e8d844de0fe18fdd0b1"
          }
        },
        "c0a02d6dd1e04085afab3e4b16c1c80e": {
          "model_module": "@jupyter-widgets/controls",
          "model_module_version": "1.5.0",
          "model_name": "DescriptionStyleModel",
          "state": {
            "_model_module": "@jupyter-widgets/controls",
            "_model_module_version": "1.5.0",
            "_model_name": "DescriptionStyleModel",
            "_view_count": null,
            "_view_module": "@jupyter-widgets/base",
            "_view_module_version": "1.2.0",
            "_view_name": "StyleView",
            "description_width": ""
          }
        },
        "c143b73537b148c48f5fbdf94ed45cc0": {
          "model_module": "@jupyter-widgets/controls",
          "model_module_version": "1.5.0",
          "model_name": "HTMLModel",
          "state": {
            "_dom_classes": [],
            "_model_module": "@jupyter-widgets/controls",
            "_model_module_version": "1.5.0",
            "_model_name": "HTMLModel",
            "_view_count": null,
            "_view_module": "@jupyter-widgets/controls",
            "_view_module_version": "1.5.0",
            "_view_name": "HTMLView",
            "description": "",
            "description_tooltip": null,
            "layout": "IPY_MODEL_304b81f81733462695a4c8cfb0355d6c",
            "placeholder": "​",
            "style": "IPY_MODEL_eba608eb6de54a21a8c7a0cec51c0ab3",
            "value": "special_tokens_map.json: 100%"
          }
        },
        "c34d27ea99c746409103fde501550a63": {
          "model_module": "@jupyter-widgets/controls",
          "model_module_version": "1.5.0",
          "model_name": "DescriptionStyleModel",
          "state": {
            "_model_module": "@jupyter-widgets/controls",
            "_model_module_version": "1.5.0",
            "_model_name": "DescriptionStyleModel",
            "_view_count": null,
            "_view_module": "@jupyter-widgets/base",
            "_view_module_version": "1.2.0",
            "_view_name": "StyleView",
            "description_width": ""
          }
        },
        "c4a74d4c7932499b988dd16d9265897f": {
          "model_module": "@jupyter-widgets/controls",
          "model_module_version": "1.5.0",
          "model_name": "DescriptionStyleModel",
          "state": {
            "_model_module": "@jupyter-widgets/controls",
            "_model_module_version": "1.5.0",
            "_model_name": "DescriptionStyleModel",
            "_view_count": null,
            "_view_module": "@jupyter-widgets/base",
            "_view_module_version": "1.2.0",
            "_view_name": "StyleView",
            "description_width": ""
          }
        },
        "c6ddc856f0044ae993a537fc65a349bc": {
          "model_module": "@jupyter-widgets/controls",
          "model_module_version": "1.5.0",
          "model_name": "HTMLModel",
          "state": {
            "_dom_classes": [],
            "_model_module": "@jupyter-widgets/controls",
            "_model_module_version": "1.5.0",
            "_model_name": "HTMLModel",
            "_view_count": null,
            "_view_module": "@jupyter-widgets/controls",
            "_view_module_version": "1.5.0",
            "_view_name": "HTMLView",
            "description": "",
            "description_tooltip": null,
            "layout": "IPY_MODEL_b8812b76411a4eefa73e6b4845135085",
            "placeholder": "​",
            "style": "IPY_MODEL_7f23f280e7384b2198efec08c9a56bd5",
            "value": " 836k/836k [00:00&lt;00:00, 1.61MB/s]"
          }
        },
        "c8d3f46c83744d52bb0a1885453bcee0": {
          "model_module": "@jupyter-widgets/base",
          "model_module_version": "1.2.0",
          "model_name": "LayoutModel",
          "state": {
            "_model_module": "@jupyter-widgets/base",
            "_model_module_version": "1.2.0",
            "_model_name": "LayoutModel",
            "_view_count": null,
            "_view_module": "@jupyter-widgets/base",
            "_view_module_version": "1.2.0",
            "_view_name": "LayoutView",
            "align_content": null,
            "align_items": null,
            "align_self": null,
            "border": null,
            "bottom": null,
            "display": null,
            "flex": null,
            "flex_flow": null,
            "grid_area": null,
            "grid_auto_columns": null,
            "grid_auto_flow": null,
            "grid_auto_rows": null,
            "grid_column": null,
            "grid_gap": null,
            "grid_row": null,
            "grid_template_areas": null,
            "grid_template_columns": null,
            "grid_template_rows": null,
            "height": null,
            "justify_content": null,
            "justify_items": null,
            "left": null,
            "margin": null,
            "max_height": null,
            "max_width": null,
            "min_height": null,
            "min_width": null,
            "object_fit": null,
            "object_position": null,
            "order": null,
            "overflow": null,
            "overflow_x": null,
            "overflow_y": null,
            "padding": null,
            "right": null,
            "top": null,
            "visibility": null,
            "width": null
          }
        },
        "c9fa9b7654984e65906954daf8c97552": {
          "model_module": "@jupyter-widgets/controls",
          "model_module_version": "1.5.0",
          "model_name": "ProgressStyleModel",
          "state": {
            "_model_module": "@jupyter-widgets/controls",
            "_model_module_version": "1.5.0",
            "_model_name": "ProgressStyleModel",
            "_view_count": null,
            "_view_module": "@jupyter-widgets/base",
            "_view_module_version": "1.2.0",
            "_view_name": "StyleView",
            "bar_color": null,
            "description_width": ""
          }
        },
        "cce3cf63e1e342e885ba249d392958b0": {
          "model_module": "@jupyter-widgets/controls",
          "model_module_version": "1.5.0",
          "model_name": "ProgressStyleModel",
          "state": {
            "_model_module": "@jupyter-widgets/controls",
            "_model_module_version": "1.5.0",
            "_model_name": "ProgressStyleModel",
            "_view_count": null,
            "_view_module": "@jupyter-widgets/base",
            "_view_module_version": "1.2.0",
            "_view_name": "StyleView",
            "bar_color": null,
            "description_width": ""
          }
        },
        "d05904542e5d4179a8768763718bb16d": {
          "model_module": "@jupyter-widgets/controls",
          "model_module_version": "1.5.0",
          "model_name": "HTMLModel",
          "state": {
            "_dom_classes": [],
            "_model_module": "@jupyter-widgets/controls",
            "_model_module_version": "1.5.0",
            "_model_name": "HTMLModel",
            "_view_count": null,
            "_view_module": "@jupyter-widgets/controls",
            "_view_module_version": "1.5.0",
            "_view_name": "HTMLView",
            "description": "",
            "description_tooltip": null,
            "layout": "IPY_MODEL_d98c5ffa08e94b959bdcc26a2ab21166",
            "placeholder": "​",
            "style": "IPY_MODEL_8ac8099101fb49899cb7edbfe7eaae85",
            "value": "tokenizer.json: 100%"
          }
        },
        "d3fb72a5d58a41ddb69259fe3708cfc4": {
          "model_module": "@jupyter-widgets/controls",
          "model_module_version": "1.5.0",
          "model_name": "FloatProgressModel",
          "state": {
            "_dom_classes": [],
            "_model_module": "@jupyter-widgets/controls",
            "_model_module_version": "1.5.0",
            "_model_name": "FloatProgressModel",
            "_view_count": null,
            "_view_module": "@jupyter-widgets/controls",
            "_view_module_version": "1.5.0",
            "_view_name": "ProgressView",
            "bar_style": "success",
            "description": "",
            "description_tooltip": null,
            "layout": "IPY_MODEL_67ae7e9c45c349a4a18ea7d2094eca45",
            "max": 184990,
            "min": 0,
            "orientation": "horizontal",
            "style": "IPY_MODEL_6e7dd07ee8fe4abba49b1143c2ae3933",
            "value": 184990
          }
        },
        "d98c5ffa08e94b959bdcc26a2ab21166": {
          "model_module": "@jupyter-widgets/base",
          "model_module_version": "1.2.0",
          "model_name": "LayoutModel",
          "state": {
            "_model_module": "@jupyter-widgets/base",
            "_model_module_version": "1.2.0",
            "_model_name": "LayoutModel",
            "_view_count": null,
            "_view_module": "@jupyter-widgets/base",
            "_view_module_version": "1.2.0",
            "_view_name": "LayoutView",
            "align_content": null,
            "align_items": null,
            "align_self": null,
            "border": null,
            "bottom": null,
            "display": null,
            "flex": null,
            "flex_flow": null,
            "grid_area": null,
            "grid_auto_columns": null,
            "grid_auto_flow": null,
            "grid_auto_rows": null,
            "grid_column": null,
            "grid_gap": null,
            "grid_row": null,
            "grid_template_areas": null,
            "grid_template_columns": null,
            "grid_template_rows": null,
            "height": null,
            "justify_content": null,
            "justify_items": null,
            "left": null,
            "margin": null,
            "max_height": null,
            "max_width": null,
            "min_height": null,
            "min_width": null,
            "object_fit": null,
            "object_position": null,
            "order": null,
            "overflow": null,
            "overflow_x": null,
            "overflow_y": null,
            "padding": null,
            "right": null,
            "top": null,
            "visibility": null,
            "width": null
          }
        },
        "dc64eaaaeace4668855c9b765185a513": {
          "model_module": "@jupyter-widgets/base",
          "model_module_version": "1.2.0",
          "model_name": "LayoutModel",
          "state": {
            "_model_module": "@jupyter-widgets/base",
            "_model_module_version": "1.2.0",
            "_model_name": "LayoutModel",
            "_view_count": null,
            "_view_module": "@jupyter-widgets/base",
            "_view_module_version": "1.2.0",
            "_view_name": "LayoutView",
            "align_content": null,
            "align_items": null,
            "align_self": null,
            "border": null,
            "bottom": null,
            "display": null,
            "flex": null,
            "flex_flow": null,
            "grid_area": null,
            "grid_auto_columns": null,
            "grid_auto_flow": null,
            "grid_auto_rows": null,
            "grid_column": null,
            "grid_gap": null,
            "grid_row": null,
            "grid_template_areas": null,
            "grid_template_columns": null,
            "grid_template_rows": null,
            "height": null,
            "justify_content": null,
            "justify_items": null,
            "left": null,
            "margin": null,
            "max_height": null,
            "max_width": null,
            "min_height": null,
            "min_width": null,
            "object_fit": null,
            "object_position": null,
            "order": null,
            "overflow": null,
            "overflow_x": null,
            "overflow_y": null,
            "padding": null,
            "right": null,
            "top": null,
            "visibility": null,
            "width": null
          }
        },
        "df7955a92f354bbd82fb835c59955c3b": {
          "model_module": "@jupyter-widgets/controls",
          "model_module_version": "1.5.0",
          "model_name": "DescriptionStyleModel",
          "state": {
            "_model_module": "@jupyter-widgets/controls",
            "_model_module_version": "1.5.0",
            "_model_name": "DescriptionStyleModel",
            "_view_count": null,
            "_view_module": "@jupyter-widgets/base",
            "_view_module_version": "1.2.0",
            "_view_name": "StyleView",
            "description_width": ""
          }
        },
        "eb293fa6bae043e9a2e67035e0684ae1": {
          "model_module": "@jupyter-widgets/controls",
          "model_module_version": "1.5.0",
          "model_name": "FloatProgressModel",
          "state": {
            "_dom_classes": [],
            "_model_module": "@jupyter-widgets/controls",
            "_model_module_version": "1.5.0",
            "_model_name": "FloatProgressModel",
            "_view_count": null,
            "_view_module": "@jupyter-widgets/controls",
            "_view_module_version": "1.5.0",
            "_view_name": "ProgressView",
            "bar_style": "success",
            "description": "",
            "description_tooltip": null,
            "layout": "IPY_MODEL_7b60fb6b37c04fc1a9d40675ac2bc1b9",
            "max": 835550,
            "min": 0,
            "orientation": "horizontal",
            "style": "IPY_MODEL_cce3cf63e1e342e885ba249d392958b0",
            "value": 835550
          }
        },
        "eba608eb6de54a21a8c7a0cec51c0ab3": {
          "model_module": "@jupyter-widgets/controls",
          "model_module_version": "1.5.0",
          "model_name": "DescriptionStyleModel",
          "state": {
            "_model_module": "@jupyter-widgets/controls",
            "_model_module_version": "1.5.0",
            "_model_name": "DescriptionStyleModel",
            "_view_count": null,
            "_view_module": "@jupyter-widgets/base",
            "_view_module_version": "1.2.0",
            "_view_name": "StyleView",
            "description_width": ""
          }
        },
        "f0df680ee5484cfc947bdaaa16f39535": {
          "model_module": "@jupyter-widgets/controls",
          "model_module_version": "1.5.0",
          "model_name": "HBoxModel",
          "state": {
            "_dom_classes": [],
            "_model_module": "@jupyter-widgets/controls",
            "_model_module_version": "1.5.0",
            "_model_name": "HBoxModel",
            "_view_count": null,
            "_view_module": "@jupyter-widgets/controls",
            "_view_module_version": "1.5.0",
            "_view_name": "HBoxView",
            "box_style": "",
            "children": [
              "IPY_MODEL_8496accf7e6147d891d3ad0d4c2039cc",
              "IPY_MODEL_d3fb72a5d58a41ddb69259fe3708cfc4",
              "IPY_MODEL_7727738b371a43d7aed39e8bd449e69b"
            ],
            "layout": "IPY_MODEL_dc64eaaaeace4668855c9b765185a513"
          }
        },
        "ff90735f90614bb7aa3865875798242f": {
          "model_module": "@jupyter-widgets/controls",
          "model_module_version": "1.5.0",
          "model_name": "HTMLModel",
          "state": {
            "_dom_classes": [],
            "_model_module": "@jupyter-widgets/controls",
            "_model_module_version": "1.5.0",
            "_model_name": "HTMLModel",
            "_view_count": null,
            "_view_module": "@jupyter-widgets/controls",
            "_view_module_version": "1.5.0",
            "_view_name": "HTMLView",
            "description": "",
            "description_tooltip": null,
            "layout": "IPY_MODEL_6eabb05a58ca45f19e86b62059acad07",
            "placeholder": "​",
            "style": "IPY_MODEL_a2d5d2bcb66c48dcb834706e4ac095ad",
            "value": "tokenizer_config.json: 100%"
          }
        }
      }
    }
  },
  "nbformat": 4,
  "nbformat_minor": 0
}
