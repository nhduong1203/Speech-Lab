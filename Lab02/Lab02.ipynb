{
 "cells": [
  {
   "cell_type": "markdown",
   "metadata": {},
   "source": [
    "# Convert English texts into the phonetics"
   ]
  },
  {
   "cell_type": "markdown",
   "metadata": {},
   "source": [
    "## Install library\n",
    "\n",
    "There are many lib for convert english to phonetic, for example:\n",
    "- phonemize\n",
    "- pronouncing\n",
    "- eng_to_ipa\n",
    "\n",
    "In this lab, we will use eng_to_ipa. You can examine how to use other library in your free time\n",
    "\n",
    "To install eng_to_ipa, we active our virtual enviroment and run this command in terminal\n",
    "```terminal\n",
    "pip install eng_to_ipa\n",
    "```"
   ]
  },
  {
   "cell_type": "code",
   "execution_count": 4,
   "metadata": {},
   "outputs": [
    {
     "name": "stdout",
     "output_type": "stream",
     "text": [
      "hɛˈloʊ, haʊ ər ju?\n"
     ]
    }
   ],
   "source": [
    "import eng_to_ipa as ipa\n",
    "\n",
    "text = \"Hello, how are you?\"\n",
    "phonemes = ipa.convert(text)\n",
    "print(phonemes)\n"
   ]
  },
  {
   "cell_type": "markdown",
   "metadata": {},
   "source": [
    "# Practice signal processing with python"
   ]
  }
 ],
 "metadata": {
  "kernelspec": {
   "display_name": "env",
   "language": "python",
   "name": "python3"
  },
  "language_info": {
   "codemirror_mode": {
    "name": "ipython",
    "version": 3
   },
   "file_extension": ".py",
   "mimetype": "text/x-python",
   "name": "python",
   "nbconvert_exporter": "python",
   "pygments_lexer": "ipython3",
   "version": "3.11.6"
  }
 },
 "nbformat": 4,
 "nbformat_minor": 2
}
