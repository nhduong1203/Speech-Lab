{
 "cells": [
  {
   "cell_type": "markdown",
   "metadata": {},
   "source": [
    "# Convert English texts into the phonetics"
   ]
  },
  {
   "cell_type": "markdown",
   "metadata": {},
   "source": [
    "## Install library\n",
    "\n",
    "To convert English text to phonetic transcription, you can use various libraries designed for phonetic conversion and speech processing.\n",
    "- nltk\n",
    "- pronouncing\n",
    "- eng_to_ipa\n",
    "- ...\n",
    "\n",
    "\n",
    "```terminal\n",
    "pip install requirements.txt\n",
    "```\n",
    "\n",
    "## 1. `eng_to_ipa`\n",
    "\n",
    "`eng_to_ipa` is a straightforward library for converting English text into IPA transcriptions.\n"
   ]
  },
  {
   "cell_type": "code",
   "execution_count": 4,
   "metadata": {},
   "outputs": [
    {
     "name": "stdout",
     "output_type": "stream",
     "text": [
      "hɛˈloʊ, haʊ ər ju?\n"
     ]
    }
   ],
   "source": [
    "import eng_to_ipa as ipa\n",
    "\n",
    "text = \"Hello, how are you?\"\n",
    "phonemes = ipa.convert(text)\n",
    "print(phonemes)\n"
   ]
  },
  {
   "cell_type": "markdown",
   "metadata": {},
   "source": [
    "2. `pronouncing`\n",
    "\n",
    "`pronouncing` is a library that uses the CMU Pronouncing Dictionary to provide phonetic transcriptions for English words. This library focuses on word-level pronunciation, making it useful for applications like poetry or rhyming."
   ]
  },
  {
   "cell_type": "code",
   "execution_count": null,
   "metadata": {},
   "outputs": [],
   "source": [
    "import pronouncing\n",
    "\n",
    "# Get phonetic transcription of a word\n",
    "word = \"hello\"\n",
    "phones = pronouncing.phones_for_word(word)\n",
    "\n",
    "print(phones)"
   ]
  },
  {
   "cell_type": "markdown",
   "metadata": {},
   "source": [
    "3. `nltk` (with CMU Pronouncing Dictionary)\n",
    "The `nltk` (Natural Language Toolkit) library also includes access to the CMU Pronouncing Dictionary, which can be used to get phonetic transcriptions for English words."
   ]
  },
  {
   "cell_type": "code",
   "execution_count": null,
   "metadata": {},
   "outputs": [],
   "source": [
    "import nltk\n",
    "from nltk.corpus import cmudict\n",
    "\n",
    "# Download CMU Pronouncing Dictionary\n",
    "nltk.download('cmudict')\n",
    "\n",
    "# Load dictionary\n",
    "d = cmudict.dict()\n",
    "\n",
    "# Get phonetic transcription of a word\n",
    "word = \"hello\"\n",
    "phonetic_transcription = d.get(word)\n",
    "\n",
    "print(phonetic_transcription)\n"
   ]
  },
  {
   "cell_type": "markdown",
   "metadata": {},
   "source": [
    "# Practice signal processing with python"
   ]
  },
  {
   "cell_type": "code",
   "execution_count": null,
   "metadata": {},
   "outputs": [],
   "source": [
    "import numpy as np\n",
    "import matplotlib.pyplot as plt\n",
    "import librosa.display\n",
    "\n",
    "plt.figure(figsize=(12, 4))\n",
    "librosa.display.waveshow(data, sr=sampling_rate)\n",
    "plt.show()"
   ]
  },
  {
   "cell_type": "code",
   "execution_count": null,
   "metadata": {},
   "outputs": [],
   "source": [
    "n_fft = 2048\n",
    "plt.figure(figsize=(12, 4))\n",
    "ft = np.abs(librosa.stft(data[:n_fft], hop_length = n_fft+1))\n",
    "plt.plot(ft)\n",
    "plt.title('Spectrum')\n",
    "plt.xlabel('Frequency Bin')\n",
    "plt.ylabel('Amplitude')"
   ]
  },
  {
   "cell_type": "code",
   "execution_count": null,
   "metadata": {},
   "outputs": [],
   "source": [
    "D = librosa.stft(data)  # STFT of y\n",
    "S_db = librosa.amplitude_to_db(np.abs(D), ref=np.max)\n",
    "fig, ax = plt.subplots()\n",
    "img = librosa.display.specshow(S_db, x_axis='time', y_axis='linear', ax=ax)\n",
    "ax.set(title='Now with labeled axes!')\n",
    "fig.colorbar(img, ax=ax, format=\"%+2.f dB\")"
   ]
  },
  {
   "cell_type": "code",
   "execution_count": null,
   "metadata": {},
   "outputs": [],
   "source": [
    "S = librosa.feature.melspectrogram(y=data, sr=sampling_rate, n_mels=128, fmax=8000)\n",
    "fig, ax = plt.subplots(nrows=2, sharex=True)\n",
    "\n",
    "img = librosa.display.specshow(librosa.power_to_db(S, ref=np.max),\n",
    "                               x_axis='time', y_axis='mel', fmax=8000,\n",
    "                               ax=ax[0])\n",
    "\n",
    "fig.colorbar(img, ax=[ax[0]])\n",
    "ax[0].set(title='Mel spectrogram')\n",
    "ax[0].label_outer()\n",
    "mfccs = librosa.feature.mfcc(y=data, sr=sampling_rate, n_mfcc=40)\n",
    "img = librosa.display.specshow(mfccs, x_axis='time', ax=ax[1])\n",
    "fig.colorbar(img, ax=[ax[1]])\n",
    "ax[1].set(title='MFCC')"
   ]
  }
 ],
 "metadata": {
  "kernelspec": {
   "display_name": "env",
   "language": "python",
   "name": "python3"
  },
  "language_info": {
   "codemirror_mode": {
    "name": "ipython",
    "version": 3
   },
   "file_extension": ".py",
   "mimetype": "text/x-python",
   "name": "python",
   "nbconvert_exporter": "python",
   "pygments_lexer": "ipython3",
   "version": "3.11.6"
  }
 },
 "nbformat": 4,
 "nbformat_minor": 2
}
