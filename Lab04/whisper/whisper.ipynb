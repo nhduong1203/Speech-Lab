{
 "cells": [
  {
   "cell_type": "markdown",
   "metadata": {},
   "source": [
    "\n",
    "# Whisper\n",
    "\n",
    "Whisper is a pre-trained model for automatic speech recognition (ASR) and speech translation. Trained on 680k hours of labelled data, Whisper models demonstrate a strong ability to generalise to many datasets and domains without the need for fine-tuning.\n",
    "\n",
    "Whisper was proposed in the paper Robust Speech Recognition via Large-Scale Weak Supervision by Alec Radford et al from OpenAI. \n",
    "\n",
    "Write some introduction about Weak Supervision"
   ]
  },
  {
   "cell_type": "markdown",
   "metadata": {},
   "source": [
    "# Introduction about Hugging face\n",
    "\n",
    "Hugging Face is a company specializing in natural language processing (NLP) and machine learning. It has gained prominence for its contributions to open-source AI, particularly through its `Transformers` library, which provides pre-trained models for a range of NLP tasks. \n",
    "\n",
    "**Transformers Library:** A popular library that provides state-of-the-art pre-trained models for NLP tasks like text classification, translation, and generation. Provides access to pre-trained models from leading AI research, such as BERT, GPT, and T5. It simplifies fine-tuning and deployment of these models for specific tasks.\n",
    "\n",
    "There several pretrained Whisper model for several size and purpose, you can visit the openAI site on hugging face for more detail https://huggingface.co/openai. \n",
    "\n",
    "In this lab, we will use `openai/whisper-small`."
   ]
  },
  {
   "cell_type": "code",
   "execution_count": null,
   "metadata": {},
   "outputs": [],
   "source": [
    "# Load model directly\n",
    "from transformers import AutoProcessor, AutoModelForSpeechSeq2Seq\n",
    "\n",
    "processor = AutoProcessor.from_pretrained(\"openai/whisper-large\")\n",
    "model = AutoModelForSpeechSeq2Seq.from_pretrained(\"openai/whisper-large\")"
   ]
  }
 ],
 "metadata": {
  "kernelspec": {
   "display_name": "env",
   "language": "python",
   "name": "python3"
  },
  "language_info": {
   "name": "python",
   "version": "3.11.6"
  }
 },
 "nbformat": 4,
 "nbformat_minor": 2
}
